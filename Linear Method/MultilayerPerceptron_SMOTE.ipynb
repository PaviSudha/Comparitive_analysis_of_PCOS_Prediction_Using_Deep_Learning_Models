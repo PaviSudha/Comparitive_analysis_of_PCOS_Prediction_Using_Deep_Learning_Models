{
 "cells": [
  {
   "cell_type": "code",
   "execution_count": 3,
   "id": "f6994fe8",
   "metadata": {},
   "outputs": [],
   "source": [
    "import pandas as pd\n",
    "import matplotlib.pyplot as plt\n",
    "\n",
    "from sklearn.model_selection import train_test_split\n",
    "from sklearn.preprocessing import StandardScaler\n",
    "from sklearn import metrics\n",
    "\n",
    "from sklearn.metrics import confusion_matrix \n",
    "from sklearn.metrics import accuracy_score \n",
    "from sklearn.metrics import classification_report \n",
    "\n",
    "from sklearn.decomposition import PCA\n",
    "import seaborn as sns"
   ]
  },
  {
   "cell_type": "code",
   "execution_count": 4,
   "id": "e1e3607f",
   "metadata": {},
   "outputs": [],
   "source": [
    "df = pd.read_csv(\"data/cleaned_data1.csv\")"
   ]
  },
  {
   "cell_type": "code",
   "execution_count": 5,
   "id": "ab8effeb",
   "metadata": {},
   "outputs": [
    {
     "data": {
      "text/html": [
       "<div>\n",
       "<style scoped>\n",
       "    .dataframe tbody tr th:only-of-type {\n",
       "        vertical-align: middle;\n",
       "    }\n",
       "\n",
       "    .dataframe tbody tr th {\n",
       "        vertical-align: top;\n",
       "    }\n",
       "\n",
       "    .dataframe thead th {\n",
       "        text-align: right;\n",
       "    }\n",
       "</style>\n",
       "<table border=\"1\" class=\"dataframe\">\n",
       "  <thead>\n",
       "    <tr style=\"text-align: right;\">\n",
       "      <th></th>\n",
       "      <th>Age (yrs)</th>\n",
       "      <th>Weight (Kg)</th>\n",
       "      <th>Height(Cm)</th>\n",
       "      <th>BMI</th>\n",
       "      <th>Blood Group</th>\n",
       "      <th>Pulse rate(bpm)</th>\n",
       "      <th>RR (breaths/min)</th>\n",
       "      <th>Hb(g/dl)</th>\n",
       "      <th>Cycle(R/I)</th>\n",
       "      <th>Cycle length(days)</th>\n",
       "      <th>...</th>\n",
       "      <th>Pimples(Y/N)</th>\n",
       "      <th>Fast food (Y/N)</th>\n",
       "      <th>Reg.Exercise(Y/N)</th>\n",
       "      <th>BP _Systolic (mmHg)</th>\n",
       "      <th>BP _Diastolic (mmHg)</th>\n",
       "      <th>Follicle No. (L)</th>\n",
       "      <th>Follicle No. (R)</th>\n",
       "      <th>Avg. F size (L) (mm)</th>\n",
       "      <th>Avg. F size (R) (mm)</th>\n",
       "      <th>Endometrium (mm)</th>\n",
       "    </tr>\n",
       "  </thead>\n",
       "  <tbody>\n",
       "    <tr>\n",
       "      <th>0</th>\n",
       "      <td>28.0</td>\n",
       "      <td>44.6</td>\n",
       "      <td>152.0</td>\n",
       "      <td>19.300000</td>\n",
       "      <td>15</td>\n",
       "      <td>77.0</td>\n",
       "      <td>22</td>\n",
       "      <td>13.5</td>\n",
       "      <td>2</td>\n",
       "      <td>5.0</td>\n",
       "      <td>...</td>\n",
       "      <td>0</td>\n",
       "      <td>1.0</td>\n",
       "      <td>0</td>\n",
       "      <td>110.0</td>\n",
       "      <td>80.0</td>\n",
       "      <td>3.0</td>\n",
       "      <td>3</td>\n",
       "      <td>18.0</td>\n",
       "      <td>18.0</td>\n",
       "      <td>8.5</td>\n",
       "    </tr>\n",
       "    <tr>\n",
       "      <th>1</th>\n",
       "      <td>36.0</td>\n",
       "      <td>65.0</td>\n",
       "      <td>161.5</td>\n",
       "      <td>24.921163</td>\n",
       "      <td>15</td>\n",
       "      <td>74.0</td>\n",
       "      <td>20</td>\n",
       "      <td>13.5</td>\n",
       "      <td>2</td>\n",
       "      <td>5.0</td>\n",
       "      <td>...</td>\n",
       "      <td>0</td>\n",
       "      <td>0.0</td>\n",
       "      <td>0</td>\n",
       "      <td>120.0</td>\n",
       "      <td>70.0</td>\n",
       "      <td>3.0</td>\n",
       "      <td>5</td>\n",
       "      <td>15.0</td>\n",
       "      <td>14.0</td>\n",
       "      <td>3.7</td>\n",
       "    </tr>\n",
       "    <tr>\n",
       "      <th>2</th>\n",
       "      <td>33.0</td>\n",
       "      <td>68.8</td>\n",
       "      <td>165.0</td>\n",
       "      <td>25.270891</td>\n",
       "      <td>11</td>\n",
       "      <td>72.0</td>\n",
       "      <td>18</td>\n",
       "      <td>13.5</td>\n",
       "      <td>2</td>\n",
       "      <td>5.0</td>\n",
       "      <td>...</td>\n",
       "      <td>1</td>\n",
       "      <td>1.0</td>\n",
       "      <td>0</td>\n",
       "      <td>120.0</td>\n",
       "      <td>80.0</td>\n",
       "      <td>13.0</td>\n",
       "      <td>15</td>\n",
       "      <td>18.0</td>\n",
       "      <td>20.0</td>\n",
       "      <td>10.0</td>\n",
       "    </tr>\n",
       "    <tr>\n",
       "      <th>3</th>\n",
       "      <td>37.0</td>\n",
       "      <td>65.0</td>\n",
       "      <td>148.0</td>\n",
       "      <td>29.674945</td>\n",
       "      <td>13</td>\n",
       "      <td>72.0</td>\n",
       "      <td>20</td>\n",
       "      <td>13.5</td>\n",
       "      <td>2</td>\n",
       "      <td>5.0</td>\n",
       "      <td>...</td>\n",
       "      <td>0</td>\n",
       "      <td>0.0</td>\n",
       "      <td>0</td>\n",
       "      <td>120.0</td>\n",
       "      <td>70.0</td>\n",
       "      <td>2.0</td>\n",
       "      <td>2</td>\n",
       "      <td>15.0</td>\n",
       "      <td>14.0</td>\n",
       "      <td>7.5</td>\n",
       "    </tr>\n",
       "    <tr>\n",
       "      <th>4</th>\n",
       "      <td>25.0</td>\n",
       "      <td>52.0</td>\n",
       "      <td>161.0</td>\n",
       "      <td>20.060954</td>\n",
       "      <td>11</td>\n",
       "      <td>72.0</td>\n",
       "      <td>18</td>\n",
       "      <td>13.5</td>\n",
       "      <td>2</td>\n",
       "      <td>5.0</td>\n",
       "      <td>...</td>\n",
       "      <td>0</td>\n",
       "      <td>0.0</td>\n",
       "      <td>0</td>\n",
       "      <td>120.0</td>\n",
       "      <td>80.0</td>\n",
       "      <td>3.0</td>\n",
       "      <td>4</td>\n",
       "      <td>16.0</td>\n",
       "      <td>14.0</td>\n",
       "      <td>7.0</td>\n",
       "    </tr>\n",
       "  </tbody>\n",
       "</table>\n",
       "<p>5 rows × 37 columns</p>\n",
       "</div>"
      ],
      "text/plain": [
       "    Age (yrs)  Weight (Kg)  Height(Cm)         BMI  Blood Group  \\\n",
       "0        28.0         44.6        152.0  19.300000           15   \n",
       "1        36.0         65.0        161.5  24.921163           15   \n",
       "2        33.0         68.8        165.0  25.270891           11   \n",
       "3        37.0         65.0        148.0  29.674945           13   \n",
       "4        25.0         52.0        161.0  20.060954           11   \n",
       "\n",
       "   Pulse rate(bpm)   RR (breaths/min)  Hb(g/dl)  Cycle(R/I)  \\\n",
       "0              77.0                22      13.5           2   \n",
       "1              74.0                20      13.5           2   \n",
       "2              72.0                18      13.5           2   \n",
       "3              72.0                20      13.5           2   \n",
       "4              72.0                18      13.5           2   \n",
       "\n",
       "   Cycle length(days)  ...  Pimples(Y/N)  Fast food (Y/N)  Reg.Exercise(Y/N)  \\\n",
       "0                 5.0  ...             0              1.0                  0   \n",
       "1                 5.0  ...             0              0.0                  0   \n",
       "2                 5.0  ...             1              1.0                  0   \n",
       "3                 5.0  ...             0              0.0                  0   \n",
       "4                 5.0  ...             0              0.0                  0   \n",
       "\n",
       "   BP _Systolic (mmHg)  BP _Diastolic (mmHg)  Follicle No. (L)  \\\n",
       "0                110.0                  80.0               3.0   \n",
       "1                120.0                  70.0               3.0   \n",
       "2                120.0                  80.0              13.0   \n",
       "3                120.0                  70.0               2.0   \n",
       "4                120.0                  80.0               3.0   \n",
       "\n",
       "   Follicle No. (R)  Avg. F size (L) (mm)  Avg. F size (R) (mm)  \\\n",
       "0                 3                  18.0                  18.0   \n",
       "1                 5                  15.0                  14.0   \n",
       "2                15                  18.0                  20.0   \n",
       "3                 2                  15.0                  14.0   \n",
       "4                 4                  16.0                  14.0   \n",
       "\n",
       "   Endometrium (mm)  \n",
       "0               8.5  \n",
       "1               3.7  \n",
       "2              10.0  \n",
       "3               7.5  \n",
       "4               7.0  \n",
       "\n",
       "[5 rows x 37 columns]"
      ]
     },
     "execution_count": 5,
     "metadata": {},
     "output_type": "execute_result"
    }
   ],
   "source": [
    "X = df.drop(columns=[\"PCOS (Y/N)\"])\n",
    "X.head()"
   ]
  },
  {
   "cell_type": "code",
   "execution_count": 6,
   "id": "f1c451fb",
   "metadata": {},
   "outputs": [],
   "source": [
    "y = df[\"PCOS (Y/N)\"].values"
   ]
  },
  {
   "cell_type": "code",
   "execution_count": 7,
   "id": "c799058c",
   "metadata": {},
   "outputs": [],
   "source": [
    "#split dataset into train and test data\n",
    "train_features, test_features, train_target, test_target = train_test_split(X,y,test_size=0.33, random_state=13)"
   ]
  },
  {
   "cell_type": "code",
   "execution_count": 8,
   "id": "e6a07fd4",
   "metadata": {},
   "outputs": [],
   "source": [
    "from sklearn.preprocessing import StandardScaler\n",
    "sc=StandardScaler()\n",
    "\n",
    "scaler = sc.fit(train_features)\n",
    "train_features = scaler.transform(train_features)\n",
    "test_features = scaler.transform(test_features)"
   ]
  },
  {
   "cell_type": "code",
   "execution_count": 9,
   "id": "eca5338b",
   "metadata": {},
   "outputs": [
    {
     "name": "stdout",
     "output_type": "stream",
     "text": [
      "Before OverSampling, counts of label '1': 112\n",
      "Before OverSampling, counts of label '0': 242 \n",
      "\n",
      "After OverSampling, the shape of train_X: (484, 37)\n",
      "After OverSampling, the shape of train_y: (484,) \n",
      "\n",
      "After OverSampling, counts of label '1': 242\n",
      "After OverSampling, counts of label '0': 242\n"
     ]
    }
   ],
   "source": [
    "print(\"Before OverSampling, counts of label '1': {}\".format(sum(train_target == 1)))\n",
    "print(\"Before OverSampling, counts of label '0': {} \\n\".format(sum(train_target == 0)))\n",
    "  \n",
    "\n",
    "from imblearn.over_sampling import SMOTE\n",
    "sm = SMOTE(random_state = 2)\n",
    "train_feature_res, train_target_res = sm.fit_sample(train_features, train_target.ravel())\n",
    "  \n",
    "print('After OverSampling, the shape of train_X: {}'.format(train_feature_res.shape))\n",
    "print('After OverSampling, the shape of train_y: {} \\n'.format(train_target_res.shape))\n",
    "  \n",
    "print(\"After OverSampling, counts of label '1': {}\".format(sum(train_target_res == 1)))\n",
    "print(\"After OverSampling, counts of label '0': {}\".format(sum(train_target_res == 0)))"
   ]
  },
  {
   "cell_type": "code",
   "execution_count": 10,
   "id": "bd724f6f",
   "metadata": {},
   "outputs": [
    {
     "name": "stderr",
     "output_type": "stream",
     "text": [
      "C:\\Users\\pavithra\\anaconda3\\lib\\site-packages\\seaborn\\_decorators.py:36: FutureWarning: Pass the following variables as keyword args: x, y. From version 0.12, the only valid positional argument will be `data`, and passing other arguments without an explicit keyword will result in an error or misinterpretation.\n",
      "  warnings.warn(\n"
     ]
    },
    {
     "data": {
      "text/plain": [
       "Text(0, 0.5, 'PCA2')"
      ]
     },
     "execution_count": 10,
     "metadata": {},
     "output_type": "execute_result"
    },
    {
     "data": {
      "image/png": "[encoded data removed]",
      "text/plain": [
       "<Figure size 360x288 with 1 Axes>"
      ]
     },
     "metadata": {
      "needs_background": "light"
     },
     "output_type": "display_data"
    }
   ],
   "source": [
    "fig, ax = plt.subplots( figsize=(5 ,4))\n",
    "sns.scatterplot(test_features[:,0], test_features[:,1],ax=ax,hue=test_target,palette='Set1')\n",
    "ax.set_title(\"PCA\", fontsize=15, pad=15)\n",
    "ax.set_xlabel(\"PCA1\", fontsize=12)\n",
    "ax.set_ylabel(\"PCA2\", fontsize=12)"
   ]
  },
  {
   "cell_type": "code",
   "execution_count": 11,
   "id": "e1305b3f",
   "metadata": {},
   "outputs": [],
   "source": [
    "from sklearn.neural_network import MLPClassifier\n",
    "import numpy as np\n",
    "from sklearn import metrics"
   ]
  },
  {
   "cell_type": "code",
   "execution_count": 14,
   "id": "12a3b87f",
   "metadata": {},
   "outputs": [
    {
     "name": "stdout",
     "output_type": "stream",
     "text": [
      "Iteration 1, loss = 0.77334457\n",
      "Iteration 2, loss = 0.77088382\n",
      "Iteration 3, loss = 0.76709822\n",
      "Iteration 4, loss = 0.76222638\n",
      "Iteration 5, loss = 0.75687531\n",
      "Iteration 6, loss = 0.75091964\n",
      "Iteration 7, loss = 0.74493766\n",
      "Iteration 8, loss = 0.73857051\n",
      "Iteration 9, loss = 0.73227499\n",
      "Iteration 10, loss = 0.72613844\n",
      "Iteration 11, loss = 0.71970997\n",
      "Iteration 12, loss = 0.71385274\n",
      "Iteration 13, loss = 0.70789518\n",
      "Iteration 14, loss = 0.70207090\n",
      "Iteration 15, loss = 0.69642016\n",
      "Iteration 16, loss = 0.69079310\n",
      "Iteration 17, loss = 0.68538656\n",
      "Iteration 18, loss = 0.68006223\n",
      "Iteration 19, loss = 0.67485351\n",
      "Iteration 20, loss = 0.66983164\n",
      "Iteration 21, loss = 0.66475598\n",
      "Iteration 22, loss = 0.65989896\n",
      "Iteration 23, loss = 0.65519889\n",
      "Iteration 24, loss = 0.65040881\n",
      "Iteration 25, loss = 0.64582954\n",
      "Iteration 26, loss = 0.64122927\n",
      "Iteration 27, loss = 0.63676722\n",
      "Iteration 28, loss = 0.63239311\n",
      "Iteration 29, loss = 0.62803810\n",
      "Iteration 30, loss = 0.62382486\n",
      "Iteration 31, loss = 0.61968553\n",
      "Iteration 32, loss = 0.61557415\n",
      "Iteration 33, loss = 0.61155204\n",
      "Iteration 34, loss = 0.60766469\n",
      "Iteration 35, loss = 0.60367036\n",
      "Iteration 36, loss = 0.59986936\n",
      "Iteration 37, loss = 0.59606825\n",
      "Iteration 38, loss = 0.59235368\n",
      "Iteration 39, loss = 0.58861920\n",
      "Iteration 40, loss = 0.58506224\n",
      "Iteration 41, loss = 0.58137758\n",
      "Iteration 42, loss = 0.57785496\n",
      "Iteration 43, loss = 0.57431392\n",
      "Iteration 44, loss = 0.57082215\n",
      "Iteration 45, loss = 0.56731951\n",
      "Iteration 46, loss = 0.56389884\n",
      "Iteration 47, loss = 0.56055748\n",
      "Iteration 48, loss = 0.55720301\n",
      "Iteration 49, loss = 0.55390714\n",
      "Iteration 50, loss = 0.55069063\n",
      "Iteration 51, loss = 0.54754021\n",
      "Iteration 52, loss = 0.54430237\n",
      "Iteration 53, loss = 0.54114208\n",
      "Iteration 54, loss = 0.53803379\n",
      "Iteration 55, loss = 0.53497992\n",
      "Iteration 56, loss = 0.53190647\n",
      "Iteration 57, loss = 0.52889928\n",
      "Iteration 58, loss = 0.52590212\n",
      "Iteration 59, loss = 0.52293239\n",
      "Iteration 60, loss = 0.52002712\n",
      "Iteration 61, loss = 0.51713231\n",
      "Iteration 62, loss = 0.51425194\n",
      "Iteration 63, loss = 0.51143233\n",
      "Iteration 64, loss = 0.50857155\n",
      "Iteration 65, loss = 0.50578353\n",
      "Iteration 66, loss = 0.50305733\n",
      "Iteration 67, loss = 0.50029149\n",
      "Iteration 68, loss = 0.49763515\n",
      "Iteration 69, loss = 0.49493684\n",
      "Iteration 70, loss = 0.49227977\n",
      "Iteration 71, loss = 0.48966105\n",
      "Iteration 72, loss = 0.48707838\n",
      "Iteration 73, loss = 0.48447695\n",
      "Iteration 74, loss = 0.48192925\n",
      "Iteration 75, loss = 0.47936690\n",
      "Iteration 76, loss = 0.47686898\n",
      "Iteration 77, loss = 0.47434396\n",
      "Iteration 78, loss = 0.47184825\n",
      "Iteration 79, loss = 0.46938552\n",
      "Iteration 80, loss = 0.46691819\n",
      "Mean accuracy of prediction: 81.0\n"
     ]
    },
    {
     "name": "stderr",
     "output_type": "stream",
     "text": [
      "C:\\Users\\pavithra\\anaconda3\\lib\\site-packages\\sklearn\\neural_network\\_multilayer_perceptron.py:692: ConvergenceWarning: Stochastic Optimizer: Maximum iterations (80) reached and the optimization hasn't converged yet.\n",
      "  warnings.warn(\n"
     ]
    }
   ],
   "source": [
    "classifier = MLPClassifier(hidden_layer_sizes=15, max_iter=80,activation='relu', solver='sgd', verbose=5,random_state=10)\n",
    "classifier.fit(train_feature_res, train_target_res)\n",
    "\n",
    "prediction = classifier.predict(test_features)\n",
    "score = np.round(metrics.accuracy_score(test_target, prediction),2)\n",
    "print(\"Mean accuracy of prediction: \" +str(score*100))"
   ]
  },
  {
   "cell_type": "code",
   "execution_count": 15,
   "id": "5ac6212d",
   "metadata": {},
   "outputs": [
    {
     "name": "stderr",
     "output_type": "stream",
     "text": [
      "C:\\Users\\pavithra\\anaconda3\\lib\\site-packages\\sklearn\\utils\\deprecation.py:87: FutureWarning: Function plot_confusion_matrix is deprecated; Function `plot_confusion_matrix` is deprecated in 1.0 and will be removed in 1.2. Use one of the class methods: ConfusionMatrixDisplay.from_predictions or ConfusionMatrixDisplay.from_estimator.\n",
      "  warnings.warn(msg, category=FutureWarning)\n"
     ]
    },
    {
     "data": {
      "image/png": "[encoded data removed]",
      "text/plain": [
       "<Figure size 432x288 with 2 Axes>"
      ]
     },
     "metadata": {
      "needs_background": "light"
     },
     "output_type": "display_data"
    }
   ],
   "source": [
    "from sklearn.metrics import plot_confusion_matrix\n",
    "fig = plot_confusion_matrix(classifier, test_features, test_target)\n",
    "fig.figure_.suptitle(\"Confusion Matrix for PCOS Dataset\")\n",
    "plt.show()"
   ]
  },
  {
   "cell_type": "code",
   "execution_count": 16,
   "id": "a03b5cd5",
   "metadata": {},
   "outputs": [
    {
     "data": {
      "image/png": "[encoded data removed]",
      "text/plain": [
       "<Figure size 432x288 with 1 Axes>"
      ]
     },
     "metadata": {
      "needs_background": "light"
     },
     "output_type": "display_data"
    }
   ],
   "source": [
    "plt.plot(classifier.loss_curve_)\n",
    "plt.title(\"Loss Curve\", fontsize=14)\n",
    "plt.xlabel('Iterations')\n",
    "plt.ylabel('loss')\n",
    "plt.show()"
   ]
  },
  {
   "cell_type": "code",
   "execution_count": 17,
   "id": "59530619",
   "metadata": {},
   "outputs": [
    {
     "name": "stdout",
     "output_type": "stream",
     "text": [
      "              precision    recall  f1-score   support\n",
      "\n",
      "           0       0.89      0.80      0.84       115\n",
      "           1       0.68      0.82      0.74        60\n",
      "\n",
      "    accuracy                           0.81       175\n",
      "   macro avg       0.79      0.81      0.79       175\n",
      "weighted avg       0.82      0.81      0.81       175\n",
      "\n"
     ]
    }
   ],
   "source": [
    "print(classification_report(test_target, prediction))"
   ]
  },
  {
   "cell_type": "code",
   "execution_count": 18,
   "id": "34336432",
   "metadata": {},
   "outputs": [
    {
     "name": "stdout",
     "output_type": "stream",
     "text": [
      "Traning RMSE: 0.4350\n",
      "\n",
      "\n",
      "Testing RMSE: 0.4408\n"
     ]
    }
   ],
   "source": [
    "#Validation\n",
    "\n",
    "from sklearn.metrics import mean_squared_error\n",
    "from math import sqrt\n",
    "\n",
    "#calculate RMSE\n",
    "RMSE_test = sqrt(mean_squared_error(test_target, prediction)) \n",
    "\n",
    "#Traning\n",
    "\n",
    "from sklearn.metrics import mean_squared_error\n",
    "from math import sqrt\n",
    "train_prediction = classifier.predict(train_features)\n",
    "#calculate RMSE\n",
    "RMSE_train = sqrt(mean_squared_error(train_target, train_prediction))\n",
    "\n",
    "print('Traning RMSE: %.4f'%RMSE_train)\n",
    "print('\\n')\n",
    "print('Testing RMSE: %.4f'%RMSE_test)"
   ]
  },
  {
   "cell_type": "code",
   "execution_count": 19,
   "id": "965be47d",
   "metadata": {},
   "outputs": [
    {
     "name": "stdout",
     "output_type": "stream",
     "text": [
      "Traning RMSE: 0.4350\n",
      "\n",
      "\n",
      "Testing RMSE: 0.1943\n"
     ]
    }
   ],
   "source": [
    "#Validation\n",
    "\n",
    "from sklearn.metrics import mean_absolute_error\n",
    "from math import sqrt\n",
    "\n",
    "#calculate RMSE\n",
    "MAE_test = mean_absolute_error(test_target, prediction)\n",
    "\n",
    "#Traning\n",
    "\n",
    "from sklearn.metrics import mean_squared_error\n",
    "from math import sqrt\n",
    "train_prediction = classifier.predict(train_features)\n",
    "#calculate RMSE\n",
    "MAE_train = sqrt(mean_squared_error(train_target, train_prediction))\n",
    "\n",
    "print('Traning RMSE: %.4f'%MAE_train)\n",
    "print('\\n')\n",
    "print('Testing RMSE: %.4f'%MAE_test)"
   ]
  },
  {
   "cell_type": "code",
   "execution_count": null,
   "id": "e15d65c7",
   "metadata": {},
   "outputs": [],
   "source": []
  },
  {
   "cell_type": "code",
   "execution_count": null,
   "id": "d823f604",
   "metadata": {},
   "outputs": [],
   "source": []
  }
 ],
 "metadata": {
  "kernelspec": {
   "display_name": "Python 3",
   "language": "python",
   "name": "python3"
  },
  "language_info": {
   "codemirror_mode": {
    "name": "ipython",
    "version": 3
   },
   "file_extension": ".py",
   "mimetype": "text/x-python",
   "name": "python",
   "nbconvert_exporter": "python",
   "pygments_lexer": "ipython3",
   "version": "3.8.8"
  }
 },
 "nbformat": 4,
 "nbformat_minor": 5
}
