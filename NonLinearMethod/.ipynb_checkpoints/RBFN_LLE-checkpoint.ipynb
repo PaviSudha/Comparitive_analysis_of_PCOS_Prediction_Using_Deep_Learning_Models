{
 "cells": [
  {
   "cell_type": "code",
   "execution_count": 1,
   "id": "6ce95c0e",
   "metadata": {},
   "outputs": [],
   "source": [
    "import numpy as np\n",
    "import pandas as pd\n",
    "from sklearn.model_selection import train_test_split\n",
    "import matplotlib.pyplot as plt\n",
    "from keras.models import Sequential\n",
    "from keras.layers import Dense\n",
    "from keras.layers import Layer\n",
    "from keras import backend as K"
   ]
  },
  {
   "cell_type": "code",
   "execution_count": 2,
   "id": "5881d065",
   "metadata": {},
   "outputs": [],
   "source": [
    "df = pd.read_csv('data/cleaned_data1.csv')"
   ]
  },
  {
   "cell_type": "code",
   "execution_count": 3,
   "id": "d57ec261",
   "metadata": {},
   "outputs": [],
   "source": [
    "X = df.drop(columns=[\"PCOS (Y/N)\"])\n",
    "y = df[\"PCOS (Y/N)\"].values"
   ]
  },
  {
   "cell_type": "code",
   "execution_count": 4,
   "id": "ba767418",
   "metadata": {},
   "outputs": [
    {
     "data": {
      "text/plain": [
       "(529, 37)"
      ]
     },
     "execution_count": 4,
     "metadata": {},
     "output_type": "execute_result"
    }
   ],
   "source": [
    "from sklearn.preprocessing import StandardScaler\n",
    "scaler = StandardScaler()\n",
    "X = scaler.fit_transform(X)\n",
    "X.shape"
   ]
  },
  {
   "cell_type": "code",
   "execution_count": 5,
   "id": "e7aa51cb",
   "metadata": {},
   "outputs": [],
   "source": [
    "from sklearn.manifold import LocallyLinearEmbedding\n",
    "lle = LocallyLinearEmbedding(n_neighbors=7, n_components=10)\n",
    "X = lle.fit_transform(X)"
   ]
  },
  {
   "cell_type": "code",
   "execution_count": 6,
   "id": "d5a3cc96",
   "metadata": {},
   "outputs": [],
   "source": [
    "train_features, test_features, train_target, test_target = train_test_split(X,y,test_size=0.33, random_state=13)"
   ]
  },
  {
   "cell_type": "code",
   "execution_count": 7,
   "id": "b2d30180",
   "metadata": {},
   "outputs": [],
   "source": [
    "class RBFLayer(Layer):\n",
    "    def __init__(self, units, gamma, **kwargs):\n",
    "        super(RBFLayer, self).__init__(**kwargs)\n",
    "        self.units = units\n",
    "        self.gamma = K.cast_to_floatx(gamma)\n",
    "\n",
    "    def build(self, input_shape):\n",
    "        self.mu = self.add_weight(name='mu',\n",
    "                                  shape=(int(input_shape[1]), self.units),\n",
    "                                  initializer='uniform',\n",
    "                                  trainable=True)\n",
    "        super(RBFLayer, self).build(input_shape)\n",
    "\n",
    "    def call(self, inputs):\n",
    "        diff = K.expand_dims(inputs) - self.mu\n",
    "        l2 = K.sum(K.pow(diff, 2), axis=1)\n",
    "        res = K.exp(-1 * self.gamma * l2)\n",
    "        return res\n",
    "\n",
    "    def compute_output_shape(self, input_shape):\n",
    "        return (input_shape[0], self.units)"
   ]
  },
  {
   "cell_type": "code",
   "execution_count": 8,
   "id": "9f012106",
   "metadata": {},
   "outputs": [],
   "source": [
    "model = Sequential()\n",
    "model.add(Dense(10, input_dim=10, activation='relu'))\n",
    "model.add(RBFLayer(10, 0.3))\n",
    "model.add(Dense(1, activation='sigmoid'))"
   ]
  },
  {
   "cell_type": "code",
   "execution_count": 9,
   "id": "760daea4",
   "metadata": {},
   "outputs": [
    {
     "name": "stdout",
     "output_type": "stream",
     "text": [
      "Epoch 1/100\n",
      "12/12 [==============================] - 1s 59ms/step - loss: 0.7235 - accuracy: 0.3164 - val_loss: 0.7058 - val_accuracy: 0.3429\n",
      "Epoch 2/100\n",
      "12/12 [==============================] - 0s 8ms/step - loss: 0.6984 - accuracy: 0.4040 - val_loss: 0.6862 - val_accuracy: 0.6571\n",
      "Epoch 3/100\n",
      "12/12 [==============================] - 0s 7ms/step - loss: 0.6769 - accuracy: 0.6836 - val_loss: 0.6702 - val_accuracy: 0.6571\n",
      "Epoch 4/100\n",
      "12/12 [==============================] - 0s 7ms/step - loss: 0.6601 - accuracy: 0.6836 - val_loss: 0.6597 - val_accuracy: 0.6571\n",
      "Epoch 5/100\n",
      "12/12 [==============================] - 0s 7ms/step - loss: 0.6486 - accuracy: 0.6836 - val_loss: 0.6520 - val_accuracy: 0.6571\n",
      "Epoch 6/100\n",
      "12/12 [==============================] - 0s 10ms/step - loss: 0.6403 - accuracy: 0.6836 - val_loss: 0.6457 - val_accuracy: 0.6571\n",
      "Epoch 7/100\n",
      "12/12 [==============================] - 0s 9ms/step - loss: 0.6326 - accuracy: 0.6836 - val_loss: 0.6426 - val_accuracy: 0.6571\n",
      "Epoch 8/100\n",
      "12/12 [==============================] - 0s 8ms/step - loss: 0.6278 - accuracy: 0.6836 - val_loss: 0.6401 - val_accuracy: 0.6571\n",
      "Epoch 9/100\n",
      "12/12 [==============================] - 0s 8ms/step - loss: 0.6243 - accuracy: 0.6836 - val_loss: 0.6387 - val_accuracy: 0.6571\n",
      "Epoch 10/100\n",
      "12/12 [==============================] - 0s 9ms/step - loss: 0.6226 - accuracy: 0.6836 - val_loss: 0.6377 - val_accuracy: 0.6571\n",
      "Epoch 11/100\n",
      "12/12 [==============================] - 0s 8ms/step - loss: 0.6210 - accuracy: 0.6836 - val_loss: 0.6367 - val_accuracy: 0.6571\n",
      "Epoch 12/100\n",
      "12/12 [==============================] - 0s 7ms/step - loss: 0.6199 - accuracy: 0.6836 - val_loss: 0.6362 - val_accuracy: 0.6571\n",
      "Epoch 13/100\n",
      "12/12 [==============================] - 0s 8ms/step - loss: 0.6178 - accuracy: 0.6836 - val_loss: 0.6354 - val_accuracy: 0.6571\n",
      "Epoch 14/100\n",
      "12/12 [==============================] - 0s 8ms/step - loss: 0.6166 - accuracy: 0.6836 - val_loss: 0.6347 - val_accuracy: 0.6571\n",
      "Epoch 15/100\n",
      "12/12 [==============================] - 0s 8ms/step - loss: 0.6153 - accuracy: 0.6836 - val_loss: 0.6339 - val_accuracy: 0.6571\n",
      "Epoch 16/100\n",
      "12/12 [==============================] - 0s 7ms/step - loss: 0.6146 - accuracy: 0.6836 - val_loss: 0.6331 - val_accuracy: 0.6571\n",
      "Epoch 17/100\n",
      "12/12 [==============================] - 0s 7ms/step - loss: 0.6133 - accuracy: 0.6836 - val_loss: 0.6302 - val_accuracy: 0.6571\n",
      "Epoch 18/100\n",
      "12/12 [==============================] - 0s 7ms/step - loss: 0.6112 - accuracy: 0.6836 - val_loss: 0.6292 - val_accuracy: 0.6571\n",
      "Epoch 19/100\n",
      "12/12 [==============================] - 0s 8ms/step - loss: 0.6097 - accuracy: 0.6836 - val_loss: 0.6268 - val_accuracy: 0.6571\n",
      "Epoch 20/100\n",
      "12/12 [==============================] - 0s 7ms/step - loss: 0.6081 - accuracy: 0.6836 - val_loss: 0.6247 - val_accuracy: 0.6571\n",
      "Epoch 21/100\n",
      "12/12 [==============================] - 0s 8ms/step - loss: 0.6068 - accuracy: 0.6836 - val_loss: 0.6235 - val_accuracy: 0.6571\n",
      "Epoch 22/100\n",
      "12/12 [==============================] - 0s 7ms/step - loss: 0.6050 - accuracy: 0.6836 - val_loss: 0.6213 - val_accuracy: 0.6571\n",
      "Epoch 23/100\n",
      "12/12 [==============================] - 0s 8ms/step - loss: 0.6033 - accuracy: 0.6836 - val_loss: 0.6196 - val_accuracy: 0.6571\n",
      "Epoch 24/100\n",
      "12/12 [==============================] - 0s 8ms/step - loss: 0.6016 - accuracy: 0.6836 - val_loss: 0.6176 - val_accuracy: 0.6571\n",
      "Epoch 25/100\n",
      "12/12 [==============================] - 0s 7ms/step - loss: 0.6000 - accuracy: 0.6836 - val_loss: 0.6152 - val_accuracy: 0.6571\n",
      "Epoch 26/100\n",
      "12/12 [==============================] - 0s 7ms/step - loss: 0.5982 - accuracy: 0.6836 - val_loss: 0.6141 - val_accuracy: 0.6571\n",
      "Epoch 27/100\n",
      "12/12 [==============================] - 0s 8ms/step - loss: 0.5963 - accuracy: 0.6836 - val_loss: 0.6127 - val_accuracy: 0.6571\n",
      "Epoch 28/100\n",
      "12/12 [==============================] - 0s 9ms/step - loss: 0.5944 - accuracy: 0.6836 - val_loss: 0.6110 - val_accuracy: 0.6571\n",
      "Epoch 29/100\n",
      "12/12 [==============================] - 0s 7ms/step - loss: 0.5927 - accuracy: 0.6836 - val_loss: 0.6091 - val_accuracy: 0.6571\n",
      "Epoch 30/100\n",
      "12/12 [==============================] - 0s 7ms/step - loss: 0.5905 - accuracy: 0.6836 - val_loss: 0.6051 - val_accuracy: 0.6571\n",
      "Epoch 31/100\n",
      "12/12 [==============================] - 0s 7ms/step - loss: 0.5879 - accuracy: 0.6836 - val_loss: 0.6026 - val_accuracy: 0.6571\n",
      "Epoch 32/100\n",
      "12/12 [==============================] - 0s 8ms/step - loss: 0.5858 - accuracy: 0.6836 - val_loss: 0.5995 - val_accuracy: 0.6571\n",
      "Epoch 33/100\n",
      "12/12 [==============================] - 0s 7ms/step - loss: 0.5834 - accuracy: 0.6836 - val_loss: 0.5974 - val_accuracy: 0.6571\n",
      "Epoch 34/100\n",
      "12/12 [==============================] - 0s 7ms/step - loss: 0.5812 - accuracy: 0.6836 - val_loss: 0.5953 - val_accuracy: 0.6571\n",
      "Epoch 35/100\n",
      "12/12 [==============================] - 0s 11ms/step - loss: 0.5790 - accuracy: 0.6836 - val_loss: 0.5931 - val_accuracy: 0.6571\n",
      "Epoch 36/100\n",
      "12/12 [==============================] - 0s 6ms/step - loss: 0.5770 - accuracy: 0.6836 - val_loss: 0.5898 - val_accuracy: 0.6571\n",
      "Epoch 37/100\n",
      "12/12 [==============================] - 0s 7ms/step - loss: 0.5746 - accuracy: 0.6836 - val_loss: 0.5870 - val_accuracy: 0.6571\n",
      "Epoch 38/100\n",
      "12/12 [==============================] - 0s 6ms/step - loss: 0.5722 - accuracy: 0.6836 - val_loss: 0.5843 - val_accuracy: 0.6571\n",
      "Epoch 39/100\n",
      "12/12 [==============================] - 0s 7ms/step - loss: 0.5700 - accuracy: 0.6836 - val_loss: 0.5827 - val_accuracy: 0.6571\n",
      "Epoch 40/100\n",
      "12/12 [==============================] - 0s 7ms/step - loss: 0.5678 - accuracy: 0.6836 - val_loss: 0.5811 - val_accuracy: 0.6571\n",
      "Epoch 41/100\n",
      "12/12 [==============================] - 0s 6ms/step - loss: 0.5654 - accuracy: 0.6836 - val_loss: 0.5777 - val_accuracy: 0.6571\n",
      "Epoch 42/100\n",
      "12/12 [==============================] - 0s 7ms/step - loss: 0.5632 - accuracy: 0.6836 - val_loss: 0.5741 - val_accuracy: 0.6571\n",
      "Epoch 43/100\n",
      "12/12 [==============================] - 0s 7ms/step - loss: 0.5608 - accuracy: 0.6836 - val_loss: 0.5718 - val_accuracy: 0.6571\n",
      "Epoch 44/100\n",
      "12/12 [==============================] - 0s 7ms/step - loss: 0.5589 - accuracy: 0.6836 - val_loss: 0.5703 - val_accuracy: 0.6571\n",
      "Epoch 45/100\n",
      "12/12 [==============================] - 0s 6ms/step - loss: 0.5564 - accuracy: 0.6836 - val_loss: 0.5673 - val_accuracy: 0.6571\n",
      "Epoch 46/100\n",
      "12/12 [==============================] - 0s 6ms/step - loss: 0.5543 - accuracy: 0.6836 - val_loss: 0.5646 - val_accuracy: 0.6571\n",
      "Epoch 47/100\n",
      "12/12 [==============================] - 0s 6ms/step - loss: 0.5519 - accuracy: 0.6836 - val_loss: 0.5630 - val_accuracy: 0.6571\n",
      "Epoch 48/100\n",
      "12/12 [==============================] - 0s 7ms/step - loss: 0.5498 - accuracy: 0.6836 - val_loss: 0.5620 - val_accuracy: 0.6571\n",
      "Epoch 49/100\n",
      "12/12 [==============================] - 0s 7ms/step - loss: 0.5481 - accuracy: 0.6836 - val_loss: 0.5608 - val_accuracy: 0.6571\n",
      "Epoch 50/100\n",
      "12/12 [==============================] - 0s 7ms/step - loss: 0.5462 - accuracy: 0.6836 - val_loss: 0.5585 - val_accuracy: 0.6571\n",
      "Epoch 51/100\n",
      "12/12 [==============================] - 0s 7ms/step - loss: 0.5442 - accuracy: 0.6836 - val_loss: 0.5570 - val_accuracy: 0.6571\n",
      "Epoch 52/100\n",
      "12/12 [==============================] - 0s 7ms/step - loss: 0.5426 - accuracy: 0.6836 - val_loss: 0.5553 - val_accuracy: 0.6571\n",
      "Epoch 53/100\n",
      "12/12 [==============================] - 0s 6ms/step - loss: 0.5403 - accuracy: 0.6836 - val_loss: 0.5515 - val_accuracy: 0.6571\n",
      "Epoch 54/100\n",
      "12/12 [==============================] - 0s 7ms/step - loss: 0.5379 - accuracy: 0.6836 - val_loss: 0.5491 - val_accuracy: 0.6571\n",
      "Epoch 55/100\n",
      "12/12 [==============================] - 0s 7ms/step - loss: 0.5358 - accuracy: 0.6836 - val_loss: 0.5453 - val_accuracy: 0.6571\n",
      "Epoch 56/100\n",
      "12/12 [==============================] - 0s 6ms/step - loss: 0.5334 - accuracy: 0.6836 - val_loss: 0.5427 - val_accuracy: 0.6571\n",
      "Epoch 57/100\n",
      "12/12 [==============================] - 0s 6ms/step - loss: 0.5318 - accuracy: 0.6836 - val_loss: 0.5414 - val_accuracy: 0.6571\n",
      "Epoch 58/100\n",
      "12/12 [==============================] - 0s 10ms/step - loss: 0.5296 - accuracy: 0.6836 - val_loss: 0.5395 - val_accuracy: 0.6571\n"
     ]
    },
    {
     "name": "stdout",
     "output_type": "stream",
     "text": [
      "Epoch 59/100\n",
      "12/12 [==============================] - 0s 7ms/step - loss: 0.5276 - accuracy: 0.6893 - val_loss: 0.5364 - val_accuracy: 0.6629\n",
      "Epoch 60/100\n",
      "12/12 [==============================] - 0s 7ms/step - loss: 0.5259 - accuracy: 0.6977 - val_loss: 0.5330 - val_accuracy: 0.6686\n",
      "Epoch 61/100\n",
      "12/12 [==============================] - 0s 8ms/step - loss: 0.5239 - accuracy: 0.7203 - val_loss: 0.5312 - val_accuracy: 0.6686\n",
      "Epoch 62/100\n",
      "12/12 [==============================] - 0s 7ms/step - loss: 0.5218 - accuracy: 0.7175 - val_loss: 0.5291 - val_accuracy: 0.6743\n",
      "Epoch 63/100\n",
      "12/12 [==============================] - 0s 8ms/step - loss: 0.5220 - accuracy: 0.7345 - val_loss: 0.5263 - val_accuracy: 0.6971\n",
      "Epoch 64/100\n",
      "12/12 [==============================] - 0s 6ms/step - loss: 0.5189 - accuracy: 0.7373 - val_loss: 0.5241 - val_accuracy: 0.6914\n",
      "Epoch 65/100\n",
      "12/12 [==============================] - 0s 8ms/step - loss: 0.5159 - accuracy: 0.7401 - val_loss: 0.5225 - val_accuracy: 0.6914\n",
      "Epoch 66/100\n",
      "12/12 [==============================] - 0s 8ms/step - loss: 0.5160 - accuracy: 0.7316 - val_loss: 0.5201 - val_accuracy: 0.7029\n",
      "Epoch 67/100\n",
      "12/12 [==============================] - 0s 11ms/step - loss: 0.5123 - accuracy: 0.7373 - val_loss: 0.5185 - val_accuracy: 0.6914\n",
      "Epoch 68/100\n",
      "12/12 [==============================] - 0s 7ms/step - loss: 0.5104 - accuracy: 0.7316 - val_loss: 0.5176 - val_accuracy: 0.6857\n",
      "Epoch 69/100\n",
      "12/12 [==============================] - 0s 9ms/step - loss: 0.5083 - accuracy: 0.7373 - val_loss: 0.5151 - val_accuracy: 0.6914\n",
      "Epoch 70/100\n",
      "12/12 [==============================] - 0s 7ms/step - loss: 0.5068 - accuracy: 0.7401 - val_loss: 0.5123 - val_accuracy: 0.7200\n",
      "Epoch 71/100\n",
      "12/12 [==============================] - 0s 7ms/step - loss: 0.5048 - accuracy: 0.7401 - val_loss: 0.5101 - val_accuracy: 0.7314\n",
      "Epoch 72/100\n",
      "12/12 [==============================] - 0s 7ms/step - loss: 0.5031 - accuracy: 0.7599 - val_loss: 0.5083 - val_accuracy: 0.7314\n",
      "Epoch 73/100\n",
      "12/12 [==============================] - 0s 6ms/step - loss: 0.5007 - accuracy: 0.7401 - val_loss: 0.5072 - val_accuracy: 0.7257\n",
      "Epoch 74/100\n",
      "12/12 [==============================] - 0s 6ms/step - loss: 0.4992 - accuracy: 0.7401 - val_loss: 0.5054 - val_accuracy: 0.7200\n",
      "Epoch 75/100\n",
      "12/12 [==============================] - 0s 6ms/step - loss: 0.4976 - accuracy: 0.7373 - val_loss: 0.5046 - val_accuracy: 0.7143\n",
      "Epoch 76/100\n",
      "12/12 [==============================] - 0s 8ms/step - loss: 0.4962 - accuracy: 0.7373 - val_loss: 0.5030 - val_accuracy: 0.7143\n",
      "Epoch 77/100\n",
      "12/12 [==============================] - 0s 7ms/step - loss: 0.4944 - accuracy: 0.7373 - val_loss: 0.5007 - val_accuracy: 0.7200\n",
      "Epoch 78/100\n",
      "12/12 [==============================] - 0s 6ms/step - loss: 0.4921 - accuracy: 0.7514 - val_loss: 0.4971 - val_accuracy: 0.7600\n",
      "Epoch 79/100\n",
      "12/12 [==============================] - 0s 7ms/step - loss: 0.4902 - accuracy: 0.7627 - val_loss: 0.4941 - val_accuracy: 0.7657\n",
      "Epoch 80/100\n",
      "12/12 [==============================] - 0s 6ms/step - loss: 0.4902 - accuracy: 0.7684 - val_loss: 0.4913 - val_accuracy: 0.7771\n",
      "Epoch 81/100\n",
      "12/12 [==============================] - 0s 7ms/step - loss: 0.4867 - accuracy: 0.7684 - val_loss: 0.4897 - val_accuracy: 0.7657\n",
      "Epoch 82/100\n",
      "12/12 [==============================] - 0s 6ms/step - loss: 0.4848 - accuracy: 0.7684 - val_loss: 0.4876 - val_accuracy: 0.7657\n",
      "Epoch 83/100\n",
      "12/12 [==============================] - 0s 7ms/step - loss: 0.4830 - accuracy: 0.7655 - val_loss: 0.4867 - val_accuracy: 0.7600\n",
      "Epoch 84/100\n",
      "12/12 [==============================] - 0s 6ms/step - loss: 0.4810 - accuracy: 0.7627 - val_loss: 0.4855 - val_accuracy: 0.7600\n",
      "Epoch 85/100\n",
      "12/12 [==============================] - 0s 6ms/step - loss: 0.4793 - accuracy: 0.7627 - val_loss: 0.4828 - val_accuracy: 0.7657\n",
      "Epoch 86/100\n",
      "12/12 [==============================] - 0s 7ms/step - loss: 0.4773 - accuracy: 0.7712 - val_loss: 0.4800 - val_accuracy: 0.7771\n",
      "Epoch 87/100\n",
      "12/12 [==============================] - 0s 7ms/step - loss: 0.4762 - accuracy: 0.7740 - val_loss: 0.4787 - val_accuracy: 0.7714\n",
      "Epoch 88/100\n",
      "12/12 [==============================] - 0s 6ms/step - loss: 0.4737 - accuracy: 0.7740 - val_loss: 0.4758 - val_accuracy: 0.7829\n",
      "Epoch 89/100\n",
      "12/12 [==============================] - 0s 5ms/step - loss: 0.4724 - accuracy: 0.7853 - val_loss: 0.4733 - val_accuracy: 0.8057\n",
      "Epoch 90/100\n",
      "12/12 [==============================] - 0s 6ms/step - loss: 0.4711 - accuracy: 0.7938 - val_loss: 0.4716 - val_accuracy: 0.7943\n",
      "Epoch 91/100\n",
      "12/12 [==============================] - 0s 7ms/step - loss: 0.4695 - accuracy: 0.7768 - val_loss: 0.4703 - val_accuracy: 0.7829\n",
      "Epoch 92/100\n",
      "12/12 [==============================] - 0s 6ms/step - loss: 0.4674 - accuracy: 0.7853 - val_loss: 0.4678 - val_accuracy: 0.7943\n",
      "Epoch 93/100\n",
      "12/12 [==============================] - 0s 6ms/step - loss: 0.4654 - accuracy: 0.7853 - val_loss: 0.4668 - val_accuracy: 0.7829\n",
      "Epoch 94/100\n",
      "12/12 [==============================] - 0s 7ms/step - loss: 0.4646 - accuracy: 0.7740 - val_loss: 0.4664 - val_accuracy: 0.7829\n",
      "Epoch 95/100\n",
      "12/12 [==============================] - 0s 6ms/step - loss: 0.4630 - accuracy: 0.7853 - val_loss: 0.4629 - val_accuracy: 0.8000\n",
      "Epoch 96/100\n",
      "12/12 [==============================] - 0s 7ms/step - loss: 0.4605 - accuracy: 0.7881 - val_loss: 0.4618 - val_accuracy: 0.7886\n",
      "Epoch 97/100\n",
      "12/12 [==============================] - 0s 7ms/step - loss: 0.4588 - accuracy: 0.7881 - val_loss: 0.4595 - val_accuracy: 0.7943\n",
      "Epoch 98/100\n",
      "12/12 [==============================] - 0s 7ms/step - loss: 0.4570 - accuracy: 0.7881 - val_loss: 0.4573 - val_accuracy: 0.8057\n",
      "Epoch 99/100\n",
      "12/12 [==============================] - 0s 6ms/step - loss: 0.4555 - accuracy: 0.8023 - val_loss: 0.4543 - val_accuracy: 0.8057\n",
      "Epoch 100/100\n",
      "12/12 [==============================] - 0s 7ms/step - loss: 0.4544 - accuracy: 0.8107 - val_loss: 0.4523 - val_accuracy: 0.8114\n"
     ]
    }
   ],
   "source": [
    "model.compile(optimizer='adam', loss='binary_crossentropy', metrics=['accuracy'])\n",
    "history = model.fit(train_features,train_target,validation_data=(test_features,test_target),epochs=100,batch_size=32)"
   ]
  },
  {
   "cell_type": "code",
   "execution_count": 10,
   "id": "30cd4f13",
   "metadata": {},
   "outputs": [
    {
     "name": "stdout",
     "output_type": "stream",
     "text": [
      "Model: \"sequential\"\n",
      "_________________________________________________________________\n",
      "Layer (type)                 Output Shape              Param #   \n",
      "=================================================================\n",
      "dense (Dense)                (None, 10)                110       \n",
      "_________________________________________________________________\n",
      "rbf_layer (RBFLayer)         (None, 10)                100       \n",
      "_________________________________________________________________\n",
      "dense_1 (Dense)              (None, 1)                 11        \n",
      "=================================================================\n",
      "Total params: 221\n",
      "Trainable params: 221\n",
      "Non-trainable params: 0\n",
      "_________________________________________________________________\n"
     ]
    }
   ],
   "source": [
    "model.summary()"
   ]
  },
  {
   "cell_type": "code",
   "execution_count": 11,
   "id": "820cc261",
   "metadata": {},
   "outputs": [
    {
     "data": {
      "image/png": "[encoded data removed]",
      "text/plain": [
       "<Figure size 432x288 with 1 Axes>"
      ]
     },
     "metadata": {
      "needs_background": "light"
     },
     "output_type": "display_data"
    }
   ],
   "source": [
    "plt.plot(history.history['loss'],label='Training Loss')\n",
    "plt.plot(history.history['val_loss'],label='Validation Loss')\n",
    "plt.title('Model Loss')\n",
    "plt.ylabel('Loss')\n",
    "plt.xlabel('epoch')\n",
    "plt.legend(['train','Validation'],loc='upper right')\n",
    "plt.show()"
   ]
  },
  {
   "cell_type": "code",
   "execution_count": 12,
   "id": "70d4472b",
   "metadata": {},
   "outputs": [
    {
     "data": {
      "image/png": "[encoded data removed]",
      "text/plain": [
       "<Figure size 432x288 with 1 Axes>"
      ]
     },
     "metadata": {
      "needs_background": "light"
     },
     "output_type": "display_data"
    }
   ],
   "source": [
    "plt.plot(history.history['accuracy'],label='Training accuracy')\n",
    "plt.plot(history.history['val_accuracy'],label='Validation accuracy')\n",
    "plt.title('Model accuracy')\n",
    "plt.ylabel('Loss')\n",
    "plt.xlabel('epoch')\n",
    "plt.legend(['train','Accuracy'],loc='upper right')\n",
    "plt.show()"
   ]
  },
  {
   "cell_type": "code",
   "execution_count": 13,
   "id": "865ffa67",
   "metadata": {},
   "outputs": [
    {
     "name": "stdout",
     "output_type": "stream",
     "text": [
      "Test Accuracy: 81.143\n"
     ]
    }
   ],
   "source": [
    "loss, acc = model.evaluate(test_features, test_target, verbose=0)\n",
    "print('Test Accuracy: %.3f' %(acc * 100.0))"
   ]
  },
  {
   "cell_type": "code",
   "execution_count": 14,
   "id": "8dd27b13",
   "metadata": {},
   "outputs": [
    {
     "data": {
      "text/plain": [
       "array([[113,   2],\n",
       "       [ 31,  29]], dtype=int64)"
      ]
     },
     "execution_count": 14,
     "metadata": {},
     "output_type": "execute_result"
    }
   ],
   "source": [
    "from sklearn.metrics import classification_report, confusion_matrix\n",
    "\n",
    "prediction = model.predict(test_features)\n",
    "data = []\n",
    "for x in prediction:\n",
    "    if x[0] > 0.5:\n",
    "        data.append(1)\n",
    "    else:\n",
    "        data.append(0)\n",
    "\n",
    "cnf_matrix = confusion_matrix(test_target, data)\n",
    "cnf_matrix"
   ]
  },
  {
   "cell_type": "code",
   "execution_count": 15,
   "id": "2bd673f6",
   "metadata": {},
   "outputs": [
    {
     "name": "stdout",
     "output_type": "stream",
     "text": [
      "Traning RMSE: 0.3754\n",
      "\n",
      "\n",
      "Testing RMSE: 0.3757\n"
     ]
    }
   ],
   "source": [
    "from sklearn.metrics import mean_squared_error\n",
    "from math import sqrt\n",
    "\n",
    "RMSE_test = sqrt(mean_squared_error(test_target, prediction)) \n",
    "\n",
    "\n",
    "from sklearn.metrics import mean_squared_error\n",
    "from math import sqrt\n",
    "train_prediction = model.predict(train_features)\n",
    "RMSE_train = sqrt(mean_squared_error(train_target, train_prediction))\n",
    "\n",
    "print('Traning RMSE: %.4f'%RMSE_train)\n",
    "print('\\n')\n",
    "print('Testing RMSE: %.4f'%RMSE_test)"
   ]
  },
  {
   "cell_type": "code",
   "execution_count": null,
   "id": "13cfb8e4",
   "metadata": {},
   "outputs": [],
   "source": []
  }
 ],
 "metadata": {
  "kernelspec": {
   "display_name": "Python 3",
   "language": "python",
   "name": "python3"
  },
  "language_info": {
   "codemirror_mode": {
    "name": "ipython",
    "version": 3
   },
   "file_extension": ".py",
   "mimetype": "text/x-python",
   "name": "python",
   "nbconvert_exporter": "python",
   "pygments_lexer": "ipython3",
   "version": "3.8.8"
  }
 },
 "nbformat": 4,
 "nbformat_minor": 5
}
