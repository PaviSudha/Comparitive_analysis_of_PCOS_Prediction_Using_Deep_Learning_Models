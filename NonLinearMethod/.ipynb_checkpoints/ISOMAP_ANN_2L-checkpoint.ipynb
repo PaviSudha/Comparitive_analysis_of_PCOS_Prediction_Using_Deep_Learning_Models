{
 "cells": [
  {
   "cell_type": "markdown",
   "metadata": {},
   "source": [
    "# Import the libraries"
   ]
  },
  {
   "cell_type": "code",
   "execution_count": 1,
   "metadata": {},
   "outputs": [],
   "source": [
    "import pandas as pd\n",
    "import matplotlib.pyplot as plt\n",
    "\n",
    "from sklearn.model_selection import train_test_split\n",
    "from sklearn.linear_model import LogisticRegression\n",
    "from sklearn import metrics\n",
    "\n",
    "from sklearn.metrics import confusion_matrix \n",
    "from sklearn.metrics import accuracy_score \n",
    "from sklearn.metrics import classification_report \n",
    "\n",
    "#import tensorflow libraries \n",
    "import tensorflow as tf\n",
    "from tensorflow.keras import Sequential\n",
    "from tensorflow.keras.layers import Dense\n",
    "from tensorflow.keras.optimizers import SGD\n",
    "\n",
    "import seaborn as sns\n",
    "\n",
    "from keras.models import Sequential"
   ]
  },
  {
   "cell_type": "code",
   "execution_count": 2,
   "metadata": {},
   "outputs": [
    {
     "data": {
      "text/html": [
       "<div>\n",
       "<style scoped>\n",
       "    .dataframe tbody tr th:only-of-type {\n",
       "        vertical-align: middle;\n",
       "    }\n",
       "\n",
       "    .dataframe tbody tr th {\n",
       "        vertical-align: top;\n",
       "    }\n",
       "\n",
       "    .dataframe thead th {\n",
       "        text-align: right;\n",
       "    }\n",
       "</style>\n",
       "<table border=\"1\" class=\"dataframe\">\n",
       "  <thead>\n",
       "    <tr style=\"text-align: right;\">\n",
       "      <th></th>\n",
       "      <th>Age (yrs)</th>\n",
       "      <th>Weight (Kg)</th>\n",
       "      <th>Height(Cm)</th>\n",
       "      <th>BMI</th>\n",
       "      <th>Blood Group</th>\n",
       "      <th>Pulse rate(bpm)</th>\n",
       "      <th>RR (breaths/min)</th>\n",
       "      <th>Hb(g/dl)</th>\n",
       "      <th>Cycle(R/I)</th>\n",
       "      <th>Cycle length(days)</th>\n",
       "      <th>...</th>\n",
       "      <th>Pimples(Y/N)</th>\n",
       "      <th>Fast food (Y/N)</th>\n",
       "      <th>Reg.Exercise(Y/N)</th>\n",
       "      <th>BP _Systolic (mmHg)</th>\n",
       "      <th>BP _Diastolic (mmHg)</th>\n",
       "      <th>Follicle No. (L)</th>\n",
       "      <th>Follicle No. (R)</th>\n",
       "      <th>Avg. F size (L) (mm)</th>\n",
       "      <th>Avg. F size (R) (mm)</th>\n",
       "      <th>Endometrium (mm)</th>\n",
       "    </tr>\n",
       "  </thead>\n",
       "  <tbody>\n",
       "    <tr>\n",
       "      <th>0</th>\n",
       "      <td>28.0</td>\n",
       "      <td>44.6</td>\n",
       "      <td>152.0</td>\n",
       "      <td>19.300000</td>\n",
       "      <td>15</td>\n",
       "      <td>77.0</td>\n",
       "      <td>22</td>\n",
       "      <td>13.5</td>\n",
       "      <td>2</td>\n",
       "      <td>5.0</td>\n",
       "      <td>...</td>\n",
       "      <td>0</td>\n",
       "      <td>1.0</td>\n",
       "      <td>0</td>\n",
       "      <td>110.0</td>\n",
       "      <td>80.0</td>\n",
       "      <td>3.0</td>\n",
       "      <td>3</td>\n",
       "      <td>18.0</td>\n",
       "      <td>18.0</td>\n",
       "      <td>8.5</td>\n",
       "    </tr>\n",
       "    <tr>\n",
       "      <th>1</th>\n",
       "      <td>36.0</td>\n",
       "      <td>65.0</td>\n",
       "      <td>161.5</td>\n",
       "      <td>24.921163</td>\n",
       "      <td>15</td>\n",
       "      <td>74.0</td>\n",
       "      <td>20</td>\n",
       "      <td>13.5</td>\n",
       "      <td>2</td>\n",
       "      <td>5.0</td>\n",
       "      <td>...</td>\n",
       "      <td>0</td>\n",
       "      <td>0.0</td>\n",
       "      <td>0</td>\n",
       "      <td>120.0</td>\n",
       "      <td>70.0</td>\n",
       "      <td>3.0</td>\n",
       "      <td>5</td>\n",
       "      <td>15.0</td>\n",
       "      <td>14.0</td>\n",
       "      <td>3.7</td>\n",
       "    </tr>\n",
       "    <tr>\n",
       "      <th>2</th>\n",
       "      <td>33.0</td>\n",
       "      <td>68.8</td>\n",
       "      <td>165.0</td>\n",
       "      <td>25.270891</td>\n",
       "      <td>11</td>\n",
       "      <td>72.0</td>\n",
       "      <td>18</td>\n",
       "      <td>13.5</td>\n",
       "      <td>2</td>\n",
       "      <td>5.0</td>\n",
       "      <td>...</td>\n",
       "      <td>1</td>\n",
       "      <td>1.0</td>\n",
       "      <td>0</td>\n",
       "      <td>120.0</td>\n",
       "      <td>80.0</td>\n",
       "      <td>13.0</td>\n",
       "      <td>15</td>\n",
       "      <td>18.0</td>\n",
       "      <td>20.0</td>\n",
       "      <td>10.0</td>\n",
       "    </tr>\n",
       "    <tr>\n",
       "      <th>3</th>\n",
       "      <td>37.0</td>\n",
       "      <td>65.0</td>\n",
       "      <td>148.0</td>\n",
       "      <td>29.674945</td>\n",
       "      <td>13</td>\n",
       "      <td>72.0</td>\n",
       "      <td>20</td>\n",
       "      <td>13.5</td>\n",
       "      <td>2</td>\n",
       "      <td>5.0</td>\n",
       "      <td>...</td>\n",
       "      <td>0</td>\n",
       "      <td>0.0</td>\n",
       "      <td>0</td>\n",
       "      <td>120.0</td>\n",
       "      <td>70.0</td>\n",
       "      <td>2.0</td>\n",
       "      <td>2</td>\n",
       "      <td>15.0</td>\n",
       "      <td>14.0</td>\n",
       "      <td>7.5</td>\n",
       "    </tr>\n",
       "    <tr>\n",
       "      <th>4</th>\n",
       "      <td>25.0</td>\n",
       "      <td>52.0</td>\n",
       "      <td>161.0</td>\n",
       "      <td>20.060954</td>\n",
       "      <td>11</td>\n",
       "      <td>72.0</td>\n",
       "      <td>18</td>\n",
       "      <td>13.5</td>\n",
       "      <td>2</td>\n",
       "      <td>5.0</td>\n",
       "      <td>...</td>\n",
       "      <td>0</td>\n",
       "      <td>0.0</td>\n",
       "      <td>0</td>\n",
       "      <td>120.0</td>\n",
       "      <td>80.0</td>\n",
       "      <td>3.0</td>\n",
       "      <td>4</td>\n",
       "      <td>16.0</td>\n",
       "      <td>14.0</td>\n",
       "      <td>7.0</td>\n",
       "    </tr>\n",
       "  </tbody>\n",
       "</table>\n",
       "<p>5 rows × 37 columns</p>\n",
       "</div>"
      ],
      "text/plain": [
       "    Age (yrs)  Weight (Kg)  Height(Cm)         BMI  Blood Group  \\\n",
       "0        28.0         44.6        152.0  19.300000           15   \n",
       "1        36.0         65.0        161.5  24.921163           15   \n",
       "2        33.0         68.8        165.0  25.270891           11   \n",
       "3        37.0         65.0        148.0  29.674945           13   \n",
       "4        25.0         52.0        161.0  20.060954           11   \n",
       "\n",
       "   Pulse rate(bpm)   RR (breaths/min)  Hb(g/dl)  Cycle(R/I)  \\\n",
       "0              77.0                22      13.5           2   \n",
       "1              74.0                20      13.5           2   \n",
       "2              72.0                18      13.5           2   \n",
       "3              72.0                20      13.5           2   \n",
       "4              72.0                18      13.5           2   \n",
       "\n",
       "   Cycle length(days)  ...  Pimples(Y/N)  Fast food (Y/N)  Reg.Exercise(Y/N)  \\\n",
       "0                 5.0  ...             0              1.0                  0   \n",
       "1                 5.0  ...             0              0.0                  0   \n",
       "2                 5.0  ...             1              1.0                  0   \n",
       "3                 5.0  ...             0              0.0                  0   \n",
       "4                 5.0  ...             0              0.0                  0   \n",
       "\n",
       "   BP _Systolic (mmHg)  BP _Diastolic (mmHg)  Follicle No. (L)  \\\n",
       "0                110.0                  80.0               3.0   \n",
       "1                120.0                  70.0               3.0   \n",
       "2                120.0                  80.0              13.0   \n",
       "3                120.0                  70.0               2.0   \n",
       "4                120.0                  80.0               3.0   \n",
       "\n",
       "   Follicle No. (R)  Avg. F size (L) (mm)  Avg. F size (R) (mm)  \\\n",
       "0                 3                  18.0                  18.0   \n",
       "1                 5                  15.0                  14.0   \n",
       "2                15                  18.0                  20.0   \n",
       "3                 2                  15.0                  14.0   \n",
       "4                 4                  16.0                  14.0   \n",
       "\n",
       "   Endometrium (mm)  \n",
       "0               8.5  \n",
       "1               3.7  \n",
       "2              10.0  \n",
       "3               7.5  \n",
       "4               7.0  \n",
       "\n",
       "[5 rows x 37 columns]"
      ]
     },
     "execution_count": 2,
     "metadata": {},
     "output_type": "execute_result"
    }
   ],
   "source": [
    "df = pd.read_csv(\"data/cleaned_data1.csv\")\n",
    "X = df.drop(columns=[\"PCOS (Y/N)\"])\n",
    "y = df[\"PCOS (Y/N)\"].values\n",
    "X.head()"
   ]
  },
  {
   "cell_type": "code",
   "execution_count": 3,
   "metadata": {},
   "outputs": [],
   "source": [
    "from sklearn.preprocessing import StandardScaler\n",
    "sc=StandardScaler()\n",
    "scaler = sc.fit(X)\n",
    "X = scaler.transform(X)"
   ]
  },
  {
   "cell_type": "code",
   "execution_count": 4,
   "metadata": {},
   "outputs": [],
   "source": [
    "from sklearn.manifold import Isomap\n",
    "\n",
    "isomap = Isomap(n_neighbors=5, n_components=10, \n",
    "                eigen_solver='auto')\n",
    "X = isomap.fit_transform(X)"
   ]
  },
  {
   "cell_type": "code",
   "execution_count": 5,
   "metadata": {},
   "outputs": [
    {
     "name": "stderr",
     "output_type": "stream",
     "text": [
      "C:\\Users\\pavithra\\anaconda3\\lib\\site-packages\\seaborn\\_decorators.py:36: FutureWarning: Pass the following variables as keyword args: x, y. From version 0.12, the only valid positional argument will be `data`, and passing other arguments without an explicit keyword will result in an error or misinterpretation.\n",
      "  warnings.warn(\n"
     ]
    },
    {
     "data": {
      "text/plain": [
       "Text(0.5, 1.0, 'Isomap')"
      ]
     },
     "execution_count": 5,
     "metadata": {},
     "output_type": "execute_result"
    },
    {
     "data": {
      "image/png": "[encoded data removed]",
      "text/plain": [
       "<Figure size 432x288 with 1 Axes>"
      ]
     },
     "metadata": {
      "needs_background": "light"
     },
     "output_type": "display_data"
    }
   ],
   "source": [
    "sns.scatterplot(X[:,0], X[:,1], hue=y, palette='Set1')\n",
    "plt.title(\"ISOMAP\", fontsize=15)\n",
    "plt.xlabel(\"ISOMAP1\", fontsize=12)\n",
    "plt.ylabel(\"ISOMAP2\", fontsize=12)"
   ]
  },
  {
   "cell_type": "code",
   "execution_count": 6,
   "metadata": {},
   "outputs": [],
   "source": [
    "#split dataset into train and test data\n",
    "train_features, test_features, train_target, test_target = train_test_split(X,y,test_size=0.33, random_state=13)"
   ]
  },
  {
   "cell_type": "code",
   "execution_count": 7,
   "metadata": {},
   "outputs": [
    {
     "data": {
      "text/plain": [
       "10"
      ]
     },
     "execution_count": 7,
     "metadata": {},
     "output_type": "execute_result"
    }
   ],
   "source": [
    "n_features = train_features.shape[1]\n",
    "n_features"
   ]
  },
  {
   "cell_type": "markdown",
   "metadata": {},
   "source": [
    "# ANN"
   ]
  },
  {
   "cell_type": "code",
   "execution_count": 8,
   "metadata": {},
   "outputs": [],
   "source": [
    "model = Sequential()\n",
    "model.add(Dense(20, activation='sigmoid', kernel_initializer='he_normal', input_shape=(n_features,)))\n",
    "model.add(Dense(1, activation='sigmoid'))"
   ]
  },
  {
   "cell_type": "code",
   "execution_count": 9,
   "metadata": {},
   "outputs": [],
   "source": [
    "n_epochs=100\n",
    "learning_rate=0.0001\n",
    "decay_rate = learning_rate / n_epochs\n",
    "rmsprop = tf.keras.optimizers.RMSprop(learning_rate=0.0001,momentum=0.8,decay=decay_rate)\n",
    "\n",
    "#Compile the model\n",
    "model.compile(optimizer=rmsprop, loss='binary_crossentropy', metrics=['accuracy'])\n",
    "\n",
    "#fit the model\n",
    "history2 = model.fit(train_features, train_target, epochs=n_epochs,validation_data=(test_features,test_target), batch_size=32, verbose=0)"
   ]
  },
  {
   "cell_type": "code",
   "execution_count": 10,
   "metadata": {},
   "outputs": [
    {
     "data": {
      "image/png": "[encoded data removed]",
      "text/plain": [
       "<Figure size 432x288 with 1 Axes>"
      ]
     },
     "metadata": {
      "needs_background": "light"
     },
     "output_type": "display_data"
    }
   ],
   "source": [
    "plt.plot(history2.history['loss'])\n",
    "plt.plot(history2.history['val_loss'])\n",
    "plt.title('Model Loss')\n",
    "plt.ylabel('Loss')\n",
    "plt.xlabel('epoch')\n",
    "plt.legend(['train','Validation'],loc='upper right')\n",
    "plt.show()"
   ]
  },
  {
   "cell_type": "code",
   "execution_count": 11,
   "metadata": {},
   "outputs": [
    {
     "data": {
      "image/png": "[encoded data removed]",
      "text/plain": [
       "<Figure size 432x288 with 1 Axes>"
      ]
     },
     "metadata": {
      "needs_background": "light"
     },
     "output_type": "display_data"
    }
   ],
   "source": [
    "plt.plot(history2.history['accuracy'],label='Training accuracy')\n",
    "plt.plot(history2.history['val_accuracy'],label='Validation accuracy')\n",
    "plt.title('Model accuracy')\n",
    "plt.ylabel('accuracy')\n",
    "plt.xlabel('epoch')\n",
    "plt.legend(['train','Validation'],loc='upper right')\n",
    "plt.show()"
   ]
  },
  {
   "cell_type": "markdown",
   "metadata": {},
   "source": [
    "Evaluate the model"
   ]
  },
  {
   "cell_type": "code",
   "execution_count": 12,
   "metadata": {},
   "outputs": [
    {
     "name": "stdout",
     "output_type": "stream",
     "text": [
      "Test Accuracy: 88.000\n"
     ]
    }
   ],
   "source": [
    "loss, acc = model.evaluate(test_features, test_target, verbose=0)\n",
    "print('Test Accuracy: %.3f' %(acc * 100.0))"
   ]
  },
  {
   "cell_type": "markdown",
   "metadata": {},
   "source": [
    "Confusion matrix"
   ]
  },
  {
   "cell_type": "code",
   "execution_count": 13,
   "metadata": {},
   "outputs": [
    {
     "data": {
      "text/plain": [
       "array([[106,   9],\n",
       "       [ 12,  48]], dtype=int64)"
      ]
     },
     "execution_count": 13,
     "metadata": {},
     "output_type": "execute_result"
    }
   ],
   "source": [
    "from sklearn.metrics import classification_report, confusion_matrix\n",
    "\n",
    "prediction = model.predict(test_features)\n",
    "data = []\n",
    "for x in prediction:\n",
    "    # if the weights >0.5 then classified as 1 else classified as 0\n",
    "    if x[0] > 0.5:\n",
    "        data.append(1)\n",
    "    else:\n",
    "        data.append(0)\n",
    "\n",
    "cnf_matrix = confusion_matrix(test_target, data)\n",
    "cnf_matrix"
   ]
  },
  {
   "cell_type": "code",
   "execution_count": 14,
   "metadata": {},
   "outputs": [
    {
     "data": {
      "text/plain": [
       "((175,), (175, 1))"
      ]
     },
     "execution_count": 14,
     "metadata": {},
     "output_type": "execute_result"
    }
   ],
   "source": [
    "test_target.shape,prediction.shape"
   ]
  },
  {
   "cell_type": "code",
   "execution_count": 15,
   "metadata": {},
   "outputs": [
    {
     "name": "stdout",
     "output_type": "stream",
     "text": [
      "ANN: \n",
      "               precision    recall  f1-score   support\n",
      "\n",
      "           0       0.90      0.92      0.91       115\n",
      "           1       0.84      0.80      0.82        60\n",
      "\n",
      "    accuracy                           0.88       175\n",
      "   macro avg       0.87      0.86      0.87       175\n",
      "weighted avg       0.88      0.88      0.88       175\n",
      " \n",
      "\n"
     ]
    }
   ],
   "source": [
    "print('ANN: \\n', classification_report(test_target, data),'\\n')"
   ]
  },
  {
   "cell_type": "code",
   "execution_count": 16,
   "metadata": {},
   "outputs": [
    {
     "name": "stdout",
     "output_type": "stream",
     "text": [
      "Traning RMSE: 0.3038\n",
      "\n",
      "\n",
      "Testing RMSE: 0.3050\n"
     ]
    }
   ],
   "source": [
    "#Validation\n",
    "\n",
    "from sklearn.metrics import mean_squared_error\n",
    "from math import sqrt\n",
    "\n",
    "#calculate RMSE\n",
    "RMSE_test = sqrt(mean_squared_error(test_target, prediction)) \n",
    "\n",
    "#Traning\n",
    "\n",
    "from sklearn.metrics import mean_squared_error\n",
    "from math import sqrt\n",
    "train_prediction = model.predict(train_features)\n",
    "#calculate RMSE\n",
    "RMSE_train = sqrt(mean_squared_error(train_target, train_prediction))\n",
    "\n",
    "print('Traning RMSE: %.4f'%RMSE_train)\n",
    "print('\\n')\n",
    "print('Testing RMSE: %.4f'%RMSE_test)"
   ]
  },
  {
   "cell_type": "code",
   "execution_count": 17,
   "metadata": {},
   "outputs": [
    {
     "name": "stdout",
     "output_type": "stream",
     "text": [
      "Traning RMSE: 0.3038\n",
      "\n",
      "\n",
      "Testing RMSE: 0.2160\n"
     ]
    }
   ],
   "source": [
    "#Validation\n",
    "\n",
    "from sklearn.metrics import mean_absolute_error\n",
    "from math import sqrt\n",
    "\n",
    "#calculate RMSE\n",
    "MAE_test = mean_absolute_error(test_target, prediction)\n",
    "\n",
    "#Traning\n",
    "\n",
    "from sklearn.metrics import mean_squared_error\n",
    "from math import sqrt\n",
    "train_prediction = model.predict(train_features)\n",
    "#calculate RMSE\n",
    "MAE_train = sqrt(mean_squared_error(train_target, train_prediction))\n",
    "\n",
    "print('Traning RMSE: %.4f'%MAE_train)\n",
    "print('\\n')\n",
    "print('Testing RMSE: %.4f'%MAE_test)"
   ]
  }
 ],
 "metadata": {
  "kernelspec": {
   "display_name": "Python 3",
   "language": "python",
   "name": "python3"
  },
  "language_info": {
   "codemirror_mode": {
    "name": "ipython",
    "version": 3
   },
   "file_extension": ".py",
   "mimetype": "text/x-python",
   "name": "python",
   "nbconvert_exporter": "python",
   "pygments_lexer": "ipython3",
   "version": "3.8.8"
  }
 },
 "nbformat": 4,
 "nbformat_minor": 2
}
