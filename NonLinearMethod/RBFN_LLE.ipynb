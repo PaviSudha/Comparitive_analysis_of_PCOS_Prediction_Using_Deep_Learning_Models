{
 "cells": [
  {
   "cell_type": "code",
   "execution_count": 1,
   "id": "6ce95c0e",
   "metadata": {},
   "outputs": [],
   "source": [
    "import pandas as pd\n",
    "from sklearn.model_selection import train_test_split\n",
    "import matplotlib.pyplot as plt\n",
    "from keras.models import Sequential\n",
    "from keras.layers import Dense\n",
    "from keras.layers import Layer\n",
    "from keras import backend as K"
   ]
  },
  {
   "cell_type": "code",
   "execution_count": 2,
   "id": "5881d065",
   "metadata": {},
   "outputs": [],
   "source": [
    "df = pd.read_csv('data/cleaned_data1.csv')"
   ]
  },
  {
   "cell_type": "code",
   "execution_count": 3,
   "id": "d57ec261",
   "metadata": {},
   "outputs": [],
   "source": [
    "X = df.drop(columns=[\"PCOS (Y/N)\"])\n",
    "y = df[\"PCOS (Y/N)\"].values"
   ]
  },
  {
   "cell_type": "code",
   "execution_count": 4,
   "id": "ba767418",
   "metadata": {},
   "outputs": [
    {
     "data": {
      "text/plain": [
       "(529, 37)"
      ]
     },
     "execution_count": 4,
     "metadata": {},
     "output_type": "execute_result"
    }
   ],
   "source": [
    "from sklearn.preprocessing import StandardScaler\n",
    "scaler = StandardScaler()\n",
    "X = scaler.fit_transform(X)\n",
    "X.shape"
   ]
  },
  {
   "cell_type": "code",
   "execution_count": 5,
   "id": "e7aa51cb",
   "metadata": {},
   "outputs": [],
   "source": [
    "from sklearn.manifold import LocallyLinearEmbedding\n",
    "lle = LocallyLinearEmbedding(n_neighbors=7, n_components=10)\n",
    "X = lle.fit_transform(X)"
   ]
  },
  {
   "cell_type": "code",
   "execution_count": 6,
   "id": "d5a3cc96",
   "metadata": {},
   "outputs": [],
   "source": [
    "train_features, test_features, train_target, test_target = train_test_split(X,y,test_size=0.33, random_state=13)"
   ]
  },
  {
   "cell_type": "code",
   "execution_count": 7,
   "id": "b2d30180",
   "metadata": {},
   "outputs": [],
   "source": [
    "class RBFLayer(Layer):\n",
    "    def __init__(self, units, gamma, **kwargs):\n",
    "        super(RBFLayer, self).__init__(**kwargs)\n",
    "        self.units = units\n",
    "        self.gamma = K.cast_to_floatx(gamma)\n",
    "\n",
    "    def build(self, input_shape):\n",
    "        self.mu = self.add_weight(name='mu',\n",
    "                                  shape=(int(input_shape[1]), self.units),\n",
    "                                  initializer='uniform',\n",
    "                                  trainable=True)\n",
    "        super(RBFLayer, self).build(input_shape)\n",
    "\n",
    "    def call(self, inputs):\n",
    "        diff = K.expand_dims(inputs) - self.mu\n",
    "        l2 = K.sum(K.pow(diff, 2), axis=1)\n",
    "        res = K.exp(-1 * self.gamma * l2)\n",
    "        return res\n",
    "\n",
    "    def compute_output_shape(self, input_shape):\n",
    "        return (input_shape[0], self.units)"
   ]
  },
  {
   "cell_type": "code",
   "execution_count": 8,
   "id": "9f012106",
   "metadata": {},
   "outputs": [],
   "source": [
    "model = Sequential()\n",
    "model.add(Dense(10, input_dim=10, activation='relu'))\n",
    "model.add(RBFLayer(10, 0.3))\n",
    "model.add(Dense(1, activation='sigmoid'))"
   ]
  },
  {
   "cell_type": "code",
   "execution_count": 9,
   "id": "760daea4",
   "metadata": {},
   "outputs": [
    {
     "name": "stdout",
     "output_type": "stream",
     "text": [
      "Epoch 1/100\n",
      "12/12 [==============================] - 1s 59ms/step - loss: 0.8362 - accuracy: 0.3164 - val_loss: 0.7978 - val_accuracy: 0.3429\n",
      "Epoch 2/100\n",
      "12/12 [==============================] - 0s 7ms/step - loss: 0.7922 - accuracy: 0.3164 - val_loss: 0.7621 - val_accuracy: 0.3429\n",
      "Epoch 3/100\n",
      "12/12 [==============================] - 0s 7ms/step - loss: 0.7552 - accuracy: 0.3164 - val_loss: 0.7310 - val_accuracy: 0.3429\n",
      "Epoch 4/100\n",
      "12/12 [==============================] - 0s 7ms/step - loss: 0.7234 - accuracy: 0.3164 - val_loss: 0.7047 - val_accuracy: 0.3429\n",
      "Epoch 5/100\n",
      "12/12 [==============================] - 0s 8ms/step - loss: 0.6962 - accuracy: 0.4520 - val_loss: 0.6833 - val_accuracy: 0.6571\n",
      "Epoch 6/100\n",
      "12/12 [==============================] - 0s 9ms/step - loss: 0.6735 - accuracy: 0.6836 - val_loss: 0.6668 - val_accuracy: 0.6571\n",
      "Epoch 7/100\n",
      "12/12 [==============================] - 0s 8ms/step - loss: 0.6566 - accuracy: 0.6836 - val_loss: 0.6557 - val_accuracy: 0.6571\n",
      "Epoch 8/100\n",
      "12/12 [==============================] - 0s 7ms/step - loss: 0.6449 - accuracy: 0.6836 - val_loss: 0.6475 - val_accuracy: 0.6571\n",
      "Epoch 9/100\n",
      "12/12 [==============================] - 0s 8ms/step - loss: 0.6358 - accuracy: 0.6836 - val_loss: 0.6413 - val_accuracy: 0.6571\n",
      "Epoch 10/100\n",
      "12/12 [==============================] - 0s 7ms/step - loss: 0.6274 - accuracy: 0.6836 - val_loss: 0.6364 - val_accuracy: 0.6571\n",
      "Epoch 11/100\n",
      "12/12 [==============================] - 0s 7ms/step - loss: 0.6225 - accuracy: 0.6836 - val_loss: 0.6332 - val_accuracy: 0.6571\n",
      "Epoch 12/100\n",
      "12/12 [==============================] - 0s 8ms/step - loss: 0.6188 - accuracy: 0.6836 - val_loss: 0.6310 - val_accuracy: 0.6571\n",
      "Epoch 13/100\n",
      "12/12 [==============================] - 0s 7ms/step - loss: 0.6159 - accuracy: 0.6836 - val_loss: 0.6285 - val_accuracy: 0.6571\n",
      "Epoch 14/100\n",
      "12/12 [==============================] - 0s 7ms/step - loss: 0.6128 - accuracy: 0.6836 - val_loss: 0.6265 - val_accuracy: 0.6571\n",
      "Epoch 15/100\n",
      "12/12 [==============================] - 0s 9ms/step - loss: 0.6090 - accuracy: 0.6836 - val_loss: 0.6246 - val_accuracy: 0.6571\n",
      "Epoch 16/100\n",
      "12/12 [==============================] - 0s 8ms/step - loss: 0.6069 - accuracy: 0.6836 - val_loss: 0.6226 - val_accuracy: 0.6571\n",
      "Epoch 17/100\n",
      "12/12 [==============================] - 0s 8ms/step - loss: 0.6047 - accuracy: 0.6836 - val_loss: 0.6206 - val_accuracy: 0.6571\n",
      "Epoch 18/100\n",
      "12/12 [==============================] - 0s 7ms/step - loss: 0.6021 - accuracy: 0.6836 - val_loss: 0.6178 - val_accuracy: 0.6571\n",
      "Epoch 19/100\n",
      "12/12 [==============================] - 0s 8ms/step - loss: 0.5997 - accuracy: 0.6836 - val_loss: 0.6148 - val_accuracy: 0.6571\n",
      "Epoch 20/100\n",
      "12/12 [==============================] - 0s 7ms/step - loss: 0.5972 - accuracy: 0.6836 - val_loss: 0.6125 - val_accuracy: 0.6571\n",
      "Epoch 21/100\n",
      "12/12 [==============================] - 0s 7ms/step - loss: 0.5946 - accuracy: 0.6836 - val_loss: 0.6105 - val_accuracy: 0.6571\n",
      "Epoch 22/100\n",
      "12/12 [==============================] - 0s 8ms/step - loss: 0.5920 - accuracy: 0.6836 - val_loss: 0.6071 - val_accuracy: 0.6571\n",
      "Epoch 23/100\n",
      "12/12 [==============================] - 0s 7ms/step - loss: 0.5893 - accuracy: 0.6836 - val_loss: 0.6033 - val_accuracy: 0.6571\n",
      "Epoch 24/100\n",
      "12/12 [==============================] - 0s 8ms/step - loss: 0.5867 - accuracy: 0.6836 - val_loss: 0.6013 - val_accuracy: 0.6571\n",
      "Epoch 25/100\n",
      "12/12 [==============================] - 0s 9ms/step - loss: 0.5838 - accuracy: 0.6836 - val_loss: 0.5991 - val_accuracy: 0.6571\n",
      "Epoch 26/100\n",
      "12/12 [==============================] - 0s 8ms/step - loss: 0.5813 - accuracy: 0.6836 - val_loss: 0.5971 - val_accuracy: 0.6571\n",
      "Epoch 27/100\n",
      "12/12 [==============================] - 0s 7ms/step - loss: 0.5787 - accuracy: 0.6836 - val_loss: 0.5945 - val_accuracy: 0.6571\n",
      "Epoch 28/100\n",
      "12/12 [==============================] - 0s 8ms/step - loss: 0.5765 - accuracy: 0.6836 - val_loss: 0.5921 - val_accuracy: 0.6571\n",
      "Epoch 29/100\n",
      "12/12 [==============================] - 0s 8ms/step - loss: 0.5740 - accuracy: 0.6836 - val_loss: 0.5895 - val_accuracy: 0.6571\n",
      "Epoch 30/100\n",
      "12/12 [==============================] - 0s 9ms/step - loss: 0.5715 - accuracy: 0.6836 - val_loss: 0.5874 - val_accuracy: 0.6571\n",
      "Epoch 31/100\n",
      "12/12 [==============================] - 0s 9ms/step - loss: 0.5684 - accuracy: 0.6836 - val_loss: 0.5827 - val_accuracy: 0.6571\n",
      "Epoch 32/100\n",
      "12/12 [==============================] - 0s 9ms/step - loss: 0.5656 - accuracy: 0.6836 - val_loss: 0.5798 - val_accuracy: 0.6571\n",
      "Epoch 33/100\n",
      "12/12 [==============================] - 0s 8ms/step - loss: 0.5629 - accuracy: 0.6836 - val_loss: 0.5760 - val_accuracy: 0.6571\n",
      "Epoch 34/100\n",
      "12/12 [==============================] - 0s 10ms/step - loss: 0.5603 - accuracy: 0.6836 - val_loss: 0.5737 - val_accuracy: 0.6571\n",
      "Epoch 35/100\n",
      "12/12 [==============================] - 0s 11ms/step - loss: 0.5585 - accuracy: 0.6836 - val_loss: 0.5721 - val_accuracy: 0.6571\n",
      "Epoch 36/100\n",
      "12/12 [==============================] - 0s 9ms/step - loss: 0.5554 - accuracy: 0.6836 - val_loss: 0.5681 - val_accuracy: 0.6571\n",
      "Epoch 37/100\n",
      "12/12 [==============================] - 0s 7ms/step - loss: 0.5525 - accuracy: 0.6836 - val_loss: 0.5660 - val_accuracy: 0.6571\n",
      "Epoch 38/100\n",
      "12/12 [==============================] - 0s 6ms/step - loss: 0.5506 - accuracy: 0.6836 - val_loss: 0.5648 - val_accuracy: 0.6571\n",
      "Epoch 39/100\n",
      "12/12 [==============================] - 0s 6ms/step - loss: 0.5485 - accuracy: 0.6836 - val_loss: 0.5628 - val_accuracy: 0.6571\n",
      "Epoch 40/100\n",
      "12/12 [==============================] - 0s 5ms/step - loss: 0.5466 - accuracy: 0.6836 - val_loss: 0.5607 - val_accuracy: 0.6571\n",
      "Epoch 41/100\n",
      "12/12 [==============================] - 0s 7ms/step - loss: 0.5443 - accuracy: 0.6836 - val_loss: 0.5577 - val_accuracy: 0.6571\n",
      "Epoch 42/100\n",
      "12/12 [==============================] - 0s 8ms/step - loss: 0.5414 - accuracy: 0.6836 - val_loss: 0.5531 - val_accuracy: 0.6571\n",
      "Epoch 43/100\n",
      "12/12 [==============================] - 0s 7ms/step - loss: 0.5385 - accuracy: 0.6836 - val_loss: 0.5504 - val_accuracy: 0.6571\n",
      "Epoch 44/100\n",
      "12/12 [==============================] - 0s 7ms/step - loss: 0.5360 - accuracy: 0.6893 - val_loss: 0.5478 - val_accuracy: 0.6571\n",
      "Epoch 45/100\n",
      "12/12 [==============================] - 0s 8ms/step - loss: 0.5334 - accuracy: 0.6921 - val_loss: 0.5436 - val_accuracy: 0.6629\n",
      "Epoch 46/100\n",
      "12/12 [==============================] - 0s 9ms/step - loss: 0.5304 - accuracy: 0.7090 - val_loss: 0.5399 - val_accuracy: 0.6629\n",
      "Epoch 47/100\n",
      "12/12 [==============================] - 0s 10ms/step - loss: 0.5281 - accuracy: 0.7232 - val_loss: 0.5369 - val_accuracy: 0.6743\n",
      "Epoch 48/100\n",
      "12/12 [==============================] - 0s 11ms/step - loss: 0.5257 - accuracy: 0.7232 - val_loss: 0.5354 - val_accuracy: 0.6686\n",
      "Epoch 49/100\n",
      "12/12 [==============================] - 0s 11ms/step - loss: 0.5236 - accuracy: 0.7232 - val_loss: 0.5332 - val_accuracy: 0.6743\n",
      "Epoch 50/100\n",
      "12/12 [==============================] - 0s 12ms/step - loss: 0.5216 - accuracy: 0.7232 - val_loss: 0.5313 - val_accuracy: 0.6743\n",
      "Epoch 51/100\n",
      "12/12 [==============================] - 0s 7ms/step - loss: 0.5195 - accuracy: 0.7232 - val_loss: 0.5295 - val_accuracy: 0.6743\n",
      "Epoch 52/100\n",
      "12/12 [==============================] - 0s 7ms/step - loss: 0.5168 - accuracy: 0.7316 - val_loss: 0.5252 - val_accuracy: 0.7029\n",
      "Epoch 53/100\n",
      "12/12 [==============================] - 0s 8ms/step - loss: 0.5150 - accuracy: 0.7373 - val_loss: 0.5230 - val_accuracy: 0.7029\n",
      "Epoch 54/100\n",
      "12/12 [==============================] - 0s 9ms/step - loss: 0.5131 - accuracy: 0.7429 - val_loss: 0.5209 - val_accuracy: 0.7143\n",
      "Epoch 55/100\n",
      "12/12 [==============================] - 0s 9ms/step - loss: 0.5108 - accuracy: 0.7429 - val_loss: 0.5188 - val_accuracy: 0.7200\n",
      "Epoch 56/100\n",
      "12/12 [==============================] - 0s 8ms/step - loss: 0.5084 - accuracy: 0.7429 - val_loss: 0.5181 - val_accuracy: 0.6971\n",
      "Epoch 57/100\n",
      "12/12 [==============================] - 0s 7ms/step - loss: 0.5075 - accuracy: 0.7373 - val_loss: 0.5164 - val_accuracy: 0.6971\n",
      "Epoch 58/100\n",
      "12/12 [==============================] - 0s 7ms/step - loss: 0.5061 - accuracy: 0.7429 - val_loss: 0.5110 - val_accuracy: 0.7600\n"
     ]
    },
    {
     "name": "stdout",
     "output_type": "stream",
     "text": [
      "Epoch 59/100\n",
      "12/12 [==============================] - 0s 6ms/step - loss: 0.5024 - accuracy: 0.7571 - val_loss: 0.5084 - val_accuracy: 0.7657\n",
      "Epoch 60/100\n",
      "12/12 [==============================] - 0s 6ms/step - loss: 0.5004 - accuracy: 0.7627 - val_loss: 0.5060 - val_accuracy: 0.7657\n",
      "Epoch 61/100\n",
      "12/12 [==============================] - 0s 6ms/step - loss: 0.4983 - accuracy: 0.7599 - val_loss: 0.5053 - val_accuracy: 0.7600\n",
      "Epoch 62/100\n",
      "12/12 [==============================] - 0s 7ms/step - loss: 0.4961 - accuracy: 0.7486 - val_loss: 0.5033 - val_accuracy: 0.7600\n",
      "Epoch 63/100\n",
      "12/12 [==============================] - 0s 8ms/step - loss: 0.4940 - accuracy: 0.7542 - val_loss: 0.4996 - val_accuracy: 0.7714\n",
      "Epoch 64/100\n",
      "12/12 [==============================] - 0s 9ms/step - loss: 0.4920 - accuracy: 0.7627 - val_loss: 0.4969 - val_accuracy: 0.7771\n",
      "Epoch 65/100\n",
      "12/12 [==============================] - 0s 10ms/step - loss: 0.4902 - accuracy: 0.7655 - val_loss: 0.4949 - val_accuracy: 0.7829\n",
      "Epoch 66/100\n",
      "12/12 [==============================] - 0s 10ms/step - loss: 0.4882 - accuracy: 0.7655 - val_loss: 0.4928 - val_accuracy: 0.7829\n",
      "Epoch 67/100\n",
      "12/12 [==============================] - 0s 7ms/step - loss: 0.4863 - accuracy: 0.7655 - val_loss: 0.4907 - val_accuracy: 0.7829\n",
      "Epoch 68/100\n",
      "12/12 [==============================] - 0s 7ms/step - loss: 0.4842 - accuracy: 0.7655 - val_loss: 0.4886 - val_accuracy: 0.7829\n",
      "Epoch 69/100\n",
      "12/12 [==============================] - 0s 10ms/step - loss: 0.4826 - accuracy: 0.7684 - val_loss: 0.4863 - val_accuracy: 0.7829\n",
      "Epoch 70/100\n",
      "12/12 [==============================] - 0s 8ms/step - loss: 0.4808 - accuracy: 0.7712 - val_loss: 0.4842 - val_accuracy: 0.7829\n",
      "Epoch 71/100\n",
      "12/12 [==============================] - 0s 6ms/step - loss: 0.4796 - accuracy: 0.7797 - val_loss: 0.4815 - val_accuracy: 0.7943\n",
      "Epoch 72/100\n",
      "12/12 [==============================] - 0s 6ms/step - loss: 0.4777 - accuracy: 0.7881 - val_loss: 0.4798 - val_accuracy: 0.7943\n",
      "Epoch 73/100\n",
      "12/12 [==============================] - 0s 6ms/step - loss: 0.4759 - accuracy: 0.7938 - val_loss: 0.4778 - val_accuracy: 0.7943\n",
      "Epoch 74/100\n",
      "12/12 [==============================] - 0s 7ms/step - loss: 0.4739 - accuracy: 0.7881 - val_loss: 0.4760 - val_accuracy: 0.7943\n",
      "Epoch 75/100\n",
      "12/12 [==============================] - 0s 13ms/step - loss: 0.4722 - accuracy: 0.7966 - val_loss: 0.4739 - val_accuracy: 0.7943\n",
      "Epoch 76/100\n",
      "12/12 [==============================] - 0s 9ms/step - loss: 0.4698 - accuracy: 0.7881 - val_loss: 0.4727 - val_accuracy: 0.7943\n",
      "Epoch 77/100\n",
      "12/12 [==============================] - 0s 6ms/step - loss: 0.4680 - accuracy: 0.7910 - val_loss: 0.4701 - val_accuracy: 0.7943\n",
      "Epoch 78/100\n",
      "12/12 [==============================] - 0s 6ms/step - loss: 0.4668 - accuracy: 0.8051 - val_loss: 0.4680 - val_accuracy: 0.7886\n",
      "Epoch 79/100\n",
      "12/12 [==============================] - 0s 8ms/step - loss: 0.4647 - accuracy: 0.8023 - val_loss: 0.4668 - val_accuracy: 0.7943\n",
      "Epoch 80/100\n",
      "12/12 [==============================] - 0s 21ms/step - loss: 0.4637 - accuracy: 0.7881 - val_loss: 0.4656 - val_accuracy: 0.7943\n",
      "Epoch 81/100\n",
      "12/12 [==============================] - 0s 11ms/step - loss: 0.4613 - accuracy: 0.7853 - val_loss: 0.4639 - val_accuracy: 0.7943\n",
      "Epoch 82/100\n",
      "12/12 [==============================] - 0s 6ms/step - loss: 0.4596 - accuracy: 0.7938 - val_loss: 0.4616 - val_accuracy: 0.7943\n",
      "Epoch 83/100\n",
      "12/12 [==============================] - 0s 6ms/step - loss: 0.4582 - accuracy: 0.7966 - val_loss: 0.4599 - val_accuracy: 0.7943\n",
      "Epoch 84/100\n",
      "12/12 [==============================] - 0s 7ms/step - loss: 0.4564 - accuracy: 0.7938 - val_loss: 0.4592 - val_accuracy: 0.7943\n",
      "Epoch 85/100\n",
      "12/12 [==============================] - 0s 7ms/step - loss: 0.4556 - accuracy: 0.7853 - val_loss: 0.4585 - val_accuracy: 0.7943\n",
      "Epoch 86/100\n",
      "12/12 [==============================] - 0s 6ms/step - loss: 0.4537 - accuracy: 0.7994 - val_loss: 0.4553 - val_accuracy: 0.7943\n",
      "Epoch 87/100\n",
      "12/12 [==============================] - 0s 9ms/step - loss: 0.4523 - accuracy: 0.8051 - val_loss: 0.4546 - val_accuracy: 0.7943\n",
      "Epoch 88/100\n",
      "12/12 [==============================] - 0s 10ms/step - loss: 0.4509 - accuracy: 0.7994 - val_loss: 0.4524 - val_accuracy: 0.7943\n",
      "Epoch 89/100\n",
      "12/12 [==============================] - 0s 10ms/step - loss: 0.4494 - accuracy: 0.8051 - val_loss: 0.4497 - val_accuracy: 0.8000\n",
      "Epoch 90/100\n",
      "12/12 [==============================] - 0s 7ms/step - loss: 0.4480 - accuracy: 0.8136 - val_loss: 0.4476 - val_accuracy: 0.8057\n",
      "Epoch 91/100\n",
      "12/12 [==============================] - 0s 7ms/step - loss: 0.4474 - accuracy: 0.8249 - val_loss: 0.4460 - val_accuracy: 0.8057\n",
      "Epoch 92/100\n",
      "12/12 [==============================] - 0s 9ms/step - loss: 0.4460 - accuracy: 0.8164 - val_loss: 0.4449 - val_accuracy: 0.8057\n",
      "Epoch 93/100\n",
      "12/12 [==============================] - 0s 12ms/step - loss: 0.4441 - accuracy: 0.8107 - val_loss: 0.4443 - val_accuracy: 0.8000\n",
      "Epoch 94/100\n",
      "12/12 [==============================] - 0s 9ms/step - loss: 0.4426 - accuracy: 0.8079 - val_loss: 0.4419 - val_accuracy: 0.8057\n",
      "Epoch 95/100\n",
      "12/12 [==============================] - 0s 7ms/step - loss: 0.4411 - accuracy: 0.8136 - val_loss: 0.4400 - val_accuracy: 0.8057\n",
      "Epoch 96/100\n",
      "12/12 [==============================] - 0s 6ms/step - loss: 0.4402 - accuracy: 0.8362 - val_loss: 0.4377 - val_accuracy: 0.8114\n",
      "Epoch 97/100\n",
      "12/12 [==============================] - 0s 6ms/step - loss: 0.4389 - accuracy: 0.8333 - val_loss: 0.4361 - val_accuracy: 0.8114\n",
      "Epoch 98/100\n",
      "12/12 [==============================] - 0s 8ms/step - loss: 0.4377 - accuracy: 0.8333 - val_loss: 0.4347 - val_accuracy: 0.8114\n",
      "Epoch 99/100\n",
      "12/12 [==============================] - 0s 7ms/step - loss: 0.4363 - accuracy: 0.8333 - val_loss: 0.4335 - val_accuracy: 0.8114\n",
      "Epoch 100/100\n",
      "12/12 [==============================] - 0s 9ms/step - loss: 0.4344 - accuracy: 0.8362 - val_loss: 0.4325 - val_accuracy: 0.8057\n"
     ]
    }
   ],
   "source": [
    "model.compile(optimizer='adam', loss='binary_crossentropy', metrics=['accuracy'])\n",
    "history = model.fit(train_features,train_target,validation_data=(test_features,test_target),epochs=100,batch_size=32)"
   ]
  },
  {
   "cell_type": "code",
   "execution_count": 10,
   "id": "30cd4f13",
   "metadata": {},
   "outputs": [
    {
     "name": "stdout",
     "output_type": "stream",
     "text": [
      "Model: \"sequential\"\n",
      "_________________________________________________________________\n",
      "Layer (type)                 Output Shape              Param #   \n",
      "=================================================================\n",
      "dense (Dense)                (None, 10)                110       \n",
      "_________________________________________________________________\n",
      "rbf_layer (RBFLayer)         (None, 10)                100       \n",
      "_________________________________________________________________\n",
      "dense_1 (Dense)              (None, 1)                 11        \n",
      "=================================================================\n",
      "Total params: 221\n",
      "Trainable params: 221\n",
      "Non-trainable params: 0\n",
      "_________________________________________________________________\n"
     ]
    }
   ],
   "source": [
    "model.summary()"
   ]
  },
  {
   "cell_type": "code",
   "execution_count": 11,
   "id": "820cc261",
   "metadata": {},
   "outputs": [
    {
     "data": {
      "image/png": "[encoded data removed]",
      "text/plain": [
       "<Figure size 432x288 with 1 Axes>"
      ]
     },
     "metadata": {
      "needs_background": "light"
     },
     "output_type": "display_data"
    }
   ],
   "source": [
    "plt.plot(history.history['loss'],label='Training Loss')\n",
    "plt.plot(history.history['val_loss'],label='Validation Loss')\n",
    "plt.title('Model Loss')\n",
    "plt.ylabel('Loss')\n",
    "plt.xlabel('epoch')\n",
    "plt.legend(['train','Validation'],loc='upper right')\n",
    "plt.show()"
   ]
  },
  {
   "cell_type": "code",
   "execution_count": 12,
   "id": "70d4472b",
   "metadata": {},
   "outputs": [
    {
     "data": {
      "image/png": "[encoded data removed]",
      "text/plain": [
       "<Figure size 432x288 with 1 Axes>"
      ]
     },
     "metadata": {
      "needs_background": "light"
     },
     "output_type": "display_data"
    }
   ],
   "source": [
    "plt.plot(history.history['accuracy'],label='Training accuracy')\n",
    "plt.plot(history.history['val_accuracy'],label='Validation accuracy')\n",
    "plt.title('Model accuracy')\n",
    "plt.ylabel('Loss')\n",
    "plt.xlabel('epoch')\n",
    "plt.legend(['train','Accuracy'],loc='upper right')\n",
    "plt.show()"
   ]
  },
  {
   "cell_type": "code",
   "execution_count": 13,
   "id": "865ffa67",
   "metadata": {},
   "outputs": [
    {
     "name": "stdout",
     "output_type": "stream",
     "text": [
      "Test Accuracy: 80.571\n"
     ]
    }
   ],
   "source": [
    "loss, acc = model.evaluate(test_features, test_target, verbose=0)\n",
    "print('Test Accuracy: %.3f' %(acc * 100.0))"
   ]
  },
  {
   "cell_type": "code",
   "execution_count": 14,
   "id": "8dd27b13",
   "metadata": {},
   "outputs": [
    {
     "data": {
      "text/plain": [
       "array([[112,   3],\n",
       "       [ 31,  29]], dtype=int64)"
      ]
     },
     "execution_count": 14,
     "metadata": {},
     "output_type": "execute_result"
    }
   ],
   "source": [
    "from sklearn.metrics import classification_report, confusion_matrix\n",
    "\n",
    "prediction = model.predict(test_features)\n",
    "data = []\n",
    "for x in prediction:\n",
    "    if x[0] > 0.5:\n",
    "        data.append(1)\n",
    "    else:\n",
    "        data.append(0)\n",
    "\n",
    "cnf_matrix = confusion_matrix(test_target, data)\n",
    "cnf_matrix"
   ]
  },
  {
   "cell_type": "code",
   "execution_count": 15,
   "id": "2bd673f6",
   "metadata": {},
   "outputs": [
    {
     "name": "stdout",
     "output_type": "stream",
     "text": [
      "Traning RMSE: 0.3656\n",
      "\n",
      "\n",
      "Testing RMSE: 0.3658\n"
     ]
    }
   ],
   "source": [
    "from sklearn.metrics import mean_squared_error\n",
    "from math import sqrt\n",
    "\n",
    "RMSE_test = sqrt(mean_squared_error(test_target, prediction)) \n",
    "\n",
    "\n",
    "from sklearn.metrics import mean_squared_error\n",
    "from math import sqrt\n",
    "train_prediction = model.predict(train_features)\n",
    "RMSE_train = sqrt(mean_squared_error(train_target, train_prediction))\n",
    "\n",
    "print('Traning RMSE: %.4f'%RMSE_train)\n",
    "print('\\n')\n",
    "print('Testing RMSE: %.4f'%RMSE_test)"
   ]
  },
  {
   "cell_type": "code",
   "execution_count": null,
   "id": "f1f1e2fa",
   "metadata": {},
   "outputs": [],
   "source": []
  }
 ],
 "metadata": {
  "kernelspec": {
   "display_name": "Python 3",
   "language": "python",
   "name": "python3"
  },
  "language_info": {
   "codemirror_mode": {
    "name": "ipython",
    "version": 3
   },
   "file_extension": ".py",
   "mimetype": "text/x-python",
   "name": "python",
   "nbconvert_exporter": "python",
   "pygments_lexer": "ipython3",
   "version": "3.8.8"
  }
 },
 "nbformat": 4,
 "nbformat_minor": 5
}
