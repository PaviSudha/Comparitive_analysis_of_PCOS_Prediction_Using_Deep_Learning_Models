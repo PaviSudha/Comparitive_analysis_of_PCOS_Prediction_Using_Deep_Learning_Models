{
 "cells": [
  {
   "cell_type": "code",
   "execution_count": 1,
   "id": "f6994fe8",
   "metadata": {},
   "outputs": [],
   "source": [
    "import pandas as pd\n",
    "import matplotlib.pyplot as plt\n",
    "\n",
    "from sklearn.model_selection import train_test_split\n",
    "from sklearn.preprocessing import StandardScaler\n",
    "from sklearn import metrics\n",
    "\n",
    "from sklearn.metrics import confusion_matrix \n",
    "from sklearn.metrics import accuracy_score \n",
    "from sklearn.metrics import classification_report \n",
    "\n",
    "import seaborn as sns"
   ]
  },
  {
   "cell_type": "code",
   "execution_count": 2,
   "id": "e1e3607f",
   "metadata": {},
   "outputs": [],
   "source": [
    "df = pd.read_csv(\"data/cleaned_data1.csv\")"
   ]
  },
  {
   "cell_type": "code",
   "execution_count": 3,
   "id": "ab8effeb",
   "metadata": {},
   "outputs": [
    {
     "data": {
      "text/html": [
       "<div>\n",
       "<style scoped>\n",
       "    .dataframe tbody tr th:only-of-type {\n",
       "        vertical-align: middle;\n",
       "    }\n",
       "\n",
       "    .dataframe tbody tr th {\n",
       "        vertical-align: top;\n",
       "    }\n",
       "\n",
       "    .dataframe thead th {\n",
       "        text-align: right;\n",
       "    }\n",
       "</style>\n",
       "<table border=\"1\" class=\"dataframe\">\n",
       "  <thead>\n",
       "    <tr style=\"text-align: right;\">\n",
       "      <th></th>\n",
       "      <th>Age (yrs)</th>\n",
       "      <th>Weight (Kg)</th>\n",
       "      <th>Height(Cm)</th>\n",
       "      <th>BMI</th>\n",
       "      <th>Blood Group</th>\n",
       "      <th>Pulse rate(bpm)</th>\n",
       "      <th>RR (breaths/min)</th>\n",
       "      <th>Hb(g/dl)</th>\n",
       "      <th>Cycle(R/I)</th>\n",
       "      <th>Cycle length(days)</th>\n",
       "      <th>...</th>\n",
       "      <th>Pimples(Y/N)</th>\n",
       "      <th>Fast food (Y/N)</th>\n",
       "      <th>Reg.Exercise(Y/N)</th>\n",
       "      <th>BP _Systolic (mmHg)</th>\n",
       "      <th>BP _Diastolic (mmHg)</th>\n",
       "      <th>Follicle No. (L)</th>\n",
       "      <th>Follicle No. (R)</th>\n",
       "      <th>Avg. F size (L) (mm)</th>\n",
       "      <th>Avg. F size (R) (mm)</th>\n",
       "      <th>Endometrium (mm)</th>\n",
       "    </tr>\n",
       "  </thead>\n",
       "  <tbody>\n",
       "    <tr>\n",
       "      <th>0</th>\n",
       "      <td>28.0</td>\n",
       "      <td>44.6</td>\n",
       "      <td>152.0</td>\n",
       "      <td>19.300000</td>\n",
       "      <td>15</td>\n",
       "      <td>77.0</td>\n",
       "      <td>22</td>\n",
       "      <td>13.5</td>\n",
       "      <td>2</td>\n",
       "      <td>5.0</td>\n",
       "      <td>...</td>\n",
       "      <td>0</td>\n",
       "      <td>1.0</td>\n",
       "      <td>0</td>\n",
       "      <td>110.0</td>\n",
       "      <td>80.0</td>\n",
       "      <td>3.0</td>\n",
       "      <td>3</td>\n",
       "      <td>18.0</td>\n",
       "      <td>18.0</td>\n",
       "      <td>8.5</td>\n",
       "    </tr>\n",
       "    <tr>\n",
       "      <th>1</th>\n",
       "      <td>36.0</td>\n",
       "      <td>65.0</td>\n",
       "      <td>161.5</td>\n",
       "      <td>24.921163</td>\n",
       "      <td>15</td>\n",
       "      <td>74.0</td>\n",
       "      <td>20</td>\n",
       "      <td>13.5</td>\n",
       "      <td>2</td>\n",
       "      <td>5.0</td>\n",
       "      <td>...</td>\n",
       "      <td>0</td>\n",
       "      <td>0.0</td>\n",
       "      <td>0</td>\n",
       "      <td>120.0</td>\n",
       "      <td>70.0</td>\n",
       "      <td>3.0</td>\n",
       "      <td>5</td>\n",
       "      <td>15.0</td>\n",
       "      <td>14.0</td>\n",
       "      <td>3.7</td>\n",
       "    </tr>\n",
       "    <tr>\n",
       "      <th>2</th>\n",
       "      <td>33.0</td>\n",
       "      <td>68.8</td>\n",
       "      <td>165.0</td>\n",
       "      <td>25.270891</td>\n",
       "      <td>11</td>\n",
       "      <td>72.0</td>\n",
       "      <td>18</td>\n",
       "      <td>13.5</td>\n",
       "      <td>2</td>\n",
       "      <td>5.0</td>\n",
       "      <td>...</td>\n",
       "      <td>1</td>\n",
       "      <td>1.0</td>\n",
       "      <td>0</td>\n",
       "      <td>120.0</td>\n",
       "      <td>80.0</td>\n",
       "      <td>13.0</td>\n",
       "      <td>15</td>\n",
       "      <td>18.0</td>\n",
       "      <td>20.0</td>\n",
       "      <td>10.0</td>\n",
       "    </tr>\n",
       "    <tr>\n",
       "      <th>3</th>\n",
       "      <td>37.0</td>\n",
       "      <td>65.0</td>\n",
       "      <td>148.0</td>\n",
       "      <td>29.674945</td>\n",
       "      <td>13</td>\n",
       "      <td>72.0</td>\n",
       "      <td>20</td>\n",
       "      <td>13.5</td>\n",
       "      <td>2</td>\n",
       "      <td>5.0</td>\n",
       "      <td>...</td>\n",
       "      <td>0</td>\n",
       "      <td>0.0</td>\n",
       "      <td>0</td>\n",
       "      <td>120.0</td>\n",
       "      <td>70.0</td>\n",
       "      <td>2.0</td>\n",
       "      <td>2</td>\n",
       "      <td>15.0</td>\n",
       "      <td>14.0</td>\n",
       "      <td>7.5</td>\n",
       "    </tr>\n",
       "    <tr>\n",
       "      <th>4</th>\n",
       "      <td>25.0</td>\n",
       "      <td>52.0</td>\n",
       "      <td>161.0</td>\n",
       "      <td>20.060954</td>\n",
       "      <td>11</td>\n",
       "      <td>72.0</td>\n",
       "      <td>18</td>\n",
       "      <td>13.5</td>\n",
       "      <td>2</td>\n",
       "      <td>5.0</td>\n",
       "      <td>...</td>\n",
       "      <td>0</td>\n",
       "      <td>0.0</td>\n",
       "      <td>0</td>\n",
       "      <td>120.0</td>\n",
       "      <td>80.0</td>\n",
       "      <td>3.0</td>\n",
       "      <td>4</td>\n",
       "      <td>16.0</td>\n",
       "      <td>14.0</td>\n",
       "      <td>7.0</td>\n",
       "    </tr>\n",
       "  </tbody>\n",
       "</table>\n",
       "<p>5 rows × 37 columns</p>\n",
       "</div>"
      ],
      "text/plain": [
       "    Age (yrs)  Weight (Kg)  Height(Cm)         BMI  Blood Group  \\\n",
       "0        28.0         44.6        152.0  19.300000           15   \n",
       "1        36.0         65.0        161.5  24.921163           15   \n",
       "2        33.0         68.8        165.0  25.270891           11   \n",
       "3        37.0         65.0        148.0  29.674945           13   \n",
       "4        25.0         52.0        161.0  20.060954           11   \n",
       "\n",
       "   Pulse rate(bpm)   RR (breaths/min)  Hb(g/dl)  Cycle(R/I)  \\\n",
       "0              77.0                22      13.5           2   \n",
       "1              74.0                20      13.5           2   \n",
       "2              72.0                18      13.5           2   \n",
       "3              72.0                20      13.5           2   \n",
       "4              72.0                18      13.5           2   \n",
       "\n",
       "   Cycle length(days)  ...  Pimples(Y/N)  Fast food (Y/N)  Reg.Exercise(Y/N)  \\\n",
       "0                 5.0  ...             0              1.0                  0   \n",
       "1                 5.0  ...             0              0.0                  0   \n",
       "2                 5.0  ...             1              1.0                  0   \n",
       "3                 5.0  ...             0              0.0                  0   \n",
       "4                 5.0  ...             0              0.0                  0   \n",
       "\n",
       "   BP _Systolic (mmHg)  BP _Diastolic (mmHg)  Follicle No. (L)  \\\n",
       "0                110.0                  80.0               3.0   \n",
       "1                120.0                  70.0               3.0   \n",
       "2                120.0                  80.0              13.0   \n",
       "3                120.0                  70.0               2.0   \n",
       "4                120.0                  80.0               3.0   \n",
       "\n",
       "   Follicle No. (R)  Avg. F size (L) (mm)  Avg. F size (R) (mm)  \\\n",
       "0                 3                  18.0                  18.0   \n",
       "1                 5                  15.0                  14.0   \n",
       "2                15                  18.0                  20.0   \n",
       "3                 2                  15.0                  14.0   \n",
       "4                 4                  16.0                  14.0   \n",
       "\n",
       "   Endometrium (mm)  \n",
       "0               8.5  \n",
       "1               3.7  \n",
       "2              10.0  \n",
       "3               7.5  \n",
       "4               7.0  \n",
       "\n",
       "[5 rows x 37 columns]"
      ]
     },
     "execution_count": 3,
     "metadata": {},
     "output_type": "execute_result"
    }
   ],
   "source": [
    "X = df.drop(columns=[\"PCOS (Y/N)\"])\n",
    "X.head()"
   ]
  },
  {
   "cell_type": "code",
   "execution_count": 4,
   "id": "f1c451fb",
   "metadata": {},
   "outputs": [],
   "source": [
    "y = df[\"PCOS (Y/N)\"].values"
   ]
  },
  {
   "cell_type": "code",
   "execution_count": 5,
   "id": "08172fe6",
   "metadata": {},
   "outputs": [],
   "source": [
    "from sklearn.preprocessing import StandardScaler\n",
    "sc=StandardScaler()\n",
    "\n",
    "scaler = sc.fit(X)\n",
    "X = scaler.transform(X)"
   ]
  },
  {
   "cell_type": "code",
   "execution_count": 6,
   "id": "4205071d",
   "metadata": {},
   "outputs": [],
   "source": [
    "from sklearn.manifold import LocallyLinearEmbedding\n",
    "lle = LocallyLinearEmbedding(n_neighbors=5, n_components=10)\n",
    "X = lle.fit_transform(X)"
   ]
  },
  {
   "cell_type": "code",
   "execution_count": 7,
   "id": "209832bc",
   "metadata": {},
   "outputs": [
    {
     "name": "stderr",
     "output_type": "stream",
     "text": [
      "C:\\Users\\pavithra\\anaconda3\\lib\\site-packages\\seaborn\\_decorators.py:36: FutureWarning: Pass the following variables as keyword args: x, y. From version 0.12, the only valid positional argument will be `data`, and passing other arguments without an explicit keyword will result in an error or misinterpretation.\n",
      "  warnings.warn(\n"
     ]
    },
    {
     "data": {
      "text/plain": [
       "Text(0.5, 1.0, 'LLE')"
      ]
     },
     "execution_count": 7,
     "metadata": {},
     "output_type": "execute_result"
    },
    {
     "data": {
      "image/png": "[encoded data removed]",
      "text/plain": [
       "<Figure size 432x288 with 1 Axes>"
      ]
     },
     "metadata": {
      "needs_background": "light"
     },
     "output_type": "display_data"
    }
   ],
   "source": [
    "sns.scatterplot(X[:,0], X[:,1], hue=y, palette='Set1')\n",
    "plt.title(\"LLE\", fontsize=15)"
   ]
  },
  {
   "cell_type": "code",
   "execution_count": 8,
   "id": "1751f3d2",
   "metadata": {},
   "outputs": [],
   "source": [
    "#split dataset into train and test data\n",
    "train_features, test_features, train_target, test_target = train_test_split(X,y,test_size=0.33, random_state=13)"
   ]
  },
  {
   "cell_type": "code",
   "execution_count": 9,
   "id": "e1305b3f",
   "metadata": {},
   "outputs": [],
   "source": [
    "from sklearn.neural_network import MLPClassifier\n",
    "import numpy as np\n",
    "from sklearn import metrics"
   ]
  },
  {
   "cell_type": "code",
   "execution_count": 10,
   "id": "12a3b87f",
   "metadata": {},
   "outputs": [
    {
     "name": "stdout",
     "output_type": "stream",
     "text": [
      "Iteration 1, loss = 0.74884743\n",
      "Iteration 2, loss = 0.74830238\n",
      "Iteration 3, loss = 0.74740436\n",
      "Iteration 4, loss = 0.74637307\n",
      "Iteration 5, loss = 0.74505542\n",
      "Iteration 6, loss = 0.74366845\n",
      "Iteration 7, loss = 0.74212910\n",
      "Iteration 8, loss = 0.74055997\n",
      "Iteration 9, loss = 0.73888529\n",
      "Iteration 10, loss = 0.73717265\n",
      "Iteration 11, loss = 0.73547812\n",
      "Iteration 12, loss = 0.73379415\n",
      "Iteration 13, loss = 0.73195240\n",
      "Iteration 14, loss = 0.73031611\n",
      "Iteration 15, loss = 0.72854202\n",
      "Iteration 16, loss = 0.72685584\n",
      "Iteration 17, loss = 0.72517783\n",
      "Iteration 18, loss = 0.72350879\n",
      "Iteration 19, loss = 0.72186485\n",
      "Iteration 20, loss = 0.72029443\n",
      "Iteration 21, loss = 0.71867733\n",
      "Iteration 22, loss = 0.71717525\n",
      "Iteration 23, loss = 0.71558568\n",
      "Iteration 24, loss = 0.71412382\n",
      "Iteration 25, loss = 0.71261635\n",
      "Iteration 26, loss = 0.71125090\n",
      "Iteration 27, loss = 0.70980388\n",
      "Iteration 28, loss = 0.70846175\n",
      "Iteration 29, loss = 0.70705453\n",
      "Iteration 30, loss = 0.70575877\n",
      "Iteration 31, loss = 0.70445390\n",
      "Iteration 32, loss = 0.70312555\n",
      "Iteration 33, loss = 0.70192579\n",
      "Iteration 34, loss = 0.70067026\n",
      "Iteration 35, loss = 0.69944856\n",
      "Iteration 36, loss = 0.69828682\n",
      "Iteration 37, loss = 0.69710573\n",
      "Iteration 38, loss = 0.69597746\n",
      "Iteration 39, loss = 0.69484969\n",
      "Iteration 40, loss = 0.69374243\n",
      "Iteration 41, loss = 0.69261207\n",
      "Iteration 42, loss = 0.69157387\n",
      "Iteration 43, loss = 0.69059195\n",
      "Iteration 44, loss = 0.68949055\n",
      "Iteration 45, loss = 0.68849843\n",
      "Iteration 46, loss = 0.68756380\n",
      "Iteration 47, loss = 0.68647061\n",
      "Iteration 48, loss = 0.68565270\n",
      "Iteration 49, loss = 0.68466469\n",
      "Iteration 50, loss = 0.68373822\n",
      "Iteration 51, loss = 0.68282902\n",
      "Iteration 52, loss = 0.68195165\n",
      "Iteration 53, loss = 0.68113266\n",
      "Iteration 54, loss = 0.68023063\n",
      "Iteration 55, loss = 0.67938870\n",
      "Iteration 56, loss = 0.67855971\n",
      "Iteration 57, loss = 0.67777701\n",
      "Iteration 58, loss = 0.67700800\n",
      "Iteration 59, loss = 0.67616243\n",
      "Iteration 60, loss = 0.67543738\n",
      "Iteration 61, loss = 0.67466665\n",
      "Iteration 62, loss = 0.67392816\n",
      "Iteration 63, loss = 0.67320807\n",
      "Iteration 64, loss = 0.67250387\n",
      "Iteration 65, loss = 0.67181752\n",
      "Iteration 66, loss = 0.67109202\n",
      "Iteration 67, loss = 0.67038890\n",
      "Iteration 68, loss = 0.66976085\n",
      "Iteration 69, loss = 0.66909147\n",
      "Iteration 70, loss = 0.66846003\n",
      "Iteration 71, loss = 0.66781271\n",
      "Iteration 72, loss = 0.66719567\n",
      "Iteration 73, loss = 0.66652246\n",
      "Iteration 74, loss = 0.66598095\n",
      "Iteration 75, loss = 0.66537255\n",
      "Iteration 76, loss = 0.66474855\n",
      "Iteration 77, loss = 0.66420926\n",
      "Iteration 78, loss = 0.66363792\n",
      "Iteration 79, loss = 0.66306119\n",
      "Iteration 80, loss = 0.66249691\n",
      "Mean accuracy of prediction: 66.0\n"
     ]
    },
    {
     "name": "stderr",
     "output_type": "stream",
     "text": [
      "C:\\Users\\pavithra\\anaconda3\\lib\\site-packages\\sklearn\\neural_network\\_multilayer_perceptron.py:692: ConvergenceWarning: Stochastic Optimizer: Maximum iterations (80) reached and the optimization hasn't converged yet.\n",
      "  warnings.warn(\n"
     ]
    }
   ],
   "source": [
    "classifier = MLPClassifier(hidden_layer_sizes=15, max_iter=80,activation='relu', solver='sgd', verbose=5,random_state=10)\n",
    "classifier.fit(train_features, train_target)\n",
    "    \n",
    "prediction = classifier.predict(test_features)\n",
    "score = np.round(metrics.accuracy_score(test_target, prediction),2)\n",
    "print(\"Mean accuracy of prediction: \" +str(score*100))"
   ]
  },
  {
   "cell_type": "code",
   "execution_count": 11,
   "id": "5ac6212d",
   "metadata": {},
   "outputs": [
    {
     "name": "stderr",
     "output_type": "stream",
     "text": [
      "C:\\Users\\pavithra\\anaconda3\\lib\\site-packages\\sklearn\\utils\\deprecation.py:87: FutureWarning: Function plot_confusion_matrix is deprecated; Function `plot_confusion_matrix` is deprecated in 1.0 and will be removed in 1.2. Use one of the class methods: ConfusionMatrixDisplay.from_predictions or ConfusionMatrixDisplay.from_estimator.\n",
      "  warnings.warn(msg, category=FutureWarning)\n"
     ]
    },
    {
     "data": {
      "image/png": "[encoded data removed]",
      "text/plain": [
       "<Figure size 432x288 with 2 Axes>"
      ]
     },
     "metadata": {
      "needs_background": "light"
     },
     "output_type": "display_data"
    }
   ],
   "source": [
    "from sklearn.metrics import plot_confusion_matrix\n",
    "fig = plot_confusion_matrix(classifier, test_features, test_target)\n",
    "fig.figure_.suptitle(\"Confusion Matrix for PCOS Dataset\")\n",
    "plt.show()"
   ]
  },
  {
   "cell_type": "code",
   "execution_count": 12,
   "id": "a03b5cd5",
   "metadata": {},
   "outputs": [
    {
     "data": {
      "image/png": "[encoded data removed]",
      "text/plain": [
       "<Figure size 432x288 with 1 Axes>"
      ]
     },
     "metadata": {
      "needs_background": "light"
     },
     "output_type": "display_data"
    }
   ],
   "source": [
    "plt.plot(classifier.loss_curve_)\n",
    "plt.title(\"Loss Curve\", fontsize=14)\n",
    "plt.xlabel('Iterations')\n",
    "plt.ylabel('loss')\n",
    "plt.show()"
   ]
  },
  {
   "cell_type": "code",
   "execution_count": 13,
   "id": "59530619",
   "metadata": {},
   "outputs": [
    {
     "name": "stdout",
     "output_type": "stream",
     "text": [
      "              precision    recall  f1-score   support\n",
      "\n",
      "           0       0.66      1.00      0.79       115\n",
      "           1       0.00      0.00      0.00        60\n",
      "\n",
      "    accuracy                           0.66       175\n",
      "   macro avg       0.33      0.50      0.40       175\n",
      "weighted avg       0.43      0.66      0.52       175\n",
      "\n"
     ]
    },
    {
     "name": "stderr",
     "output_type": "stream",
     "text": [
      "C:\\Users\\pavithra\\anaconda3\\lib\\site-packages\\sklearn\\metrics\\_classification.py:1318: UndefinedMetricWarning: Precision and F-score are ill-defined and being set to 0.0 in labels with no predicted samples. Use `zero_division` parameter to control this behavior.\n",
      "  _warn_prf(average, modifier, msg_start, len(result))\n",
      "C:\\Users\\pavithra\\anaconda3\\lib\\site-packages\\sklearn\\metrics\\_classification.py:1318: UndefinedMetricWarning: Precision and F-score are ill-defined and being set to 0.0 in labels with no predicted samples. Use `zero_division` parameter to control this behavior.\n",
      "  _warn_prf(average, modifier, msg_start, len(result))\n",
      "C:\\Users\\pavithra\\anaconda3\\lib\\site-packages\\sklearn\\metrics\\_classification.py:1318: UndefinedMetricWarning: Precision and F-score are ill-defined and being set to 0.0 in labels with no predicted samples. Use `zero_division` parameter to control this behavior.\n",
      "  _warn_prf(average, modifier, msg_start, len(result))\n"
     ]
    }
   ],
   "source": [
    "print(classification_report(test_target, prediction))"
   ]
  },
  {
   "cell_type": "code",
   "execution_count": 14,
   "id": "34336432",
   "metadata": {},
   "outputs": [
    {
     "name": "stdout",
     "output_type": "stream",
     "text": [
      "Traning RMSE: 0.5625\n",
      "\n",
      "\n",
      "Testing RMSE: 0.5855\n"
     ]
    }
   ],
   "source": [
    "#Validation\n",
    "\n",
    "from sklearn.metrics import mean_squared_error\n",
    "from math import sqrt\n",
    "\n",
    "#calculate RMSE\n",
    "RMSE_test = sqrt(mean_squared_error(test_target, prediction)) \n",
    "\n",
    "#Traning\n",
    "\n",
    "from sklearn.metrics import mean_squared_error\n",
    "from math import sqrt\n",
    "train_prediction = classifier.predict(train_features)\n",
    "#calculate RMSE\n",
    "RMSE_train = sqrt(mean_squared_error(train_target, train_prediction))\n",
    "\n",
    "print('Traning RMSE: %.4f'%RMSE_train)\n",
    "print('\\n')\n",
    "print('Testing RMSE: %.4f'%RMSE_test)"
   ]
  },
  {
   "cell_type": "code",
   "execution_count": 15,
   "id": "965be47d",
   "metadata": {},
   "outputs": [
    {
     "name": "stdout",
     "output_type": "stream",
     "text": [
      "Traning RMSE: 0.5625\n",
      "\n",
      "\n",
      "Testing RMSE: 0.3429\n"
     ]
    }
   ],
   "source": [
    "#Validation\n",
    "\n",
    "from sklearn.metrics import mean_absolute_error\n",
    "from math import sqrt\n",
    "\n",
    "#calculate RMSE\n",
    "MAE_test = mean_absolute_error(test_target, prediction)\n",
    "\n",
    "#Traning\n",
    "\n",
    "from sklearn.metrics import mean_squared_error\n",
    "from math import sqrt\n",
    "train_prediction = classifier.predict(train_features)\n",
    "#calculate RMSE\n",
    "MAE_train = sqrt(mean_squared_error(train_target, train_prediction))\n",
    "\n",
    "print('Traning RMSE: %.4f'%MAE_train)\n",
    "print('\\n')\n",
    "print('Testing RMSE: %.4f'%MAE_test)"
   ]
  }
 ],
 "metadata": {
  "kernelspec": {
   "display_name": "Python 3",
   "language": "python",
   "name": "python3"
  },
  "language_info": {
   "codemirror_mode": {
    "name": "ipython",
    "version": 3
   },
   "file_extension": ".py",
   "mimetype": "text/x-python",
   "name": "python",
   "nbconvert_exporter": "python",
   "pygments_lexer": "ipython3",
   "version": "3.8.8"
  }
 },
 "nbformat": 4,
 "nbformat_minor": 5
}
