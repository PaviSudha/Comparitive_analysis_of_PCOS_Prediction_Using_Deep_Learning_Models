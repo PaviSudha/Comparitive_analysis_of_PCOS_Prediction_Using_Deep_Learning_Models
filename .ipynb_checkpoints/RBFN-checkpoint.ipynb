{
 "cells": [
  {
   "cell_type": "markdown",
   "id": "df6be6cd",
   "metadata": {},
   "source": [
    "# Import Libraries"
   ]
  },
  {
   "cell_type": "code",
   "execution_count": 1,
   "id": "6ce95c0e",
   "metadata": {},
   "outputs": [],
   "source": [
    "import numpy as np\n",
    "import pandas as pd\n",
    "from sklearn import svm, metrics\n",
    "from sklearn.model_selection import train_test_split\n",
    "from sklearn.preprocessing import MinMaxScaler\n",
    "import matplotlib.pyplot as plt\n",
    "import seaborn as sns\n",
    "\n",
    "from sklearn.decomposition import PCA\n",
    "\n",
    "# Import label encoder\n",
    "from sklearn import preprocessing\n",
    "\n",
    "import numpy as np\n",
    "import matplotlib.pyplot as plt\n",
    "import matplotlib.cm as cm\n",
    "import random\n",
    "from keras.models import Sequential\n",
    "from keras.layers import Activation, Dropout, Flatten, Dense, LSTM, RepeatVector, TimeDistributed\n",
    "\n",
    "from keras.layers import Layer\n",
    "from keras import backend as K\n",
    "from tensorflow import keras\n",
    "import tensorflow as tf\n",
    "from tensorflow.keras.optimizers import SGD"
   ]
  },
  {
   "cell_type": "markdown",
   "id": "5d6e363e",
   "metadata": {},
   "source": [
    "Import Dataset"
   ]
  },
  {
   "cell_type": "code",
   "execution_count": 2,
   "id": "5881d065",
   "metadata": {},
   "outputs": [],
   "source": [
    "df = pd.read_csv('data/cleaned_data1.csv')"
   ]
  },
  {
   "cell_type": "code",
   "execution_count": 3,
   "id": "d57ec261",
   "metadata": {},
   "outputs": [],
   "source": [
    "X = df.drop(columns=[\"PCOS (Y/N)\"])\n",
    "y = df[\"PCOS (Y/N)\"].values"
   ]
  },
  {
   "cell_type": "code",
   "execution_count": 4,
   "id": "ba767418",
   "metadata": {},
   "outputs": [
    {
     "data": {
      "text/plain": [
       "(529, 37)"
      ]
     },
     "execution_count": 4,
     "metadata": {},
     "output_type": "execute_result"
    }
   ],
   "source": [
    "from sklearn.preprocessing import StandardScaler\n",
    "scaler = StandardScaler()\n",
    "X = scaler.fit_transform(X)\n",
    "X.shape"
   ]
  },
  {
   "cell_type": "code",
   "execution_count": 5,
   "id": "d5a3cc96",
   "metadata": {},
   "outputs": [],
   "source": [
    "#split dataset into train and test data\n",
    "train_features, test_features, train_target, test_target = train_test_split(X,y,test_size=0.33, random_state=13)"
   ]
  },
  {
   "cell_type": "code",
   "execution_count": 6,
   "id": "b2d30180",
   "metadata": {},
   "outputs": [],
   "source": [
    "class RBFLayer(Layer):\n",
    "    def __init__(self, units, gamma, **kwargs):\n",
    "        super(RBFLayer, self).__init__(**kwargs)\n",
    "        self.units = units\n",
    "        self.gamma = K.cast_to_floatx(gamma)\n",
    "\n",
    "    def build(self, input_shape):\n",
    "#         print(input_shape)\n",
    "#         print(self.units)\n",
    "        self.mu = self.add_weight(name='mu',\n",
    "                                  shape=(int(input_shape[1]), self.units),\n",
    "                                  initializer='uniform',\n",
    "                                  trainable=True)\n",
    "        super(RBFLayer, self).build(input_shape)\n",
    "\n",
    "    def call(self, inputs):\n",
    "        diff = K.expand_dims(inputs) - self.mu\n",
    "        l2 = K.sum(K.pow(diff, 2), axis=1)\n",
    "        res = K.exp(-1 * self.gamma * l2)\n",
    "        return res\n",
    "\n",
    "    def compute_output_shape(self, input_shape):\n",
    "        return (input_shape[0], self.units)"
   ]
  },
  {
   "cell_type": "code",
   "execution_count": 7,
   "id": "085e1c0e",
   "metadata": {},
   "outputs": [
    {
     "data": {
      "text/plain": [
       "(354, 37)"
      ]
     },
     "execution_count": 7,
     "metadata": {},
     "output_type": "execute_result"
    }
   ],
   "source": [
    "train_features.shape"
   ]
  },
  {
   "cell_type": "code",
   "execution_count": 8,
   "id": "9f012106",
   "metadata": {},
   "outputs": [],
   "source": [
    "model = Sequential()\n",
    "model.add(Dense(37, input_dim=37, activation='relu'))\n",
    "model.add(RBFLayer(37, 0.3))\n",
    "model.add(Dense(1, activation='sigmoid'))"
   ]
  },
  {
   "cell_type": "code",
   "execution_count": 9,
   "id": "760daea4",
   "metadata": {},
   "outputs": [
    {
     "name": "stdout",
     "output_type": "stream",
     "text": [
      "Epoch 1/100\n",
      "12/12 [==============================] - 0s 25ms/step - loss: 0.6943 - accuracy: 0.4887 - val_loss: 0.6911 - val_accuracy: 0.6400\n",
      "Epoch 2/100\n",
      "12/12 [==============================] - 0s 3ms/step - loss: 0.6887 - accuracy: 0.6921 - val_loss: 0.6868 - val_accuracy: 0.6571\n",
      "Epoch 3/100\n",
      "12/12 [==============================] - 0s 3ms/step - loss: 0.6841 - accuracy: 0.6836 - val_loss: 0.6813 - val_accuracy: 0.6571\n",
      "Epoch 4/100\n",
      "12/12 [==============================] - 0s 4ms/step - loss: 0.6775 - accuracy: 0.6836 - val_loss: 0.6729 - val_accuracy: 0.6571\n",
      "Epoch 5/100\n",
      "12/12 [==============================] - 0s 5ms/step - loss: 0.6653 - accuracy: 0.6836 - val_loss: 0.6560 - val_accuracy: 0.6571\n",
      "Epoch 6/100\n",
      "12/12 [==============================] - 0s 4ms/step - loss: 0.6414 - accuracy: 0.6836 - val_loss: 0.6246 - val_accuracy: 0.6571\n",
      "Epoch 7/100\n",
      "12/12 [==============================] - 0s 4ms/step - loss: 0.6044 - accuracy: 0.6836 - val_loss: 0.5831 - val_accuracy: 0.6571\n",
      "Epoch 8/100\n",
      "12/12 [==============================] - 0s 4ms/step - loss: 0.5535 - accuracy: 0.6836 - val_loss: 0.5350 - val_accuracy: 0.6571\n",
      "Epoch 9/100\n",
      "12/12 [==============================] - 0s 4ms/step - loss: 0.5030 - accuracy: 0.6836 - val_loss: 0.4907 - val_accuracy: 0.6571\n",
      "Epoch 10/100\n",
      "12/12 [==============================] - 0s 4ms/step - loss: 0.4574 - accuracy: 0.6836 - val_loss: 0.4646 - val_accuracy: 0.6571\n",
      "Epoch 11/100\n",
      "12/12 [==============================] - 0s 4ms/step - loss: 0.4248 - accuracy: 0.6836 - val_loss: 0.4438 - val_accuracy: 0.6571\n",
      "Epoch 12/100\n",
      "12/12 [==============================] - 0s 4ms/step - loss: 0.3991 - accuracy: 0.6836 - val_loss: 0.4288 - val_accuracy: 0.6571\n",
      "Epoch 13/100\n",
      "12/12 [==============================] - 0s 4ms/step - loss: 0.3790 - accuracy: 0.6836 - val_loss: 0.4189 - val_accuracy: 0.6571\n",
      "Epoch 14/100\n",
      "12/12 [==============================] - 0s 4ms/step - loss: 0.3642 - accuracy: 0.6836 - val_loss: 0.4121 - val_accuracy: 0.6571\n",
      "Epoch 15/100\n",
      "12/12 [==============================] - 0s 3ms/step - loss: 0.3531 - accuracy: 0.6836 - val_loss: 0.4089 - val_accuracy: 0.6571\n",
      "Epoch 16/100\n",
      "12/12 [==============================] - 0s 4ms/step - loss: 0.3441 - accuracy: 0.6836 - val_loss: 0.4062 - val_accuracy: 0.6571\n",
      "Epoch 17/100\n",
      "12/12 [==============================] - 0s 4ms/step - loss: 0.3356 - accuracy: 0.6836 - val_loss: 0.4045 - val_accuracy: 0.6571\n",
      "Epoch 18/100\n",
      "12/12 [==============================] - 0s 3ms/step - loss: 0.3279 - accuracy: 0.6836 - val_loss: 0.4028 - val_accuracy: 0.6571\n",
      "Epoch 19/100\n",
      "12/12 [==============================] - 0s 3ms/step - loss: 0.3208 - accuracy: 0.6836 - val_loss: 0.4040 - val_accuracy: 0.6571\n",
      "Epoch 20/100\n",
      "12/12 [==============================] - 0s 4ms/step - loss: 0.3137 - accuracy: 0.6836 - val_loss: 0.4045 - val_accuracy: 0.6571\n",
      "Epoch 21/100\n",
      "12/12 [==============================] - 0s 4ms/step - loss: 0.3085 - accuracy: 0.6836 - val_loss: 0.4035 - val_accuracy: 0.6571\n",
      "Epoch 22/100\n",
      "12/12 [==============================] - 0s 3ms/step - loss: 0.3031 - accuracy: 0.6836 - val_loss: 0.4021 - val_accuracy: 0.6571\n",
      "Epoch 23/100\n",
      "12/12 [==============================] - 0s 4ms/step - loss: 0.2979 - accuracy: 0.7542 - val_loss: 0.4014 - val_accuracy: 0.8229\n",
      "Epoch 24/100\n",
      "12/12 [==============================] - 0s 3ms/step - loss: 0.2927 - accuracy: 0.8559 - val_loss: 0.4001 - val_accuracy: 0.8514\n",
      "Epoch 25/100\n",
      "12/12 [==============================] - 0s 3ms/step - loss: 0.2877 - accuracy: 0.8729 - val_loss: 0.3991 - val_accuracy: 0.8743\n",
      "Epoch 26/100\n",
      "12/12 [==============================] - 0s 3ms/step - loss: 0.2827 - accuracy: 0.8701 - val_loss: 0.3978 - val_accuracy: 0.8914\n",
      "Epoch 27/100\n",
      "12/12 [==============================] - 0s 4ms/step - loss: 0.2783 - accuracy: 0.8701 - val_loss: 0.3964 - val_accuracy: 0.8914\n",
      "Epoch 28/100\n",
      "12/12 [==============================] - 0s 4ms/step - loss: 0.2737 - accuracy: 0.8729 - val_loss: 0.3948 - val_accuracy: 0.8914\n",
      "Epoch 29/100\n",
      "12/12 [==============================] - 0s 3ms/step - loss: 0.2696 - accuracy: 0.8757 - val_loss: 0.3929 - val_accuracy: 0.8971\n",
      "Epoch 30/100\n",
      "12/12 [==============================] - 0s 4ms/step - loss: 0.2657 - accuracy: 0.8814 - val_loss: 0.3924 - val_accuracy: 0.8971\n",
      "Epoch 31/100\n",
      "12/12 [==============================] - 0s 4ms/step - loss: 0.2616 - accuracy: 0.8870 - val_loss: 0.3915 - val_accuracy: 0.8857\n",
      "Epoch 32/100\n",
      "12/12 [==============================] - 0s 4ms/step - loss: 0.2583 - accuracy: 0.8842 - val_loss: 0.3894 - val_accuracy: 0.8800\n",
      "Epoch 33/100\n",
      "12/12 [==============================] - 0s 4ms/step - loss: 0.2545 - accuracy: 0.9011 - val_loss: 0.3872 - val_accuracy: 0.8800\n",
      "Epoch 34/100\n",
      "12/12 [==============================] - 0s 3ms/step - loss: 0.2511 - accuracy: 0.9068 - val_loss: 0.3863 - val_accuracy: 0.8800\n",
      "Epoch 35/100\n",
      "12/12 [==============================] - 0s 3ms/step - loss: 0.2478 - accuracy: 0.9040 - val_loss: 0.3871 - val_accuracy: 0.8800\n",
      "Epoch 36/100\n",
      "12/12 [==============================] - 0s 4ms/step - loss: 0.2448 - accuracy: 0.9040 - val_loss: 0.3863 - val_accuracy: 0.8800\n",
      "Epoch 37/100\n",
      "12/12 [==============================] - 0s 3ms/step - loss: 0.2419 - accuracy: 0.9040 - val_loss: 0.3848 - val_accuracy: 0.8800\n",
      "Epoch 38/100\n",
      "12/12 [==============================] - 0s 3ms/step - loss: 0.2390 - accuracy: 0.9096 - val_loss: 0.3835 - val_accuracy: 0.8800\n",
      "Epoch 39/100\n",
      "12/12 [==============================] - 0s 2ms/step - loss: 0.2363 - accuracy: 0.9153 - val_loss: 0.3807 - val_accuracy: 0.8800\n",
      "Epoch 40/100\n",
      "12/12 [==============================] - 0s 3ms/step - loss: 0.2337 - accuracy: 0.9209 - val_loss: 0.3794 - val_accuracy: 0.8800\n",
      "Epoch 41/100\n",
      "12/12 [==============================] - 0s 3ms/step - loss: 0.2310 - accuracy: 0.9294 - val_loss: 0.3782 - val_accuracy: 0.8686\n",
      "Epoch 42/100\n",
      "12/12 [==============================] - 0s 3ms/step - loss: 0.2285 - accuracy: 0.9350 - val_loss: 0.3775 - val_accuracy: 0.8686\n",
      "Epoch 43/100\n",
      "12/12 [==============================] - 0s 3ms/step - loss: 0.2261 - accuracy: 0.9379 - val_loss: 0.3768 - val_accuracy: 0.8686\n",
      "Epoch 44/100\n",
      "12/12 [==============================] - 0s 3ms/step - loss: 0.2237 - accuracy: 0.9407 - val_loss: 0.3758 - val_accuracy: 0.8686\n",
      "Epoch 45/100\n",
      "12/12 [==============================] - 0s 3ms/step - loss: 0.2215 - accuracy: 0.9492 - val_loss: 0.3748 - val_accuracy: 0.8743\n",
      "Epoch 46/100\n",
      "12/12 [==============================] - 0s 3ms/step - loss: 0.2190 - accuracy: 0.9492 - val_loss: 0.3737 - val_accuracy: 0.8743\n",
      "Epoch 47/100\n",
      "12/12 [==============================] - 0s 3ms/step - loss: 0.2167 - accuracy: 0.9548 - val_loss: 0.3729 - val_accuracy: 0.8743\n",
      "Epoch 48/100\n",
      "12/12 [==============================] - 0s 3ms/step - loss: 0.2146 - accuracy: 0.9576 - val_loss: 0.3715 - val_accuracy: 0.8686\n",
      "Epoch 49/100\n",
      "12/12 [==============================] - 0s 3ms/step - loss: 0.2123 - accuracy: 0.9605 - val_loss: 0.3704 - val_accuracy: 0.8686\n",
      "Epoch 50/100\n",
      "12/12 [==============================] - 0s 3ms/step - loss: 0.2101 - accuracy: 0.9605 - val_loss: 0.3696 - val_accuracy: 0.8686\n",
      "Epoch 51/100\n",
      "12/12 [==============================] - 0s 3ms/step - loss: 0.2078 - accuracy: 0.9605 - val_loss: 0.3689 - val_accuracy: 0.8686\n",
      "Epoch 52/100\n",
      "12/12 [==============================] - 0s 3ms/step - loss: 0.2057 - accuracy: 0.9661 - val_loss: 0.3682 - val_accuracy: 0.8686\n",
      "Epoch 53/100\n",
      "12/12 [==============================] - 0s 3ms/step - loss: 0.2036 - accuracy: 0.9661 - val_loss: 0.3676 - val_accuracy: 0.8686\n",
      "Epoch 54/100\n",
      "12/12 [==============================] - 0s 3ms/step - loss: 0.2016 - accuracy: 0.9718 - val_loss: 0.3668 - val_accuracy: 0.8686\n",
      "Epoch 55/100\n",
      "12/12 [==============================] - 0s 3ms/step - loss: 0.1995 - accuracy: 0.9746 - val_loss: 0.3657 - val_accuracy: 0.8686\n",
      "Epoch 56/100\n",
      "12/12 [==============================] - 0s 3ms/step - loss: 0.1976 - accuracy: 0.9746 - val_loss: 0.3661 - val_accuracy: 0.8743\n",
      "Epoch 57/100\n",
      "12/12 [==============================] - 0s 3ms/step - loss: 0.1958 - accuracy: 0.9774 - val_loss: 0.3661 - val_accuracy: 0.8743\n",
      "Epoch 58/100\n",
      "12/12 [==============================] - 0s 3ms/step - loss: 0.1940 - accuracy: 0.9831 - val_loss: 0.3652 - val_accuracy: 0.8743\n"
     ]
    },
    {
     "name": "stdout",
     "output_type": "stream",
     "text": [
      "Epoch 59/100\n",
      "12/12 [==============================] - 0s 3ms/step - loss: 0.1923 - accuracy: 0.9831 - val_loss: 0.3643 - val_accuracy: 0.8743\n",
      "Epoch 60/100\n",
      "12/12 [==============================] - 0s 3ms/step - loss: 0.1904 - accuracy: 0.9831 - val_loss: 0.3634 - val_accuracy: 0.8800\n",
      "Epoch 61/100\n",
      "12/12 [==============================] - 0s 3ms/step - loss: 0.1887 - accuracy: 0.9831 - val_loss: 0.3619 - val_accuracy: 0.8800\n",
      "Epoch 62/100\n",
      "12/12 [==============================] - 0s 3ms/step - loss: 0.1869 - accuracy: 0.9887 - val_loss: 0.3606 - val_accuracy: 0.8800\n",
      "Epoch 63/100\n",
      "12/12 [==============================] - 0s 3ms/step - loss: 0.1850 - accuracy: 0.9887 - val_loss: 0.3579 - val_accuracy: 0.8800\n",
      "Epoch 64/100\n",
      "12/12 [==============================] - 0s 2ms/step - loss: 0.1834 - accuracy: 0.9887 - val_loss: 0.3572 - val_accuracy: 0.8857\n",
      "Epoch 65/100\n",
      "12/12 [==============================] - 0s 3ms/step - loss: 0.1819 - accuracy: 0.9887 - val_loss: 0.3570 - val_accuracy: 0.8857\n",
      "Epoch 66/100\n",
      "12/12 [==============================] - 0s 3ms/step - loss: 0.1803 - accuracy: 0.9887 - val_loss: 0.3564 - val_accuracy: 0.8857\n",
      "Epoch 67/100\n",
      "12/12 [==============================] - 0s 3ms/step - loss: 0.1786 - accuracy: 0.9887 - val_loss: 0.3555 - val_accuracy: 0.8857\n",
      "Epoch 68/100\n",
      "12/12 [==============================] - 0s 3ms/step - loss: 0.1769 - accuracy: 0.9887 - val_loss: 0.3548 - val_accuracy: 0.8914\n",
      "Epoch 69/100\n",
      "12/12 [==============================] - 0s 3ms/step - loss: 0.1753 - accuracy: 0.9887 - val_loss: 0.3540 - val_accuracy: 0.8914\n",
      "Epoch 70/100\n",
      "12/12 [==============================] - 0s 3ms/step - loss: 0.1737 - accuracy: 0.9915 - val_loss: 0.3534 - val_accuracy: 0.8914\n",
      "Epoch 71/100\n",
      "12/12 [==============================] - 0s 3ms/step - loss: 0.1722 - accuracy: 0.9915 - val_loss: 0.3529 - val_accuracy: 0.8914\n",
      "Epoch 72/100\n",
      "12/12 [==============================] - 0s 3ms/step - loss: 0.1705 - accuracy: 0.9944 - val_loss: 0.3520 - val_accuracy: 0.8914\n",
      "Epoch 73/100\n",
      "12/12 [==============================] - 0s 3ms/step - loss: 0.1691 - accuracy: 0.9944 - val_loss: 0.3511 - val_accuracy: 0.8971\n",
      "Epoch 74/100\n",
      "12/12 [==============================] - 0s 2ms/step - loss: 0.1674 - accuracy: 0.9944 - val_loss: 0.3501 - val_accuracy: 0.8971\n",
      "Epoch 75/100\n",
      "12/12 [==============================] - 0s 3ms/step - loss: 0.1660 - accuracy: 0.9944 - val_loss: 0.3491 - val_accuracy: 0.8971\n",
      "Epoch 76/100\n",
      "12/12 [==============================] - 0s 3ms/step - loss: 0.1645 - accuracy: 0.9944 - val_loss: 0.3485 - val_accuracy: 0.8971\n",
      "Epoch 77/100\n",
      "12/12 [==============================] - 0s 3ms/step - loss: 0.1630 - accuracy: 0.9944 - val_loss: 0.3482 - val_accuracy: 0.8971\n",
      "Epoch 78/100\n",
      "12/12 [==============================] - 0s 3ms/step - loss: 0.1617 - accuracy: 0.9944 - val_loss: 0.3470 - val_accuracy: 0.8971\n",
      "Epoch 79/100\n",
      "12/12 [==============================] - 0s 3ms/step - loss: 0.1602 - accuracy: 0.9944 - val_loss: 0.3427 - val_accuracy: 0.8971\n",
      "Epoch 80/100\n",
      "12/12 [==============================] - 0s 3ms/step - loss: 0.1590 - accuracy: 0.9944 - val_loss: 0.3425 - val_accuracy: 0.8971\n",
      "Epoch 81/100\n",
      "12/12 [==============================] - 0s 3ms/step - loss: 0.1576 - accuracy: 0.9944 - val_loss: 0.3424 - val_accuracy: 0.8971\n",
      "Epoch 82/100\n",
      "12/12 [==============================] - 0s 3ms/step - loss: 0.1562 - accuracy: 0.9944 - val_loss: 0.3411 - val_accuracy: 0.8914\n",
      "Epoch 83/100\n",
      "12/12 [==============================] - 0s 2ms/step - loss: 0.1548 - accuracy: 0.9944 - val_loss: 0.3410 - val_accuracy: 0.8914\n",
      "Epoch 84/100\n",
      "12/12 [==============================] - 0s 3ms/step - loss: 0.1535 - accuracy: 0.9944 - val_loss: 0.3410 - val_accuracy: 0.8857\n",
      "Epoch 85/100\n",
      "12/12 [==============================] - 0s 3ms/step - loss: 0.1522 - accuracy: 0.9944 - val_loss: 0.3419 - val_accuracy: 0.8857\n",
      "Epoch 86/100\n",
      "12/12 [==============================] - 0s 3ms/step - loss: 0.1510 - accuracy: 0.9944 - val_loss: 0.3420 - val_accuracy: 0.8857\n",
      "Epoch 87/100\n",
      "12/12 [==============================] - 0s 3ms/step - loss: 0.1498 - accuracy: 0.9944 - val_loss: 0.3418 - val_accuracy: 0.8857\n",
      "Epoch 88/100\n",
      "12/12 [==============================] - 0s 3ms/step - loss: 0.1486 - accuracy: 0.9944 - val_loss: 0.3424 - val_accuracy: 0.8857\n",
      "Epoch 89/100\n",
      "12/12 [==============================] - 0s 3ms/step - loss: 0.1473 - accuracy: 0.9944 - val_loss: 0.3420 - val_accuracy: 0.8857\n",
      "Epoch 90/100\n",
      "12/12 [==============================] - 0s 3ms/step - loss: 0.1462 - accuracy: 0.9944 - val_loss: 0.3414 - val_accuracy: 0.8857\n",
      "Epoch 91/100\n",
      "12/12 [==============================] - 0s 3ms/step - loss: 0.1450 - accuracy: 0.9944 - val_loss: 0.3402 - val_accuracy: 0.8857\n",
      "Epoch 92/100\n",
      "12/12 [==============================] - 0s 3ms/step - loss: 0.1439 - accuracy: 0.9944 - val_loss: 0.3395 - val_accuracy: 0.8857\n",
      "Epoch 93/100\n",
      "12/12 [==============================] - 0s 3ms/step - loss: 0.1428 - accuracy: 0.9944 - val_loss: 0.3392 - val_accuracy: 0.8857\n",
      "Epoch 94/100\n",
      "12/12 [==============================] - 0s 3ms/step - loss: 0.1418 - accuracy: 0.9944 - val_loss: 0.3389 - val_accuracy: 0.8857\n",
      "Epoch 95/100\n",
      "12/12 [==============================] - 0s 3ms/step - loss: 0.1407 - accuracy: 0.9944 - val_loss: 0.3385 - val_accuracy: 0.8857\n",
      "Epoch 96/100\n",
      "12/12 [==============================] - 0s 3ms/step - loss: 0.1397 - accuracy: 0.9944 - val_loss: 0.3383 - val_accuracy: 0.8857\n",
      "Epoch 97/100\n",
      "12/12 [==============================] - 0s 3ms/step - loss: 0.1387 - accuracy: 0.9944 - val_loss: 0.3380 - val_accuracy: 0.8857\n",
      "Epoch 98/100\n",
      "12/12 [==============================] - 0s 3ms/step - loss: 0.1377 - accuracy: 0.9944 - val_loss: 0.3378 - val_accuracy: 0.8857\n",
      "Epoch 99/100\n",
      "12/12 [==============================] - 0s 3ms/step - loss: 0.1367 - accuracy: 0.9944 - val_loss: 0.3366 - val_accuracy: 0.8857\n",
      "Epoch 100/100\n",
      "12/12 [==============================] - 0s 3ms/step - loss: 0.1358 - accuracy: 0.9944 - val_loss: 0.3361 - val_accuracy: 0.8857\n"
     ]
    }
   ],
   "source": [
    "model.compile(optimizer='adam', loss='binary_crossentropy', metrics=['accuracy'])\n",
    "history = model.fit(train_features,train_target,validation_data=(test_features,test_target),epochs=100,batch_size=32)"
   ]
  },
  {
   "cell_type": "code",
   "execution_count": 10,
   "id": "30cd4f13",
   "metadata": {},
   "outputs": [
    {
     "name": "stdout",
     "output_type": "stream",
     "text": [
      "Model: \"sequential\"\n",
      "_________________________________________________________________\n",
      "Layer (type)                 Output Shape              Param #   \n",
      "=================================================================\n",
      "dense (Dense)                (None, 37)                1406      \n",
      "_________________________________________________________________\n",
      "rbf_layer (RBFLayer)         (None, 37)                1369      \n",
      "_________________________________________________________________\n",
      "dense_1 (Dense)              (None, 1)                 38        \n",
      "=================================================================\n",
      "Total params: 2,813\n",
      "Trainable params: 2,813\n",
      "Non-trainable params: 0\n",
      "_________________________________________________________________\n"
     ]
    }
   ],
   "source": [
    "model.summary()"
   ]
  },
  {
   "cell_type": "code",
   "execution_count": 11,
   "id": "820cc261",
   "metadata": {},
   "outputs": [
    {
     "data": {
      "image/png": "[encoded data removed]",
      "text/plain": [
       "<Figure size 432x288 with 1 Axes>"
      ]
     },
     "metadata": {
      "needs_background": "light"
     },
     "output_type": "display_data"
    }
   ],
   "source": [
    "plt.plot(history.history['loss'],label='Training Loss')\n",
    "plt.plot(history.history['val_loss'],label='Validation Loss')\n",
    "plt.title('Model Loss')\n",
    "plt.ylabel('Loss')\n",
    "plt.xlabel('epoch')\n",
    "plt.legend(['train','Validation'],loc='upper right')\n",
    "plt.show()"
   ]
  },
  {
   "cell_type": "code",
   "execution_count": 12,
   "id": "70d4472b",
   "metadata": {},
   "outputs": [
    {
     "data": {
      "image/png": "[encoded data removed]",
      "text/plain": [
       "<Figure size 432x288 with 1 Axes>"
      ]
     },
     "metadata": {
      "needs_background": "light"
     },
     "output_type": "display_data"
    }
   ],
   "source": [
    "plt.plot(history.history['accuracy'],label='Training accuracy')\n",
    "plt.plot(history.history['val_accuracy'],label='Validation accuracy')\n",
    "plt.title('Model accuracy')\n",
    "plt.ylabel('Loss')\n",
    "plt.xlabel('epoch')\n",
    "plt.legend(['train','Accuracy'],loc='upper right')\n",
    "plt.show()"
   ]
  },
  {
   "cell_type": "code",
   "execution_count": 13,
   "id": "865ffa67",
   "metadata": {},
   "outputs": [
    {
     "name": "stdout",
     "output_type": "stream",
     "text": [
      "Test Accuracy: 88.571\n"
     ]
    }
   ],
   "source": [
    "loss, acc = model.evaluate(test_features, test_target, verbose=0)\n",
    "print('Test Accuracy: %.3f' %(acc * 100.0))"
   ]
  },
  {
   "cell_type": "code",
   "execution_count": 14,
   "id": "8dd27b13",
   "metadata": {},
   "outputs": [
    {
     "data": {
      "text/plain": [
       "array([[101,  14],\n",
       "       [  6,  54]], dtype=int64)"
      ]
     },
     "execution_count": 14,
     "metadata": {},
     "output_type": "execute_result"
    }
   ],
   "source": [
    "from sklearn.metrics import classification_report, confusion_matrix\n",
    "\n",
    "prediction = model.predict(test_features)\n",
    "data = []\n",
    "for x in prediction:\n",
    "    # if the weights >0.5 then classified as 1 else classified as 0\n",
    "    if x[0] > 0.5:\n",
    "        data.append(1)\n",
    "    else:\n",
    "        data.append(0)\n",
    "\n",
    "cnf_matrix = confusion_matrix(test_target, data)\n",
    "cnf_matrix"
   ]
  },
  {
   "cell_type": "code",
   "execution_count": 15,
   "id": "d74d1131",
   "metadata": {},
   "outputs": [
    {
     "name": "stdout",
     "output_type": "stream",
     "text": [
      "Radial Basis Function Network: \n",
      "               precision    recall  f1-score   support\n",
      "\n",
      "           0       0.94      0.88      0.91       115\n",
      "           1       0.79      0.90      0.84        60\n",
      "\n",
      "    accuracy                           0.89       175\n",
      "   macro avg       0.87      0.89      0.88       175\n",
      "weighted avg       0.89      0.89      0.89       175\n",
      " \n",
      "\n"
     ]
    }
   ],
   "source": [
    "print('Radial Basis Function Network: \\n', classification_report(test_target, data),'\\n')"
   ]
  },
  {
   "cell_type": "code",
   "execution_count": 16,
   "id": "2bd673f6",
   "metadata": {},
   "outputs": [
    {
     "name": "stdout",
     "output_type": "stream",
     "text": [
      "Traning RMSE: 0.1918\n",
      "\n",
      "\n",
      "Testing RMSE: 0.3129\n"
     ]
    }
   ],
   "source": [
    "#Validation\n",
    "\n",
    "from sklearn.metrics import mean_squared_error\n",
    "from math import sqrt\n",
    "\n",
    "#calculate RMSE\n",
    "RMSE_test = sqrt(mean_squared_error(test_target, prediction)) \n",
    "\n",
    "#Traning\n",
    "\n",
    "from sklearn.metrics import mean_squared_error\n",
    "from math import sqrt\n",
    "train_prediction = model.predict(train_features)\n",
    "#calculate RMSE\n",
    "RMSE_train = sqrt(mean_squared_error(train_target, train_prediction))\n",
    "\n",
    "print('Traning RMSE: %.4f'%RMSE_train)\n",
    "print('\\n')\n",
    "print('Testing RMSE: %.4f'%RMSE_test)"
   ]
  },
  {
   "cell_type": "code",
   "execution_count": 17,
   "id": "69604dcf",
   "metadata": {},
   "outputs": [
    {
     "name": "stdout",
     "output_type": "stream",
     "text": [
      "Traning MAE: 0.1918\n",
      "\n",
      "\n",
      "Testing MAE: 0.2046\n"
     ]
    }
   ],
   "source": [
    "#Validation\n",
    "\n",
    "from sklearn.metrics import mean_absolute_error\n",
    "from math import sqrt\n",
    "\n",
    "#calculate RMSE\n",
    "MAE_test = mean_absolute_error(test_target, prediction)\n",
    "\n",
    "#Traning\n",
    "\n",
    "from sklearn.metrics import mean_squared_error\n",
    "from math import sqrt\n",
    "train_prediction = model.predict(train_features)\n",
    "#calculate RMSE\n",
    "MAE_train = sqrt(mean_squared_error(train_target, train_prediction))\n",
    "\n",
    "print('Traning MAE: %.4f'%MAE_train)\n",
    "print('\\n')\n",
    "print('Testing MAE: %.4f'%MAE_test)"
   ]
  },
  {
   "cell_type": "code",
   "execution_count": null,
   "id": "55a08dab",
   "metadata": {},
   "outputs": [],
   "source": []
  }
 ],
 "metadata": {
  "kernelspec": {
   "display_name": "Python 3",
   "language": "python",
   "name": "python3"
  },
  "language_info": {
   "codemirror_mode": {
    "name": "ipython",
    "version": 3
   },
   "file_extension": ".py",
   "mimetype": "text/x-python",
   "name": "python",
   "nbconvert_exporter": "python",
   "pygments_lexer": "ipython3",
   "version": "3.8.8"
  }
 },
 "nbformat": 4,
 "nbformat_minor": 5
}
