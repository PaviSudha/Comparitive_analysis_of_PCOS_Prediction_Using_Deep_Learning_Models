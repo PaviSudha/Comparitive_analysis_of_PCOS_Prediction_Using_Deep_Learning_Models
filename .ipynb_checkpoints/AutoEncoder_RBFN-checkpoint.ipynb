{
 "cells": [
  {
   "cell_type": "code",
   "execution_count": 9,
   "metadata": {},
   "outputs": [],
   "source": [
    "import pandas as pd\n",
    "import numpy as np\n",
    "import matplotlib.pyplot as plt\n",
    "from keras.layers import Input, Dense\n",
    "from sklearn.model_selection import train_test_split\n",
    "from sklearn import metrics\n",
    "from keras.models import Model\n",
    "\n",
    "#import tensorflow libraries \n",
    "import tensorflow as tf\n",
    "from tensorflow.keras import Sequential\n",
    "from tensorflow.keras.layers import Dense\n",
    "from tensorflow.keras.optimizers import SGD\n",
    "\n",
    "from keras.models import Sequential\n",
    "\n",
    "from sklearn.metrics import classification_report, confusion_matrix\n",
    "\n",
    "from keras.layers import Layer\n",
    "from keras import backend as K\n",
    "from tensorflow import keras\n",
    "import tensorflow as tf\n",
    "from tensorflow.keras.optimizers import SGD"
   ]
  },
  {
   "cell_type": "code",
   "execution_count": 2,
   "metadata": {},
   "outputs": [],
   "source": [
    "df = pd.read_csv(\"data/cleaned_data1.csv\")"
   ]
  },
  {
   "cell_type": "code",
   "execution_count": 3,
   "metadata": {},
   "outputs": [],
   "source": [
    "X = df.drop(columns=[\"PCOS (Y/N)\"])\n",
    "y = df[\"PCOS (Y/N)\"].values\n",
    "\n",
    "# implementing train-test-split\n",
    "train_features, test_features, train_target, test_target = train_test_split(X, y, test_size=0.33, random_state=13)"
   ]
  },
  {
   "cell_type": "code",
   "execution_count": 4,
   "metadata": {},
   "outputs": [],
   "source": [
    "from sklearn.preprocessing import StandardScaler\n",
    "S = StandardScaler()\n",
    "train_features = S.fit_transform(train_features)\n",
    "test_features = S.fit_transform(test_features)"
   ]
  },
  {
   "cell_type": "markdown",
   "metadata": {},
   "source": [
    "Dimensionality Reduction using AutoEncoders"
   ]
  },
  {
   "cell_type": "code",
   "execution_count": 5,
   "metadata": {},
   "outputs": [],
   "source": [
    "encoding_dim = 10\n",
    "\n",
    "input_df = Input(shape=(37,))\n",
    "encoded = Dense(encoding_dim, activation='relu')(input_df)\n",
    "decoded = Dense(37, activation='relu')(encoded)\n",
    "\n",
    "# encoder\n",
    "autoencoder = Model(input_df, decoded)\n",
    "\n",
    "# intermediate result\n",
    "encoder = Model(input_df, encoded)"
   ]
  },
  {
   "cell_type": "markdown",
   "metadata": {},
   "source": [
    "Apply ANN on reduced dimensional features"
   ]
  },
  {
   "cell_type": "code",
   "execution_count": 6,
   "metadata": {},
   "outputs": [],
   "source": [
    "encoded_train_features = encoder.predict(train_features)\n",
    "encoded_test_features = encoder.predict(test_features)"
   ]
  },
  {
   "cell_type": "code",
   "execution_count": 7,
   "metadata": {},
   "outputs": [
    {
     "data": {
      "text/plain": [
       "10"
      ]
     },
     "execution_count": 7,
     "metadata": {},
     "output_type": "execute_result"
    }
   ],
   "source": [
    "n_features = encoded_train_features.shape[1]\n",
    "n_features"
   ]
  },
  {
   "cell_type": "code",
   "execution_count": 10,
   "metadata": {},
   "outputs": [],
   "source": [
    "class RBFLayer(Layer):\n",
    "    def __init__(self, units, gamma, **kwargs):\n",
    "        super(RBFLayer, self).__init__(**kwargs)\n",
    "        self.units = units\n",
    "        self.gamma = K.cast_to_floatx(gamma)\n",
    "\n",
    "    def build(self, input_shape):\n",
    "#         print(input_shape)\n",
    "#         print(self.units)\n",
    "        self.mu = self.add_weight(name='mu',\n",
    "                                  shape=(int(input_shape[1]), self.units),\n",
    "                                  initializer='uniform',\n",
    "                                  trainable=True)\n",
    "        super(RBFLayer, self).build(input_shape)\n",
    "\n",
    "    def call(self, inputs):\n",
    "        diff = K.expand_dims(inputs) - self.mu\n",
    "        l2 = K.sum(K.pow(diff, 2), axis=1)\n",
    "        res = K.exp(-1 * self.gamma * l2)\n",
    "        return res\n",
    "\n",
    "    def compute_output_shape(self, input_shape):\n",
    "        return (input_shape[0], self.units)"
   ]
  },
  {
   "cell_type": "code",
   "execution_count": 11,
   "metadata": {},
   "outputs": [],
   "source": [
    "model = Sequential()\n",
    "model.add(Dense(10, input_dim=10, activation='relu'))\n",
    "model.add(RBFLayer(10, 0.3))\n",
    "model.add(Dense(1, activation='sigmoid'))"
   ]
  },
  {
   "cell_type": "code",
   "execution_count": 12,
   "metadata": {},
   "outputs": [
    {
     "name": "stdout",
     "output_type": "stream",
     "text": [
      "Epoch 1/100\n",
      "12/12 [==============================] - 0s 22ms/step - loss: 0.6624 - accuracy: 0.6836 - val_loss: 0.7121 - val_accuracy: 0.6571\n",
      "Epoch 2/100\n",
      "12/12 [==============================] - 0s 7ms/step - loss: 0.6554 - accuracy: 0.6836 - val_loss: 0.7055 - val_accuracy: 0.6571\n",
      "Epoch 3/100\n",
      "12/12 [==============================] - 0s 4ms/step - loss: 0.6498 - accuracy: 0.6836 - val_loss: 0.7015 - val_accuracy: 0.6571\n",
      "Epoch 4/100\n",
      "12/12 [==============================] - 0s 4ms/step - loss: 0.6441 - accuracy: 0.6836 - val_loss: 0.6958 - val_accuracy: 0.6571\n",
      "Epoch 5/100\n",
      "12/12 [==============================] - 0s 4ms/step - loss: 0.6389 - accuracy: 0.6836 - val_loss: 0.6887 - val_accuracy: 0.6571\n",
      "Epoch 6/100\n",
      "12/12 [==============================] - 0s 4ms/step - loss: 0.6338 - accuracy: 0.6836 - val_loss: 0.6832 - val_accuracy: 0.6571\n",
      "Epoch 7/100\n",
      "12/12 [==============================] - 0s 3ms/step - loss: 0.6281 - accuracy: 0.6836 - val_loss: 0.6788 - val_accuracy: 0.6571\n",
      "Epoch 8/100\n",
      "12/12 [==============================] - 0s 4ms/step - loss: 0.6229 - accuracy: 0.6836 - val_loss: 0.6750 - val_accuracy: 0.6571\n",
      "Epoch 9/100\n",
      "12/12 [==============================] - 0s 4ms/step - loss: 0.6176 - accuracy: 0.6836 - val_loss: 0.6698 - val_accuracy: 0.6571\n",
      "Epoch 10/100\n",
      "12/12 [==============================] - 0s 3ms/step - loss: 0.6133 - accuracy: 0.6836 - val_loss: 0.6658 - val_accuracy: 0.6571\n",
      "Epoch 11/100\n",
      "12/12 [==============================] - 0s 4ms/step - loss: 0.6084 - accuracy: 0.6836 - val_loss: 0.6623 - val_accuracy: 0.6571\n",
      "Epoch 12/100\n",
      "12/12 [==============================] - 0s 3ms/step - loss: 0.6040 - accuracy: 0.6836 - val_loss: 0.6586 - val_accuracy: 0.6571\n",
      "Epoch 13/100\n",
      "12/12 [==============================] - 0s 4ms/step - loss: 0.5994 - accuracy: 0.6836 - val_loss: 0.6550 - val_accuracy: 0.6571\n",
      "Epoch 14/100\n",
      "12/12 [==============================] - 0s 3ms/step - loss: 0.5958 - accuracy: 0.6836 - val_loss: 0.6519 - val_accuracy: 0.6571\n",
      "Epoch 15/100\n",
      "12/12 [==============================] - 0s 4ms/step - loss: 0.5922 - accuracy: 0.6836 - val_loss: 0.6482 - val_accuracy: 0.6571\n",
      "Epoch 16/100\n",
      "12/12 [==============================] - 0s 3ms/step - loss: 0.5886 - accuracy: 0.6836 - val_loss: 0.6449 - val_accuracy: 0.6571\n",
      "Epoch 17/100\n",
      "12/12 [==============================] - 0s 3ms/step - loss: 0.5851 - accuracy: 0.6836 - val_loss: 0.6421 - val_accuracy: 0.6571\n",
      "Epoch 18/100\n",
      "12/12 [==============================] - 0s 5ms/step - loss: 0.5816 - accuracy: 0.6836 - val_loss: 0.6394 - val_accuracy: 0.6571\n",
      "Epoch 19/100\n",
      "12/12 [==============================] - 0s 4ms/step - loss: 0.5783 - accuracy: 0.6836 - val_loss: 0.6364 - val_accuracy: 0.6571\n",
      "Epoch 20/100\n",
      "12/12 [==============================] - 0s 4ms/step - loss: 0.5750 - accuracy: 0.6836 - val_loss: 0.6330 - val_accuracy: 0.6571\n",
      "Epoch 21/100\n",
      "12/12 [==============================] - 0s 3ms/step - loss: 0.5716 - accuracy: 0.6836 - val_loss: 0.6302 - val_accuracy: 0.6571\n",
      "Epoch 22/100\n",
      "12/12 [==============================] - 0s 3ms/step - loss: 0.5684 - accuracy: 0.6836 - val_loss: 0.6255 - val_accuracy: 0.6571\n",
      "Epoch 23/100\n",
      "12/12 [==============================] - 0s 3ms/step - loss: 0.5648 - accuracy: 0.6836 - val_loss: 0.6228 - val_accuracy: 0.6571\n",
      "Epoch 24/100\n",
      "12/12 [==============================] - 0s 3ms/step - loss: 0.5616 - accuracy: 0.6836 - val_loss: 0.6197 - val_accuracy: 0.6571\n",
      "Epoch 25/100\n",
      "12/12 [==============================] - 0s 4ms/step - loss: 0.5586 - accuracy: 0.6836 - val_loss: 0.6152 - val_accuracy: 0.6571\n",
      "Epoch 26/100\n",
      "12/12 [==============================] - 0s 4ms/step - loss: 0.5553 - accuracy: 0.6836 - val_loss: 0.6114 - val_accuracy: 0.6571\n",
      "Epoch 27/100\n",
      "12/12 [==============================] - 0s 3ms/step - loss: 0.5522 - accuracy: 0.6836 - val_loss: 0.6088 - val_accuracy: 0.6571\n",
      "Epoch 28/100\n",
      "12/12 [==============================] - 0s 5ms/step - loss: 0.5490 - accuracy: 0.6836 - val_loss: 0.6067 - val_accuracy: 0.6571\n",
      "Epoch 29/100\n",
      "12/12 [==============================] - 0s 4ms/step - loss: 0.5460 - accuracy: 0.6836 - val_loss: 0.6040 - val_accuracy: 0.6571\n",
      "Epoch 30/100\n",
      "12/12 [==============================] - 0s 4ms/step - loss: 0.5426 - accuracy: 0.6836 - val_loss: 0.5986 - val_accuracy: 0.6571\n",
      "Epoch 31/100\n",
      "12/12 [==============================] - 0s 5ms/step - loss: 0.5396 - accuracy: 0.6836 - val_loss: 0.5956 - val_accuracy: 0.6571\n",
      "Epoch 32/100\n",
      "12/12 [==============================] - 0s 4ms/step - loss: 0.5370 - accuracy: 0.6836 - val_loss: 0.5939 - val_accuracy: 0.6571\n",
      "Epoch 33/100\n",
      "12/12 [==============================] - 0s 4ms/step - loss: 0.5344 - accuracy: 0.6836 - val_loss: 0.5926 - val_accuracy: 0.6571\n",
      "Epoch 34/100\n",
      "12/12 [==============================] - 0s 3ms/step - loss: 0.5319 - accuracy: 0.6836 - val_loss: 0.5914 - val_accuracy: 0.6571\n",
      "Epoch 35/100\n",
      "12/12 [==============================] - 0s 3ms/step - loss: 0.5294 - accuracy: 0.6836 - val_loss: 0.5885 - val_accuracy: 0.6571\n",
      "Epoch 36/100\n",
      "12/12 [==============================] - 0s 4ms/step - loss: 0.5268 - accuracy: 0.6949 - val_loss: 0.5838 - val_accuracy: 0.6800\n",
      "Epoch 37/100\n",
      "12/12 [==============================] - 0s 3ms/step - loss: 0.5249 - accuracy: 0.7119 - val_loss: 0.5783 - val_accuracy: 0.6800\n",
      "Epoch 38/100\n",
      "12/12 [==============================] - 0s 3ms/step - loss: 0.5222 - accuracy: 0.7232 - val_loss: 0.5753 - val_accuracy: 0.6800\n",
      "Epoch 39/100\n",
      "12/12 [==============================] - 0s 3ms/step - loss: 0.5199 - accuracy: 0.7260 - val_loss: 0.5736 - val_accuracy: 0.6800\n",
      "Epoch 40/100\n",
      "12/12 [==============================] - 0s 3ms/step - loss: 0.5173 - accuracy: 0.7260 - val_loss: 0.5717 - val_accuracy: 0.6743\n",
      "Epoch 41/100\n",
      "12/12 [==============================] - 0s 4ms/step - loss: 0.5149 - accuracy: 0.7345 - val_loss: 0.5704 - val_accuracy: 0.6743\n",
      "Epoch 42/100\n",
      "12/12 [==============================] - 0s 3ms/step - loss: 0.5122 - accuracy: 0.7401 - val_loss: 0.5690 - val_accuracy: 0.6743\n",
      "Epoch 43/100\n",
      "12/12 [==============================] - 0s 3ms/step - loss: 0.5099 - accuracy: 0.7401 - val_loss: 0.5677 - val_accuracy: 0.6743\n",
      "Epoch 44/100\n",
      "12/12 [==============================] - 0s 3ms/step - loss: 0.5077 - accuracy: 0.7401 - val_loss: 0.5669 - val_accuracy: 0.6743\n",
      "Epoch 45/100\n",
      "12/12 [==============================] - 0s 3ms/step - loss: 0.5057 - accuracy: 0.7373 - val_loss: 0.5660 - val_accuracy: 0.6743\n",
      "Epoch 46/100\n",
      "12/12 [==============================] - 0s 3ms/step - loss: 0.5037 - accuracy: 0.7401 - val_loss: 0.5624 - val_accuracy: 0.6800\n",
      "Epoch 47/100\n",
      "12/12 [==============================] - 0s 3ms/step - loss: 0.5015 - accuracy: 0.7401 - val_loss: 0.5607 - val_accuracy: 0.6971\n",
      "Epoch 48/100\n",
      "12/12 [==============================] - 0s 3ms/step - loss: 0.4998 - accuracy: 0.7458 - val_loss: 0.5552 - val_accuracy: 0.6914\n",
      "Epoch 49/100\n",
      "12/12 [==============================] - 0s 3ms/step - loss: 0.4972 - accuracy: 0.7458 - val_loss: 0.5538 - val_accuracy: 0.6914\n",
      "Epoch 50/100\n",
      "12/12 [==============================] - 0s 3ms/step - loss: 0.4950 - accuracy: 0.7458 - val_loss: 0.5526 - val_accuracy: 0.6971\n",
      "Epoch 51/100\n",
      "12/12 [==============================] - 0s 4ms/step - loss: 0.4936 - accuracy: 0.7429 - val_loss: 0.5521 - val_accuracy: 0.6971\n",
      "Epoch 52/100\n",
      "12/12 [==============================] - 0s 3ms/step - loss: 0.4913 - accuracy: 0.7542 - val_loss: 0.5490 - val_accuracy: 0.7029\n",
      "Epoch 53/100\n",
      "12/12 [==============================] - 0s 3ms/step - loss: 0.4899 - accuracy: 0.7571 - val_loss: 0.5479 - val_accuracy: 0.6971\n",
      "Epoch 54/100\n",
      "12/12 [==============================] - 0s 3ms/step - loss: 0.4883 - accuracy: 0.7655 - val_loss: 0.5457 - val_accuracy: 0.7029\n",
      "Epoch 55/100\n",
      "12/12 [==============================] - 0s 3ms/step - loss: 0.4865 - accuracy: 0.7627 - val_loss: 0.5455 - val_accuracy: 0.7029\n",
      "Epoch 56/100\n",
      "12/12 [==============================] - 0s 3ms/step - loss: 0.4848 - accuracy: 0.7655 - val_loss: 0.5446 - val_accuracy: 0.7029\n",
      "Epoch 57/100\n",
      "12/12 [==============================] - 0s 3ms/step - loss: 0.4830 - accuracy: 0.7655 - val_loss: 0.5430 - val_accuracy: 0.7029\n",
      "Epoch 58/100\n",
      "12/12 [==============================] - 0s 4ms/step - loss: 0.4812 - accuracy: 0.7655 - val_loss: 0.5425 - val_accuracy: 0.7029\n"
     ]
    },
    {
     "name": "stdout",
     "output_type": "stream",
     "text": [
      "Epoch 59/100\n",
      "12/12 [==============================] - 0s 3ms/step - loss: 0.4799 - accuracy: 0.7655 - val_loss: 0.5424 - val_accuracy: 0.7029\n",
      "Epoch 60/100\n",
      "12/12 [==============================] - 0s 3ms/step - loss: 0.4781 - accuracy: 0.7627 - val_loss: 0.5412 - val_accuracy: 0.7029\n",
      "Epoch 61/100\n",
      "12/12 [==============================] - 0s 3ms/step - loss: 0.4766 - accuracy: 0.7627 - val_loss: 0.5391 - val_accuracy: 0.7029\n",
      "Epoch 62/100\n",
      "12/12 [==============================] - 0s 3ms/step - loss: 0.4746 - accuracy: 0.7655 - val_loss: 0.5356 - val_accuracy: 0.6971\n",
      "Epoch 63/100\n",
      "12/12 [==============================] - 0s 3ms/step - loss: 0.4732 - accuracy: 0.7684 - val_loss: 0.5327 - val_accuracy: 0.6914\n",
      "Epoch 64/100\n",
      "12/12 [==============================] - 0s 3ms/step - loss: 0.4717 - accuracy: 0.7712 - val_loss: 0.5313 - val_accuracy: 0.6857\n",
      "Epoch 65/100\n",
      "12/12 [==============================] - 0s 4ms/step - loss: 0.4701 - accuracy: 0.7712 - val_loss: 0.5309 - val_accuracy: 0.6857\n",
      "Epoch 66/100\n",
      "12/12 [==============================] - 0s 4ms/step - loss: 0.4685 - accuracy: 0.7712 - val_loss: 0.5302 - val_accuracy: 0.6914\n",
      "Epoch 67/100\n",
      "12/12 [==============================] - 0s 3ms/step - loss: 0.4670 - accuracy: 0.7740 - val_loss: 0.5287 - val_accuracy: 0.6914\n",
      "Epoch 68/100\n",
      "12/12 [==============================] - 0s 3ms/step - loss: 0.4658 - accuracy: 0.7768 - val_loss: 0.5279 - val_accuracy: 0.6914\n",
      "Epoch 69/100\n",
      "12/12 [==============================] - 0s 3ms/step - loss: 0.4643 - accuracy: 0.7825 - val_loss: 0.5265 - val_accuracy: 0.6914\n",
      "Epoch 70/100\n",
      "12/12 [==============================] - 0s 3ms/step - loss: 0.4627 - accuracy: 0.7853 - val_loss: 0.5263 - val_accuracy: 0.6914\n",
      "Epoch 71/100\n",
      "12/12 [==============================] - 0s 3ms/step - loss: 0.4614 - accuracy: 0.7853 - val_loss: 0.5253 - val_accuracy: 0.6914\n",
      "Epoch 72/100\n",
      "12/12 [==============================] - 0s 3ms/step - loss: 0.4601 - accuracy: 0.7853 - val_loss: 0.5249 - val_accuracy: 0.6914\n",
      "Epoch 73/100\n",
      "12/12 [==============================] - 0s 3ms/step - loss: 0.4589 - accuracy: 0.7881 - val_loss: 0.5221 - val_accuracy: 0.6914\n",
      "Epoch 74/100\n",
      "12/12 [==============================] - 0s 3ms/step - loss: 0.4577 - accuracy: 0.7853 - val_loss: 0.5194 - val_accuracy: 0.6914\n",
      "Epoch 75/100\n",
      "12/12 [==============================] - 0s 3ms/step - loss: 0.4562 - accuracy: 0.7910 - val_loss: 0.5180 - val_accuracy: 0.6914\n",
      "Epoch 76/100\n",
      "12/12 [==============================] - 0s 3ms/step - loss: 0.4546 - accuracy: 0.7910 - val_loss: 0.5177 - val_accuracy: 0.6914\n",
      "Epoch 77/100\n",
      "12/12 [==============================] - 0s 3ms/step - loss: 0.4533 - accuracy: 0.7910 - val_loss: 0.5180 - val_accuracy: 0.6971\n",
      "Epoch 78/100\n",
      "12/12 [==============================] - 0s 3ms/step - loss: 0.4523 - accuracy: 0.7910 - val_loss: 0.5165 - val_accuracy: 0.7086\n",
      "Epoch 79/100\n",
      "12/12 [==============================] - 0s 3ms/step - loss: 0.4510 - accuracy: 0.7910 - val_loss: 0.5148 - val_accuracy: 0.7029\n",
      "Epoch 80/100\n",
      "12/12 [==============================] - 0s 3ms/step - loss: 0.4497 - accuracy: 0.7994 - val_loss: 0.5115 - val_accuracy: 0.7029\n",
      "Epoch 81/100\n",
      "12/12 [==============================] - 0s 4ms/step - loss: 0.4484 - accuracy: 0.7966 - val_loss: 0.5109 - val_accuracy: 0.7029\n",
      "Epoch 82/100\n",
      "12/12 [==============================] - 0s 3ms/step - loss: 0.4471 - accuracy: 0.7938 - val_loss: 0.5115 - val_accuracy: 0.6971\n",
      "Epoch 83/100\n",
      "12/12 [==============================] - 0s 3ms/step - loss: 0.4458 - accuracy: 0.7994 - val_loss: 0.5119 - val_accuracy: 0.7029\n",
      "Epoch 84/100\n",
      "12/12 [==============================] - 0s 3ms/step - loss: 0.4444 - accuracy: 0.7994 - val_loss: 0.5108 - val_accuracy: 0.7029\n",
      "Epoch 85/100\n",
      "12/12 [==============================] - 0s 3ms/step - loss: 0.4428 - accuracy: 0.7994 - val_loss: 0.5097 - val_accuracy: 0.7086\n",
      "Epoch 86/100\n",
      "12/12 [==============================] - 0s 3ms/step - loss: 0.4412 - accuracy: 0.7994 - val_loss: 0.5098 - val_accuracy: 0.7143\n",
      "Epoch 87/100\n",
      "12/12 [==============================] - 0s 4ms/step - loss: 0.4403 - accuracy: 0.7966 - val_loss: 0.5102 - val_accuracy: 0.7029\n",
      "Epoch 88/100\n",
      "12/12 [==============================] - 0s 3ms/step - loss: 0.4390 - accuracy: 0.7966 - val_loss: 0.5087 - val_accuracy: 0.7086\n",
      "Epoch 89/100\n",
      "12/12 [==============================] - 0s 3ms/step - loss: 0.4381 - accuracy: 0.7966 - val_loss: 0.5087 - val_accuracy: 0.7086\n",
      "Epoch 90/100\n",
      "12/12 [==============================] - 0s 3ms/step - loss: 0.4366 - accuracy: 0.7994 - val_loss: 0.5069 - val_accuracy: 0.7143\n",
      "Epoch 91/100\n",
      "12/12 [==============================] - 0s 4ms/step - loss: 0.4352 - accuracy: 0.7994 - val_loss: 0.5066 - val_accuracy: 0.7200\n",
      "Epoch 92/100\n",
      "12/12 [==============================] - 0s 3ms/step - loss: 0.4341 - accuracy: 0.8023 - val_loss: 0.5061 - val_accuracy: 0.7200\n",
      "Epoch 93/100\n",
      "12/12 [==============================] - 0s 3ms/step - loss: 0.4330 - accuracy: 0.7994 - val_loss: 0.5038 - val_accuracy: 0.7257\n",
      "Epoch 94/100\n",
      "12/12 [==============================] - 0s 4ms/step - loss: 0.4320 - accuracy: 0.8079 - val_loss: 0.4997 - val_accuracy: 0.7600\n",
      "Epoch 95/100\n",
      "12/12 [==============================] - 0s 4ms/step - loss: 0.4310 - accuracy: 0.8079 - val_loss: 0.4985 - val_accuracy: 0.7486\n",
      "Epoch 96/100\n",
      "12/12 [==============================] - 0s 3ms/step - loss: 0.4303 - accuracy: 0.8192 - val_loss: 0.4964 - val_accuracy: 0.7486\n",
      "Epoch 97/100\n",
      "12/12 [==============================] - 0s 3ms/step - loss: 0.4297 - accuracy: 0.8192 - val_loss: 0.4968 - val_accuracy: 0.7543\n",
      "Epoch 98/100\n",
      "12/12 [==============================] - 0s 3ms/step - loss: 0.4281 - accuracy: 0.8192 - val_loss: 0.4972 - val_accuracy: 0.7486\n",
      "Epoch 99/100\n",
      "12/12 [==============================] - 0s 4ms/step - loss: 0.4273 - accuracy: 0.8107 - val_loss: 0.4985 - val_accuracy: 0.7543\n",
      "Epoch 100/100\n",
      "12/12 [==============================] - 0s 3ms/step - loss: 0.4258 - accuracy: 0.8107 - val_loss: 0.4990 - val_accuracy: 0.7543\n"
     ]
    }
   ],
   "source": [
    "model.compile(optimizer='adam', loss='binary_crossentropy', metrics=['accuracy'])\n",
    "history = model.fit(encoded_train_features,train_target,validation_data=(encoded_test_features,test_target),epochs=100,batch_size=32)"
   ]
  },
  {
   "cell_type": "code",
   "execution_count": 14,
   "metadata": {},
   "outputs": [
    {
     "name": "stdout",
     "output_type": "stream",
     "text": [
      "Test Accuracy: 75.429\n"
     ]
    }
   ],
   "source": [
    "loss, acc = model.evaluate(encoded_test_features, test_target, verbose=0)\n",
    "print('Test Accuracy: %.3f' %(acc * 100.0))"
   ]
  },
  {
   "cell_type": "code",
   "execution_count": null,
   "metadata": {},
   "outputs": [],
   "source": []
  }
 ],
 "metadata": {
  "kernelspec": {
   "display_name": "Python 3",
   "language": "python",
   "name": "python3"
  },
  "language_info": {
   "codemirror_mode": {
    "name": "ipython",
    "version": 3
   },
   "file_extension": ".py",
   "mimetype": "text/x-python",
   "name": "python",
   "nbconvert_exporter": "python",
   "pygments_lexer": "ipython3",
   "version": "3.8.8"
  }
 },
 "nbformat": 4,
 "nbformat_minor": 2
}
