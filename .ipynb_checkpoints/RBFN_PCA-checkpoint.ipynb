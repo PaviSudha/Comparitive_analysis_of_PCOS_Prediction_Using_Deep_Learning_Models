{
 "cells": [
  {
   "cell_type": "markdown",
   "id": "df6be6cd",
   "metadata": {},
   "source": [
    "# Import Libraries"
   ]
  },
  {
   "cell_type": "code",
   "execution_count": 1,
   "id": "6ce95c0e",
   "metadata": {},
   "outputs": [],
   "source": [
    "import numpy as np\n",
    "import pandas as pd\n",
    "from sklearn import svm, metrics\n",
    "from sklearn.model_selection import train_test_split\n",
    "from sklearn.preprocessing import MinMaxScaler\n",
    "import matplotlib.pyplot as plt\n",
    "import seaborn as sns\n",
    "\n",
    "from sklearn.decomposition import PCA\n",
    "\n",
    "# Import label encoder\n",
    "from sklearn import preprocessing\n",
    "\n",
    "import numpy as np\n",
    "import matplotlib.pyplot as plt\n",
    "import matplotlib.cm as cm\n",
    "import random\n",
    "from keras.models import Sequential\n",
    "from keras.layers import Activation, Dropout, Flatten, Dense, LSTM, RepeatVector, TimeDistributed\n",
    "\n",
    "from keras.layers import Layer\n",
    "from keras import backend as K\n",
    "from tensorflow import keras\n",
    "import tensorflow as tf\n",
    "from tensorflow.keras.optimizers import SGD"
   ]
  },
  {
   "cell_type": "markdown",
   "id": "5d6e363e",
   "metadata": {},
   "source": [
    "Import Dataset"
   ]
  },
  {
   "cell_type": "code",
   "execution_count": 2,
   "id": "5881d065",
   "metadata": {},
   "outputs": [],
   "source": [
    "df = pd.read_csv('data/cleaned_data1.csv')"
   ]
  },
  {
   "cell_type": "code",
   "execution_count": 3,
   "id": "d57ec261",
   "metadata": {},
   "outputs": [],
   "source": [
    "X = df.drop(columns=[\"PCOS (Y/N)\"])\n",
    "y = df[\"PCOS (Y/N)\"].values"
   ]
  },
  {
   "cell_type": "code",
   "execution_count": 4,
   "id": "ba767418",
   "metadata": {},
   "outputs": [
    {
     "data": {
      "text/plain": [
       "(529, 37)"
      ]
     },
     "execution_count": 4,
     "metadata": {},
     "output_type": "execute_result"
    }
   ],
   "source": [
    "from sklearn.preprocessing import StandardScaler\n",
    "scaler = StandardScaler()\n",
    "X = scaler.fit_transform(X)\n",
    "X.shape"
   ]
  },
  {
   "cell_type": "code",
   "execution_count": 5,
   "id": "d5a3cc96",
   "metadata": {},
   "outputs": [],
   "source": [
    "#split dataset into train and test data\n",
    "train_features, test_features, train_target, test_target = train_test_split(X,y,test_size=0.33, random_state=13)"
   ]
  },
  {
   "cell_type": "code",
   "execution_count": 6,
   "id": "63d6d0c0",
   "metadata": {},
   "outputs": [
    {
     "data": {
      "text/plain": [
       "0.559433542778356"
      ]
     },
     "execution_count": 6,
     "metadata": {},
     "output_type": "execute_result"
    }
   ],
   "source": [
    "# see explained variance ratios\n",
    "pca = PCA()\n",
    "pca.fit(train_features)\n",
    "pca.explained_variance_ratio_\n",
    "pca.explained_variance_ratio_[:10].sum()"
   ]
  },
  {
   "cell_type": "code",
   "execution_count": 7,
   "id": "241c36a1",
   "metadata": {},
   "outputs": [],
   "source": [
    "pca = PCA(n_components = 10)\n",
    "pca.fit(train_features)\n",
    "train_features_pca = pca.transform(train_features)\n",
    "test_features_pca = pca.transform(test_features)"
   ]
  },
  {
   "cell_type": "code",
   "execution_count": 8,
   "id": "b2d30180",
   "metadata": {},
   "outputs": [],
   "source": [
    "class RBFLayer(Layer):\n",
    "    def __init__(self, units, gamma, **kwargs):\n",
    "        super(RBFLayer, self).__init__(**kwargs)\n",
    "        self.units = units\n",
    "        self.gamma = K.cast_to_floatx(gamma)\n",
    "\n",
    "    def build(self, input_shape):\n",
    "#         print(input_shape)\n",
    "#         print(self.units)\n",
    "        self.mu = self.add_weight(name='mu',\n",
    "                                  shape=(int(input_shape[1]), self.units),\n",
    "                                  initializer='uniform',\n",
    "                                  trainable=True)\n",
    "        super(RBFLayer, self).build(input_shape)\n",
    "\n",
    "    def call(self, inputs):\n",
    "        diff = K.expand_dims(inputs) - self.mu\n",
    "        l2 = K.sum(K.pow(diff, 2), axis=1)\n",
    "        res = K.exp(-1 * self.gamma * l2)\n",
    "        return res\n",
    "\n",
    "    def compute_output_shape(self, input_shape):\n",
    "        return (input_shape[0], self.units)"
   ]
  },
  {
   "cell_type": "code",
   "execution_count": 9,
   "id": "085e1c0e",
   "metadata": {},
   "outputs": [
    {
     "data": {
      "text/plain": [
       "(354, 10)"
      ]
     },
     "execution_count": 9,
     "metadata": {},
     "output_type": "execute_result"
    }
   ],
   "source": [
    "train_features_pca.shape"
   ]
  },
  {
   "cell_type": "code",
   "execution_count": 10,
   "id": "9f012106",
   "metadata": {},
   "outputs": [],
   "source": [
    "model = Sequential()\n",
    "model.add(Dense(10, input_dim=10, activation='relu'))\n",
    "model.add(RBFLayer(10, 0.3))\n",
    "model.add(Dense(1, activation='sigmoid'))"
   ]
  },
  {
   "cell_type": "code",
   "execution_count": 11,
   "id": "760daea4",
   "metadata": {},
   "outputs": [
    {
     "name": "stdout",
     "output_type": "stream",
     "text": [
      "Epoch 1/100\n",
      "12/12 [==============================] - 0s 20ms/step - loss: 0.6899 - accuracy: 0.6836 - val_loss: 0.6857 - val_accuracy: 0.6571\n",
      "Epoch 2/100\n",
      "12/12 [==============================] - 0s 3ms/step - loss: 0.6847 - accuracy: 0.6836 - val_loss: 0.6803 - val_accuracy: 0.6571\n",
      "Epoch 3/100\n",
      "12/12 [==============================] - 0s 3ms/step - loss: 0.6792 - accuracy: 0.6836 - val_loss: 0.6736 - val_accuracy: 0.6571\n",
      "Epoch 4/100\n",
      "12/12 [==============================] - 0s 2ms/step - loss: 0.6727 - accuracy: 0.6836 - val_loss: 0.6658 - val_accuracy: 0.6571\n",
      "Epoch 5/100\n",
      "12/12 [==============================] - 0s 3ms/step - loss: 0.6652 - accuracy: 0.6836 - val_loss: 0.6576 - val_accuracy: 0.6571\n",
      "Epoch 6/100\n",
      "12/12 [==============================] - 0s 3ms/step - loss: 0.6568 - accuracy: 0.6836 - val_loss: 0.6474 - val_accuracy: 0.6571\n",
      "Epoch 7/100\n",
      "12/12 [==============================] - 0s 3ms/step - loss: 0.6467 - accuracy: 0.6836 - val_loss: 0.6358 - val_accuracy: 0.6571\n",
      "Epoch 8/100\n",
      "12/12 [==============================] - 0s 3ms/step - loss: 0.6364 - accuracy: 0.6836 - val_loss: 0.6237 - val_accuracy: 0.6571\n",
      "Epoch 9/100\n",
      "12/12 [==============================] - 0s 3ms/step - loss: 0.6261 - accuracy: 0.6836 - val_loss: 0.6130 - val_accuracy: 0.6571\n",
      "Epoch 10/100\n",
      "12/12 [==============================] - 0s 2ms/step - loss: 0.6151 - accuracy: 0.6836 - val_loss: 0.5999 - val_accuracy: 0.6571\n",
      "Epoch 11/100\n",
      "12/12 [==============================] - 0s 2ms/step - loss: 0.6030 - accuracy: 0.6836 - val_loss: 0.5860 - val_accuracy: 0.6571\n",
      "Epoch 12/100\n",
      "12/12 [==============================] - 0s 3ms/step - loss: 0.5901 - accuracy: 0.6836 - val_loss: 0.5714 - val_accuracy: 0.6571\n",
      "Epoch 13/100\n",
      "12/12 [==============================] - 0s 2ms/step - loss: 0.5761 - accuracy: 0.6836 - val_loss: 0.5574 - val_accuracy: 0.6571\n",
      "Epoch 14/100\n",
      "12/12 [==============================] - 0s 3ms/step - loss: 0.5632 - accuracy: 0.6836 - val_loss: 0.5438 - val_accuracy: 0.6571\n",
      "Epoch 15/100\n",
      "12/12 [==============================] - 0s 2ms/step - loss: 0.5506 - accuracy: 0.6836 - val_loss: 0.5307 - val_accuracy: 0.6571\n",
      "Epoch 16/100\n",
      "12/12 [==============================] - 0s 3ms/step - loss: 0.5386 - accuracy: 0.6836 - val_loss: 0.5179 - val_accuracy: 0.6571\n",
      "Epoch 17/100\n",
      "12/12 [==============================] - 0s 3ms/step - loss: 0.5272 - accuracy: 0.6836 - val_loss: 0.5071 - val_accuracy: 0.6571\n",
      "Epoch 18/100\n",
      "12/12 [==============================] - 0s 3ms/step - loss: 0.5173 - accuracy: 0.6836 - val_loss: 0.4976 - val_accuracy: 0.6571\n",
      "Epoch 19/100\n",
      "12/12 [==============================] - 0s 3ms/step - loss: 0.5085 - accuracy: 0.6836 - val_loss: 0.4883 - val_accuracy: 0.6571\n",
      "Epoch 20/100\n",
      "12/12 [==============================] - 0s 3ms/step - loss: 0.4998 - accuracy: 0.6836 - val_loss: 0.4799 - val_accuracy: 0.6571\n",
      "Epoch 21/100\n",
      "12/12 [==============================] - 0s 2ms/step - loss: 0.4914 - accuracy: 0.6836 - val_loss: 0.4715 - val_accuracy: 0.6571\n",
      "Epoch 22/100\n",
      "12/12 [==============================] - 0s 3ms/step - loss: 0.4838 - accuracy: 0.6836 - val_loss: 0.4632 - val_accuracy: 0.6571\n",
      "Epoch 23/100\n",
      "12/12 [==============================] - 0s 3ms/step - loss: 0.4761 - accuracy: 0.6836 - val_loss: 0.4555 - val_accuracy: 0.6571\n",
      "Epoch 24/100\n",
      "12/12 [==============================] - 0s 3ms/step - loss: 0.4682 - accuracy: 0.6836 - val_loss: 0.4480 - val_accuracy: 0.6571\n",
      "Epoch 25/100\n",
      "12/12 [==============================] - 0s 3ms/step - loss: 0.4610 - accuracy: 0.6836 - val_loss: 0.4413 - val_accuracy: 0.6571\n",
      "Epoch 26/100\n",
      "12/12 [==============================] - 0s 3ms/step - loss: 0.4543 - accuracy: 0.6836 - val_loss: 0.4356 - val_accuracy: 0.6571\n",
      "Epoch 27/100\n",
      "12/12 [==============================] - 0s 3ms/step - loss: 0.4485 - accuracy: 0.6836 - val_loss: 0.4303 - val_accuracy: 0.6571\n",
      "Epoch 28/100\n",
      "12/12 [==============================] - 0s 2ms/step - loss: 0.4430 - accuracy: 0.6836 - val_loss: 0.4258 - val_accuracy: 0.6571\n",
      "Epoch 29/100\n",
      "12/12 [==============================] - 0s 3ms/step - loss: 0.4379 - accuracy: 0.6836 - val_loss: 0.4214 - val_accuracy: 0.6571\n",
      "Epoch 30/100\n",
      "12/12 [==============================] - 0s 2ms/step - loss: 0.4336 - accuracy: 0.6836 - val_loss: 0.4187 - val_accuracy: 0.6571\n",
      "Epoch 31/100\n",
      "12/12 [==============================] - 0s 2ms/step - loss: 0.4295 - accuracy: 0.6836 - val_loss: 0.4153 - val_accuracy: 0.6571\n",
      "Epoch 32/100\n",
      "12/12 [==============================] - 0s 3ms/step - loss: 0.4257 - accuracy: 0.6836 - val_loss: 0.4111 - val_accuracy: 0.6571\n",
      "Epoch 33/100\n",
      "12/12 [==============================] - 0s 2ms/step - loss: 0.4212 - accuracy: 0.6836 - val_loss: 0.4077 - val_accuracy: 0.6571\n",
      "Epoch 34/100\n",
      "12/12 [==============================] - 0s 3ms/step - loss: 0.4174 - accuracy: 0.6836 - val_loss: 0.4042 - val_accuracy: 0.6571\n",
      "Epoch 35/100\n",
      "12/12 [==============================] - 0s 2ms/step - loss: 0.4137 - accuracy: 0.6836 - val_loss: 0.4009 - val_accuracy: 0.6571\n",
      "Epoch 36/100\n",
      "12/12 [==============================] - 0s 2ms/step - loss: 0.4099 - accuracy: 0.6836 - val_loss: 0.3979 - val_accuracy: 0.6571\n",
      "Epoch 37/100\n",
      "12/12 [==============================] - 0s 2ms/step - loss: 0.4062 - accuracy: 0.6836 - val_loss: 0.3954 - val_accuracy: 0.6571\n",
      "Epoch 38/100\n",
      "12/12 [==============================] - 0s 2ms/step - loss: 0.4032 - accuracy: 0.6836 - val_loss: 0.3930 - val_accuracy: 0.6571\n",
      "Epoch 39/100\n",
      "12/12 [==============================] - 0s 2ms/step - loss: 0.3997 - accuracy: 0.6836 - val_loss: 0.3905 - val_accuracy: 0.6571\n",
      "Epoch 40/100\n",
      "12/12 [==============================] - 0s 2ms/step - loss: 0.3965 - accuracy: 0.6836 - val_loss: 0.3882 - val_accuracy: 0.6571\n",
      "Epoch 41/100\n",
      "12/12 [==============================] - 0s 3ms/step - loss: 0.3931 - accuracy: 0.6836 - val_loss: 0.3862 - val_accuracy: 0.6571\n",
      "Epoch 42/100\n",
      "12/12 [==============================] - 0s 2ms/step - loss: 0.3903 - accuracy: 0.7571 - val_loss: 0.3843 - val_accuracy: 0.7771\n",
      "Epoch 43/100\n",
      "12/12 [==============================] - 0s 2ms/step - loss: 0.3872 - accuracy: 0.8079 - val_loss: 0.3825 - val_accuracy: 0.8057\n",
      "Epoch 44/100\n",
      "12/12 [==============================] - 0s 2ms/step - loss: 0.3847 - accuracy: 0.8390 - val_loss: 0.3815 - val_accuracy: 0.8286\n",
      "Epoch 45/100\n",
      "12/12 [==============================] - 0s 2ms/step - loss: 0.3821 - accuracy: 0.8418 - val_loss: 0.3797 - val_accuracy: 0.8457\n",
      "Epoch 46/100\n",
      "12/12 [==============================] - 0s 2ms/step - loss: 0.3795 - accuracy: 0.8446 - val_loss: 0.3786 - val_accuracy: 0.8514\n",
      "Epoch 47/100\n",
      "12/12 [==============================] - 0s 3ms/step - loss: 0.3771 - accuracy: 0.8446 - val_loss: 0.3780 - val_accuracy: 0.8686\n",
      "Epoch 48/100\n",
      "12/12 [==============================] - 0s 3ms/step - loss: 0.3752 - accuracy: 0.8503 - val_loss: 0.3767 - val_accuracy: 0.8743\n",
      "Epoch 49/100\n",
      "12/12 [==============================] - 0s 4ms/step - loss: 0.3727 - accuracy: 0.8559 - val_loss: 0.3752 - val_accuracy: 0.8743\n",
      "Epoch 50/100\n",
      "12/12 [==============================] - 0s 3ms/step - loss: 0.3705 - accuracy: 0.8588 - val_loss: 0.3735 - val_accuracy: 0.8800\n",
      "Epoch 51/100\n",
      "12/12 [==============================] - 0s 3ms/step - loss: 0.3681 - accuracy: 0.8616 - val_loss: 0.3719 - val_accuracy: 0.8743\n",
      "Epoch 52/100\n",
      "12/12 [==============================] - 0s 2ms/step - loss: 0.3661 - accuracy: 0.8672 - val_loss: 0.3703 - val_accuracy: 0.8743\n",
      "Epoch 53/100\n",
      "12/12 [==============================] - 0s 3ms/step - loss: 0.3635 - accuracy: 0.8701 - val_loss: 0.3686 - val_accuracy: 0.8743\n",
      "Epoch 54/100\n",
      "12/12 [==============================] - 0s 2ms/step - loss: 0.3614 - accuracy: 0.8701 - val_loss: 0.3670 - val_accuracy: 0.8857\n",
      "Epoch 55/100\n",
      "12/12 [==============================] - 0s 2ms/step - loss: 0.3594 - accuracy: 0.8701 - val_loss: 0.3654 - val_accuracy: 0.8857\n",
      "Epoch 56/100\n",
      "12/12 [==============================] - 0s 2ms/step - loss: 0.3575 - accuracy: 0.8701 - val_loss: 0.3637 - val_accuracy: 0.8857\n",
      "Epoch 57/100\n",
      "12/12 [==============================] - 0s 2ms/step - loss: 0.3555 - accuracy: 0.8729 - val_loss: 0.3623 - val_accuracy: 0.8971\n",
      "Epoch 58/100\n",
      "12/12 [==============================] - 0s 2ms/step - loss: 0.3537 - accuracy: 0.8757 - val_loss: 0.3611 - val_accuracy: 0.8971\n"
     ]
    },
    {
     "name": "stdout",
     "output_type": "stream",
     "text": [
      "Epoch 59/100\n",
      "12/12 [==============================] - 0s 2ms/step - loss: 0.3518 - accuracy: 0.8729 - val_loss: 0.3600 - val_accuracy: 0.9029\n",
      "Epoch 60/100\n",
      "12/12 [==============================] - 0s 2ms/step - loss: 0.3499 - accuracy: 0.8729 - val_loss: 0.3586 - val_accuracy: 0.9029\n",
      "Epoch 61/100\n",
      "12/12 [==============================] - 0s 2ms/step - loss: 0.3480 - accuracy: 0.8757 - val_loss: 0.3577 - val_accuracy: 0.9029\n",
      "Epoch 62/100\n",
      "12/12 [==============================] - 0s 2ms/step - loss: 0.3461 - accuracy: 0.8814 - val_loss: 0.3564 - val_accuracy: 0.8914\n",
      "Epoch 63/100\n",
      "12/12 [==============================] - 0s 3ms/step - loss: 0.3441 - accuracy: 0.8814 - val_loss: 0.3553 - val_accuracy: 0.8914\n",
      "Epoch 64/100\n",
      "12/12 [==============================] - 0s 3ms/step - loss: 0.3424 - accuracy: 0.8785 - val_loss: 0.3544 - val_accuracy: 0.8914\n",
      "Epoch 65/100\n",
      "12/12 [==============================] - 0s 3ms/step - loss: 0.3407 - accuracy: 0.8785 - val_loss: 0.3533 - val_accuracy: 0.8971\n",
      "Epoch 66/100\n",
      "12/12 [==============================] - 0s 2ms/step - loss: 0.3390 - accuracy: 0.8785 - val_loss: 0.3519 - val_accuracy: 0.8971\n",
      "Epoch 67/100\n",
      "12/12 [==============================] - 0s 2ms/step - loss: 0.3373 - accuracy: 0.8785 - val_loss: 0.3508 - val_accuracy: 0.9086\n",
      "Epoch 68/100\n",
      "12/12 [==============================] - 0s 3ms/step - loss: 0.3354 - accuracy: 0.8842 - val_loss: 0.3498 - val_accuracy: 0.9086\n",
      "Epoch 69/100\n",
      "12/12 [==============================] - 0s 2ms/step - loss: 0.3337 - accuracy: 0.8842 - val_loss: 0.3490 - val_accuracy: 0.9143\n",
      "Epoch 70/100\n",
      "12/12 [==============================] - 0s 3ms/step - loss: 0.3320 - accuracy: 0.8842 - val_loss: 0.3480 - val_accuracy: 0.9086\n",
      "Epoch 71/100\n",
      "12/12 [==============================] - 0s 2ms/step - loss: 0.3302 - accuracy: 0.8842 - val_loss: 0.3470 - val_accuracy: 0.9086\n",
      "Epoch 72/100\n",
      "12/12 [==============================] - 0s 2ms/step - loss: 0.3286 - accuracy: 0.8842 - val_loss: 0.3461 - val_accuracy: 0.9086\n",
      "Epoch 73/100\n",
      "12/12 [==============================] - 0s 2ms/step - loss: 0.3269 - accuracy: 0.8870 - val_loss: 0.3455 - val_accuracy: 0.9086\n",
      "Epoch 74/100\n",
      "12/12 [==============================] - 0s 2ms/step - loss: 0.3253 - accuracy: 0.8842 - val_loss: 0.3456 - val_accuracy: 0.9086\n",
      "Epoch 75/100\n",
      "12/12 [==============================] - 0s 2ms/step - loss: 0.3236 - accuracy: 0.8870 - val_loss: 0.3454 - val_accuracy: 0.9086\n",
      "Epoch 76/100\n",
      "12/12 [==============================] - 0s 2ms/step - loss: 0.3222 - accuracy: 0.8870 - val_loss: 0.3459 - val_accuracy: 0.9086\n",
      "Epoch 77/100\n",
      "12/12 [==============================] - 0s 2ms/step - loss: 0.3205 - accuracy: 0.8983 - val_loss: 0.3458 - val_accuracy: 0.9029\n",
      "Epoch 78/100\n",
      "12/12 [==============================] - 0s 2ms/step - loss: 0.3190 - accuracy: 0.8983 - val_loss: 0.3459 - val_accuracy: 0.9029\n",
      "Epoch 79/100\n",
      "12/12 [==============================] - 0s 2ms/step - loss: 0.3176 - accuracy: 0.8983 - val_loss: 0.3453 - val_accuracy: 0.9029\n",
      "Epoch 80/100\n",
      "12/12 [==============================] - 0s 2ms/step - loss: 0.3163 - accuracy: 0.8983 - val_loss: 0.3444 - val_accuracy: 0.8971\n",
      "Epoch 81/100\n",
      "12/12 [==============================] - 0s 3ms/step - loss: 0.3146 - accuracy: 0.8983 - val_loss: 0.3438 - val_accuracy: 0.8971\n",
      "Epoch 82/100\n",
      "12/12 [==============================] - 0s 3ms/step - loss: 0.3131 - accuracy: 0.8983 - val_loss: 0.3428 - val_accuracy: 0.8971\n",
      "Epoch 83/100\n",
      "12/12 [==============================] - 0s 2ms/step - loss: 0.3116 - accuracy: 0.8983 - val_loss: 0.3418 - val_accuracy: 0.9029\n",
      "Epoch 84/100\n",
      "12/12 [==============================] - 0s 2ms/step - loss: 0.3101 - accuracy: 0.9011 - val_loss: 0.3409 - val_accuracy: 0.9029\n",
      "Epoch 85/100\n",
      "12/12 [==============================] - 0s 2ms/step - loss: 0.3088 - accuracy: 0.9011 - val_loss: 0.3404 - val_accuracy: 0.9029\n",
      "Epoch 86/100\n",
      "12/12 [==============================] - 0s 3ms/step - loss: 0.3073 - accuracy: 0.9011 - val_loss: 0.3395 - val_accuracy: 0.8971\n",
      "Epoch 87/100\n",
      "12/12 [==============================] - 0s 3ms/step - loss: 0.3061 - accuracy: 0.9011 - val_loss: 0.3385 - val_accuracy: 0.9029\n",
      "Epoch 88/100\n",
      "12/12 [==============================] - 0s 3ms/step - loss: 0.3047 - accuracy: 0.9011 - val_loss: 0.3378 - val_accuracy: 0.9029\n",
      "Epoch 89/100\n",
      "12/12 [==============================] - 0s 2ms/step - loss: 0.3033 - accuracy: 0.9011 - val_loss: 0.3375 - val_accuracy: 0.9029\n",
      "Epoch 90/100\n",
      "12/12 [==============================] - 0s 2ms/step - loss: 0.3020 - accuracy: 0.8983 - val_loss: 0.3366 - val_accuracy: 0.9029\n",
      "Epoch 91/100\n",
      "12/12 [==============================] - 0s 2ms/step - loss: 0.3007 - accuracy: 0.8983 - val_loss: 0.3360 - val_accuracy: 0.9029\n",
      "Epoch 92/100\n",
      "12/12 [==============================] - 0s 2ms/step - loss: 0.2994 - accuracy: 0.8983 - val_loss: 0.3349 - val_accuracy: 0.9029\n",
      "Epoch 93/100\n",
      "12/12 [==============================] - 0s 2ms/step - loss: 0.2979 - accuracy: 0.9040 - val_loss: 0.3342 - val_accuracy: 0.9029\n",
      "Epoch 94/100\n",
      "12/12 [==============================] - 0s 3ms/step - loss: 0.2968 - accuracy: 0.9068 - val_loss: 0.3333 - val_accuracy: 0.9086\n",
      "Epoch 95/100\n",
      "12/12 [==============================] - 0s 2ms/step - loss: 0.2954 - accuracy: 0.9040 - val_loss: 0.3327 - val_accuracy: 0.9086\n",
      "Epoch 96/100\n",
      "12/12 [==============================] - 0s 2ms/step - loss: 0.2941 - accuracy: 0.9040 - val_loss: 0.3320 - val_accuracy: 0.9086\n",
      "Epoch 97/100\n",
      "12/12 [==============================] - 0s 2ms/step - loss: 0.2933 - accuracy: 0.9068 - val_loss: 0.3314 - val_accuracy: 0.9086\n",
      "Epoch 98/100\n",
      "12/12 [==============================] - 0s 2ms/step - loss: 0.2923 - accuracy: 0.9068 - val_loss: 0.3308 - val_accuracy: 0.9086\n",
      "Epoch 99/100\n",
      "12/12 [==============================] - 0s 2ms/step - loss: 0.2912 - accuracy: 0.9068 - val_loss: 0.3298 - val_accuracy: 0.9086\n",
      "Epoch 100/100\n",
      "12/12 [==============================] - 0s 2ms/step - loss: 0.2900 - accuracy: 0.9011 - val_loss: 0.3287 - val_accuracy: 0.9143\n"
     ]
    }
   ],
   "source": [
    "model.compile(optimizer='adam', loss='binary_crossentropy', metrics=['accuracy'])\n",
    "history = model.fit(train_features_pca,train_target,validation_data=(test_features_pca,test_target),epochs=100,batch_size=32)"
   ]
  },
  {
   "cell_type": "code",
   "execution_count": 12,
   "id": "30cd4f13",
   "metadata": {},
   "outputs": [
    {
     "name": "stdout",
     "output_type": "stream",
     "text": [
      "Model: \"sequential\"\n",
      "_________________________________________________________________\n",
      "Layer (type)                 Output Shape              Param #   \n",
      "=================================================================\n",
      "dense (Dense)                (None, 10)                110       \n",
      "_________________________________________________________________\n",
      "rbf_layer (RBFLayer)         (None, 10)                100       \n",
      "_________________________________________________________________\n",
      "dense_1 (Dense)              (None, 1)                 11        \n",
      "=================================================================\n",
      "Total params: 221\n",
      "Trainable params: 221\n",
      "Non-trainable params: 0\n",
      "_________________________________________________________________\n"
     ]
    }
   ],
   "source": [
    "model.summary()"
   ]
  },
  {
   "cell_type": "code",
   "execution_count": 13,
   "id": "820cc261",
   "metadata": {},
   "outputs": [
    {
     "data": {
      "image/png": "[encoded data removed]",
      "text/plain": [
       "<Figure size 432x288 with 1 Axes>"
      ]
     },
     "metadata": {
      "needs_background": "light"
     },
     "output_type": "display_data"
    }
   ],
   "source": [
    "plt.plot(history.history['loss'],label='Training Loss')\n",
    "plt.plot(history.history['val_loss'],label='Validation Loss')\n",
    "plt.title('Model Loss')\n",
    "plt.ylabel('Loss')\n",
    "plt.xlabel('epoch')\n",
    "plt.legend(['train','Validation'],loc='upper right')\n",
    "plt.show()"
   ]
  },
  {
   "cell_type": "code",
   "execution_count": 14,
   "id": "70d4472b",
   "metadata": {},
   "outputs": [
    {
     "data": {
      "image/png": "[encoded data removed]",
      "text/plain": [
       "<Figure size 432x288 with 1 Axes>"
      ]
     },
     "metadata": {
      "needs_background": "light"
     },
     "output_type": "display_data"
    }
   ],
   "source": [
    "plt.plot(history.history['accuracy'],label='Training accuracy')\n",
    "plt.plot(history.history['val_accuracy'],label='Validation accuracy')\n",
    "plt.title('Model accuracy')\n",
    "plt.ylabel('Loss')\n",
    "plt.xlabel('epoch')\n",
    "plt.legend(['train','Accuracy'],loc='upper right')\n",
    "plt.show()"
   ]
  },
  {
   "cell_type": "code",
   "execution_count": 15,
   "id": "865ffa67",
   "metadata": {},
   "outputs": [
    {
     "name": "stdout",
     "output_type": "stream",
     "text": [
      "Test Accuracy: 91.429\n"
     ]
    }
   ],
   "source": [
    "loss, acc = model.evaluate(test_features_pca, test_target, verbose=0)\n",
    "print('Test Accuracy: %.3f' %(acc * 100.0))"
   ]
  },
  {
   "cell_type": "code",
   "execution_count": 16,
   "id": "8dd27b13",
   "metadata": {},
   "outputs": [
    {
     "data": {
      "text/plain": [
       "array([[109,   6],\n",
       "       [  9,  51]], dtype=int64)"
      ]
     },
     "execution_count": 16,
     "metadata": {},
     "output_type": "execute_result"
    }
   ],
   "source": [
    "from sklearn.metrics import classification_report, confusion_matrix\n",
    "\n",
    "prediction = model.predict(test_features_pca)\n",
    "data = []\n",
    "for x in prediction:\n",
    "    # if the weights >0.5 then classified as 1 else classified as 0\n",
    "    if x[0] > 0.5:\n",
    "        data.append(1)\n",
    "    else:\n",
    "        data.append(0)\n",
    "\n",
    "cnf_matrix = confusion_matrix(test_target, data)\n",
    "cnf_matrix"
   ]
  },
  {
   "cell_type": "code",
   "execution_count": 17,
   "id": "d74d1131",
   "metadata": {},
   "outputs": [
    {
     "name": "stdout",
     "output_type": "stream",
     "text": [
      "Radial Basis Function Network: \n",
      "               precision    recall  f1-score   support\n",
      "\n",
      "           0       0.92      0.95      0.94       115\n",
      "           1       0.89      0.85      0.87        60\n",
      "\n",
      "    accuracy                           0.91       175\n",
      "   macro avg       0.91      0.90      0.90       175\n",
      "weighted avg       0.91      0.91      0.91       175\n",
      " \n",
      "\n"
     ]
    }
   ],
   "source": [
    "print('Radial Basis Function Network: \\n', classification_report(test_target, data),'\\n')"
   ]
  },
  {
   "cell_type": "code",
   "execution_count": 18,
   "id": "2bd673f6",
   "metadata": {},
   "outputs": [
    {
     "name": "stdout",
     "output_type": "stream",
     "text": [
      "Traning RMSE: 0.2984\n",
      "\n",
      "\n",
      "Testing RMSE: 0.3141\n"
     ]
    }
   ],
   "source": [
    "#Validation\n",
    "\n",
    "from sklearn.metrics import mean_squared_error\n",
    "from math import sqrt\n",
    "\n",
    "#calculate RMSE\n",
    "RMSE_test = sqrt(mean_squared_error(test_target, prediction)) \n",
    "\n",
    "#Traning\n",
    "\n",
    "from sklearn.metrics import mean_squared_error\n",
    "from math import sqrt\n",
    "train_prediction = model.predict(train_features_pca)\n",
    "#calculate RMSE\n",
    "RMSE_train = sqrt(mean_squared_error(train_target, train_prediction))\n",
    "\n",
    "print('Traning RMSE: %.4f'%RMSE_train)\n",
    "print('\\n')\n",
    "print('Testing RMSE: %.4f'%RMSE_test)"
   ]
  },
  {
   "cell_type": "code",
   "execution_count": 19,
   "id": "69604dcf",
   "metadata": {},
   "outputs": [
    {
     "name": "stdout",
     "output_type": "stream",
     "text": [
      "Traning MAE: 0.2984\n",
      "\n",
      "\n",
      "Testing MAE: 0.2272\n"
     ]
    }
   ],
   "source": [
    "#Validation\n",
    "\n",
    "from sklearn.metrics import mean_absolute_error\n",
    "from math import sqrt\n",
    "\n",
    "#calculate RMSE\n",
    "MAE_test = mean_absolute_error(test_target, prediction)\n",
    "\n",
    "#Traning\n",
    "\n",
    "from sklearn.metrics import mean_squared_error\n",
    "from math import sqrt\n",
    "train_prediction = model.predict(train_features_pca)\n",
    "#calculate RMSE\n",
    "MAE_train = sqrt(mean_squared_error(train_target, train_prediction))\n",
    "\n",
    "print('Traning MAE: %.4f'%MAE_train)\n",
    "print('\\n')\n",
    "print('Testing MAE: %.4f'%MAE_test)"
   ]
  },
  {
   "cell_type": "code",
   "execution_count": null,
   "id": "55a08dab",
   "metadata": {},
   "outputs": [],
   "source": []
  }
 ],
 "metadata": {
  "kernelspec": {
   "display_name": "Python 3",
   "language": "python",
   "name": "python3"
  },
  "language_info": {
   "codemirror_mode": {
    "name": "ipython",
    "version": 3
   },
   "file_extension": ".py",
   "mimetype": "text/x-python",
   "name": "python",
   "nbconvert_exporter": "python",
   "pygments_lexer": "ipython3",
   "version": "3.8.8"
  }
 },
 "nbformat": 4,
 "nbformat_minor": 5
}
