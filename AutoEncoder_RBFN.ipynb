{
 "cells": [
  {
   "cell_type": "code",
   "execution_count": 1,
   "metadata": {},
   "outputs": [],
   "source": [
    "import pandas as pd\n",
    "import numpy as np\n",
    "import matplotlib.pyplot as plt\n",
    "from keras.layers import Input, Dense\n",
    "from sklearn.model_selection import train_test_split\n",
    "from sklearn import metrics\n",
    "from keras.models import Model\n",
    "\n",
    "#import tensorflow libraries \n",
    "import tensorflow as tf\n",
    "from tensorflow.keras import Sequential\n",
    "from tensorflow.keras.layers import Dense\n",
    "from tensorflow.keras.optimizers import SGD\n",
    "\n",
    "from keras.models import Sequential\n",
    "\n",
    "from sklearn.metrics import classification_report, confusion_matrix\n",
    "\n",
    "from keras.layers import Layer\n",
    "from keras import backend as K\n",
    "from tensorflow import keras\n",
    "import tensorflow as tf\n",
    "from tensorflow.keras.optimizers import SGD"
   ]
  },
  {
   "cell_type": "code",
   "execution_count": 2,
   "metadata": {},
   "outputs": [],
   "source": [
    "df = pd.read_csv(\"data/cleaned_data1.csv\")"
   ]
  },
  {
   "cell_type": "code",
   "execution_count": 3,
   "metadata": {},
   "outputs": [],
   "source": [
    "X = df.drop(columns=[\"PCOS (Y/N)\"])\n",
    "y = df[\"PCOS (Y/N)\"].values\n",
    "\n",
    "# implementing train-test-split\n",
    "train_features, test_features, train_target, test_target = train_test_split(X, y, test_size=0.33, random_state=13)"
   ]
  },
  {
   "cell_type": "code",
   "execution_count": 4,
   "metadata": {},
   "outputs": [],
   "source": [
    "from sklearn.preprocessing import StandardScaler\n",
    "S = StandardScaler()\n",
    "train_features = S.fit_transform(train_features)\n",
    "test_features = S.fit_transform(test_features)"
   ]
  },
  {
   "cell_type": "markdown",
   "metadata": {},
   "source": [
    "Dimensionality Reduction using AutoEncoders"
   ]
  },
  {
   "cell_type": "code",
   "execution_count": 5,
   "metadata": {},
   "outputs": [],
   "source": [
    "encoding_dim = 10\n",
    "\n",
    "input_df = Input(shape=(37,))\n",
    "encoded = Dense(encoding_dim, activation='relu')(input_df)\n",
    "decoded = Dense(37, activation='relu')(encoded)\n",
    "\n",
    "# encoder\n",
    "autoencoder = Model(input_df, decoded)\n",
    "\n",
    "# intermediate result\n",
    "encoder = Model(input_df, encoded)"
   ]
  },
  {
   "cell_type": "markdown",
   "metadata": {},
   "source": [
    "Apply ANN on reduced dimensional features"
   ]
  },
  {
   "cell_type": "code",
   "execution_count": 6,
   "metadata": {},
   "outputs": [],
   "source": [
    "encoded_train_features = encoder.predict(train_features)\n",
    "encoded_test_features = encoder.predict(test_features)"
   ]
  },
  {
   "cell_type": "code",
   "execution_count": 7,
   "metadata": {},
   "outputs": [
    {
     "data": {
      "text/plain": [
       "10"
      ]
     },
     "execution_count": 7,
     "metadata": {},
     "output_type": "execute_result"
    }
   ],
   "source": [
    "n_features = encoded_train_features.shape[1]\n",
    "n_features"
   ]
  },
  {
   "cell_type": "code",
   "execution_count": 8,
   "metadata": {},
   "outputs": [],
   "source": [
    "class RBFLayer(Layer):\n",
    "    def __init__(self, units, gamma, **kwargs):\n",
    "        super(RBFLayer, self).__init__(**kwargs)\n",
    "        self.units = units\n",
    "        self.gamma = K.cast_to_floatx(gamma)\n",
    "\n",
    "    def build(self, input_shape):\n",
    "#         print(input_shape)\n",
    "#         print(self.units)\n",
    "        self.mu = self.add_weight(name='mu',\n",
    "                                  shape=(int(input_shape[1]), self.units),\n",
    "                                  initializer='uniform',\n",
    "                                  trainable=True)\n",
    "        super(RBFLayer, self).build(input_shape)\n",
    "\n",
    "    def call(self, inputs):\n",
    "        diff = K.expand_dims(inputs) - self.mu\n",
    "        l2 = K.sum(K.pow(diff, 2), axis=1)\n",
    "        res = K.exp(-1 * self.gamma * l2)\n",
    "        return res\n",
    "\n",
    "    def compute_output_shape(self, input_shape):\n",
    "        return (input_shape[0], self.units)"
   ]
  },
  {
   "cell_type": "code",
   "execution_count": 9,
   "metadata": {},
   "outputs": [],
   "source": [
    "model = Sequential()\n",
    "model.add(Dense(10, input_dim=10, activation='relu'))\n",
    "model.add(RBFLayer(10, 0.3))\n",
    "model.add(Dense(1, activation='sigmoid'))"
   ]
  },
  {
   "cell_type": "code",
   "execution_count": 10,
   "metadata": {},
   "outputs": [
    {
     "name": "stdout",
     "output_type": "stream",
     "text": [
      "Epoch 1/100\n",
      "12/12 [==============================] - 0s 31ms/step - loss: 0.7244 - accuracy: 0.3333 - val_loss: 0.7097 - val_accuracy: 0.4000\n",
      "Epoch 2/100\n",
      "12/12 [==============================] - 0s 5ms/step - loss: 0.7039 - accuracy: 0.4576 - val_loss: 0.6942 - val_accuracy: 0.5086\n",
      "Epoch 3/100\n",
      "12/12 [==============================] - 0s 4ms/step - loss: 0.6898 - accuracy: 0.6158 - val_loss: 0.6846 - val_accuracy: 0.6400\n",
      "Epoch 4/100\n",
      "12/12 [==============================] - 0s 4ms/step - loss: 0.6789 - accuracy: 0.6638 - val_loss: 0.6751 - val_accuracy: 0.6571\n",
      "Epoch 5/100\n",
      "12/12 [==============================] - 0s 4ms/step - loss: 0.6688 - accuracy: 0.6836 - val_loss: 0.6671 - val_accuracy: 0.6571\n",
      "Epoch 6/100\n",
      "12/12 [==============================] - 0s 5ms/step - loss: 0.6597 - accuracy: 0.6836 - val_loss: 0.6600 - val_accuracy: 0.6571\n",
      "Epoch 7/100\n",
      "12/12 [==============================] - 0s 4ms/step - loss: 0.6520 - accuracy: 0.6836 - val_loss: 0.6534 - val_accuracy: 0.6571\n",
      "Epoch 8/100\n",
      "12/12 [==============================] - 0s 3ms/step - loss: 0.6437 - accuracy: 0.6836 - val_loss: 0.6480 - val_accuracy: 0.6571\n",
      "Epoch 9/100\n",
      "12/12 [==============================] - 0s 3ms/step - loss: 0.6363 - accuracy: 0.6836 - val_loss: 0.6417 - val_accuracy: 0.6571\n",
      "Epoch 10/100\n",
      "12/12 [==============================] - 0s 3ms/step - loss: 0.6279 - accuracy: 0.6836 - val_loss: 0.6358 - val_accuracy: 0.6571\n",
      "Epoch 11/100\n",
      "12/12 [==============================] - 0s 3ms/step - loss: 0.6198 - accuracy: 0.6836 - val_loss: 0.6307 - val_accuracy: 0.6571\n",
      "Epoch 12/100\n",
      "12/12 [==============================] - 0s 3ms/step - loss: 0.6132 - accuracy: 0.6836 - val_loss: 0.6265 - val_accuracy: 0.6571\n",
      "Epoch 13/100\n",
      "12/12 [==============================] - 0s 3ms/step - loss: 0.6073 - accuracy: 0.6836 - val_loss: 0.6221 - val_accuracy: 0.6571\n",
      "Epoch 14/100\n",
      "12/12 [==============================] - 0s 3ms/step - loss: 0.6016 - accuracy: 0.6836 - val_loss: 0.6183 - val_accuracy: 0.6571\n",
      "Epoch 15/100\n",
      "12/12 [==============================] - 0s 3ms/step - loss: 0.5969 - accuracy: 0.6836 - val_loss: 0.6147 - val_accuracy: 0.6571\n",
      "Epoch 16/100\n",
      "12/12 [==============================] - 0s 3ms/step - loss: 0.5924 - accuracy: 0.6836 - val_loss: 0.6109 - val_accuracy: 0.6571\n",
      "Epoch 17/100\n",
      "12/12 [==============================] - 0s 4ms/step - loss: 0.5869 - accuracy: 0.6836 - val_loss: 0.6083 - val_accuracy: 0.6571\n",
      "Epoch 18/100\n",
      "12/12 [==============================] - 0s 4ms/step - loss: 0.5828 - accuracy: 0.6836 - val_loss: 0.6065 - val_accuracy: 0.6571\n",
      "Epoch 19/100\n",
      "12/12 [==============================] - 0s 3ms/step - loss: 0.5787 - accuracy: 0.6836 - val_loss: 0.6043 - val_accuracy: 0.6571\n",
      "Epoch 20/100\n",
      "12/12 [==============================] - 0s 3ms/step - loss: 0.5753 - accuracy: 0.6836 - val_loss: 0.6020 - val_accuracy: 0.6571\n",
      "Epoch 21/100\n",
      "12/12 [==============================] - 0s 3ms/step - loss: 0.5715 - accuracy: 0.6836 - val_loss: 0.6004 - val_accuracy: 0.6571\n",
      "Epoch 22/100\n",
      "12/12 [==============================] - 0s 4ms/step - loss: 0.5683 - accuracy: 0.6836 - val_loss: 0.5989 - val_accuracy: 0.6571\n",
      "Epoch 23/100\n",
      "12/12 [==============================] - 0s 3ms/step - loss: 0.5657 - accuracy: 0.6836 - val_loss: 0.5980 - val_accuracy: 0.6571\n",
      "Epoch 24/100\n",
      "12/12 [==============================] - 0s 4ms/step - loss: 0.5627 - accuracy: 0.6836 - val_loss: 0.5967 - val_accuracy: 0.6571\n",
      "Epoch 25/100\n",
      "12/12 [==============================] - 0s 4ms/step - loss: 0.5605 - accuracy: 0.6836 - val_loss: 0.5958 - val_accuracy: 0.6571\n",
      "Epoch 26/100\n",
      "12/12 [==============================] - 0s 4ms/step - loss: 0.5584 - accuracy: 0.6836 - val_loss: 0.5933 - val_accuracy: 0.6571\n",
      "Epoch 27/100\n",
      "12/12 [==============================] - 0s 5ms/step - loss: 0.5563 - accuracy: 0.6836 - val_loss: 0.5910 - val_accuracy: 0.6571\n",
      "Epoch 28/100\n",
      "12/12 [==============================] - 0s 5ms/step - loss: 0.5543 - accuracy: 0.6836 - val_loss: 0.5896 - val_accuracy: 0.6571\n",
      "Epoch 29/100\n",
      "12/12 [==============================] - 0s 4ms/step - loss: 0.5522 - accuracy: 0.6836 - val_loss: 0.5887 - val_accuracy: 0.6571\n",
      "Epoch 30/100\n",
      "12/12 [==============================] - 0s 4ms/step - loss: 0.5505 - accuracy: 0.6836 - val_loss: 0.5875 - val_accuracy: 0.6571\n",
      "Epoch 31/100\n",
      "12/12 [==============================] - 0s 5ms/step - loss: 0.5493 - accuracy: 0.6836 - val_loss: 0.5867 - val_accuracy: 0.6571\n",
      "Epoch 32/100\n",
      "12/12 [==============================] - 0s 5ms/step - loss: 0.5472 - accuracy: 0.6836 - val_loss: 0.5858 - val_accuracy: 0.6571\n",
      "Epoch 33/100\n",
      "12/12 [==============================] - 0s 4ms/step - loss: 0.5456 - accuracy: 0.6836 - val_loss: 0.5847 - val_accuracy: 0.6571\n",
      "Epoch 34/100\n",
      "12/12 [==============================] - 0s 3ms/step - loss: 0.5441 - accuracy: 0.6836 - val_loss: 0.5840 - val_accuracy: 0.6571\n",
      "Epoch 35/100\n",
      "12/12 [==============================] - 0s 4ms/step - loss: 0.5421 - accuracy: 0.6836 - val_loss: 0.5834 - val_accuracy: 0.6571\n",
      "Epoch 36/100\n",
      "12/12 [==============================] - 0s 4ms/step - loss: 0.5407 - accuracy: 0.6836 - val_loss: 0.5820 - val_accuracy: 0.6571\n",
      "Epoch 37/100\n",
      "12/12 [==============================] - 0s 5ms/step - loss: 0.5389 - accuracy: 0.6836 - val_loss: 0.5814 - val_accuracy: 0.6571\n",
      "Epoch 38/100\n",
      "12/12 [==============================] - 0s 3ms/step - loss: 0.5374 - accuracy: 0.6836 - val_loss: 0.5811 - val_accuracy: 0.6571\n",
      "Epoch 39/100\n",
      "12/12 [==============================] - 0s 4ms/step - loss: 0.5355 - accuracy: 0.6836 - val_loss: 0.5797 - val_accuracy: 0.6571\n",
      "Epoch 40/100\n",
      "12/12 [==============================] - 0s 4ms/step - loss: 0.5340 - accuracy: 0.6836 - val_loss: 0.5783 - val_accuracy: 0.6571\n",
      "Epoch 41/100\n",
      "12/12 [==============================] - 0s 4ms/step - loss: 0.5327 - accuracy: 0.6836 - val_loss: 0.5780 - val_accuracy: 0.6571\n",
      "Epoch 42/100\n",
      "12/12 [==============================] - 0s 3ms/step - loss: 0.5312 - accuracy: 0.6836 - val_loss: 0.5771 - val_accuracy: 0.6571\n",
      "Epoch 43/100\n",
      "12/12 [==============================] - 0s 4ms/step - loss: 0.5303 - accuracy: 0.6836 - val_loss: 0.5768 - val_accuracy: 0.6571\n",
      "Epoch 44/100\n",
      "12/12 [==============================] - 0s 4ms/step - loss: 0.5290 - accuracy: 0.6836 - val_loss: 0.5770 - val_accuracy: 0.6571\n",
      "Epoch 45/100\n",
      "12/12 [==============================] - 0s 4ms/step - loss: 0.5273 - accuracy: 0.6836 - val_loss: 0.5768 - val_accuracy: 0.6571\n",
      "Epoch 46/100\n",
      "12/12 [==============================] - 0s 4ms/step - loss: 0.5259 - accuracy: 0.6836 - val_loss: 0.5765 - val_accuracy: 0.6571\n",
      "Epoch 47/100\n",
      "12/12 [==============================] - 0s 3ms/step - loss: 0.5246 - accuracy: 0.6836 - val_loss: 0.5765 - val_accuracy: 0.6571\n",
      "Epoch 48/100\n",
      "12/12 [==============================] - 0s 4ms/step - loss: 0.5232 - accuracy: 0.6836 - val_loss: 0.5764 - val_accuracy: 0.6571\n",
      "Epoch 49/100\n",
      "12/12 [==============================] - 0s 3ms/step - loss: 0.5219 - accuracy: 0.6836 - val_loss: 0.5762 - val_accuracy: 0.6571\n",
      "Epoch 50/100\n",
      "12/12 [==============================] - 0s 3ms/step - loss: 0.5207 - accuracy: 0.6836 - val_loss: 0.5764 - val_accuracy: 0.6571\n",
      "Epoch 51/100\n",
      "12/12 [==============================] - 0s 3ms/step - loss: 0.5197 - accuracy: 0.6836 - val_loss: 0.5764 - val_accuracy: 0.6571\n",
      "Epoch 52/100\n",
      "12/12 [==============================] - 0s 3ms/step - loss: 0.5185 - accuracy: 0.6836 - val_loss: 0.5768 - val_accuracy: 0.6571\n",
      "Epoch 53/100\n",
      "12/12 [==============================] - 0s 3ms/step - loss: 0.5173 - accuracy: 0.6836 - val_loss: 0.5768 - val_accuracy: 0.6571\n",
      "Epoch 54/100\n",
      "12/12 [==============================] - 0s 3ms/step - loss: 0.5161 - accuracy: 0.6836 - val_loss: 0.5750 - val_accuracy: 0.6571\n",
      "Epoch 55/100\n",
      "12/12 [==============================] - 0s 3ms/step - loss: 0.5151 - accuracy: 0.6836 - val_loss: 0.5742 - val_accuracy: 0.6571\n",
      "Epoch 56/100\n",
      "12/12 [==============================] - 0s 3ms/step - loss: 0.5140 - accuracy: 0.6836 - val_loss: 0.5739 - val_accuracy: 0.6571\n",
      "Epoch 57/100\n",
      "12/12 [==============================] - 0s 3ms/step - loss: 0.5128 - accuracy: 0.6836 - val_loss: 0.5738 - val_accuracy: 0.6571\n",
      "Epoch 58/100\n",
      "12/12 [==============================] - 0s 3ms/step - loss: 0.5117 - accuracy: 0.6836 - val_loss: 0.5738 - val_accuracy: 0.6571\n"
     ]
    },
    {
     "name": "stdout",
     "output_type": "stream",
     "text": [
      "Epoch 59/100\n",
      "12/12 [==============================] - 0s 3ms/step - loss: 0.5106 - accuracy: 0.6836 - val_loss: 0.5740 - val_accuracy: 0.6571\n",
      "Epoch 60/100\n",
      "12/12 [==============================] - 0s 3ms/step - loss: 0.5098 - accuracy: 0.6836 - val_loss: 0.5743 - val_accuracy: 0.6571\n",
      "Epoch 61/100\n",
      "12/12 [==============================] - 0s 3ms/step - loss: 0.5087 - accuracy: 0.6836 - val_loss: 0.5734 - val_accuracy: 0.6571\n",
      "Epoch 62/100\n",
      "12/12 [==============================] - 0s 3ms/step - loss: 0.5074 - accuracy: 0.6836 - val_loss: 0.5731 - val_accuracy: 0.6571\n",
      "Epoch 63/100\n",
      "12/12 [==============================] - 0s 3ms/step - loss: 0.5067 - accuracy: 0.6836 - val_loss: 0.5728 - val_accuracy: 0.6571\n",
      "Epoch 64/100\n",
      "12/12 [==============================] - 0s 3ms/step - loss: 0.5057 - accuracy: 0.6836 - val_loss: 0.5715 - val_accuracy: 0.6571\n",
      "Epoch 65/100\n",
      "12/12 [==============================] - 0s 3ms/step - loss: 0.5048 - accuracy: 0.7006 - val_loss: 0.5713 - val_accuracy: 0.6743\n",
      "Epoch 66/100\n",
      "12/12 [==============================] - 0s 3ms/step - loss: 0.5040 - accuracy: 0.7203 - val_loss: 0.5716 - val_accuracy: 0.6800\n",
      "Epoch 67/100\n",
      "12/12 [==============================] - 0s 3ms/step - loss: 0.5029 - accuracy: 0.7232 - val_loss: 0.5723 - val_accuracy: 0.6800\n",
      "Epoch 68/100\n",
      "12/12 [==============================] - 0s 3ms/step - loss: 0.5024 - accuracy: 0.7232 - val_loss: 0.5735 - val_accuracy: 0.6800\n",
      "Epoch 69/100\n",
      "12/12 [==============================] - 0s 3ms/step - loss: 0.5014 - accuracy: 0.7232 - val_loss: 0.5735 - val_accuracy: 0.6857\n",
      "Epoch 70/100\n",
      "12/12 [==============================] - 0s 3ms/step - loss: 0.5008 - accuracy: 0.7288 - val_loss: 0.5726 - val_accuracy: 0.6914\n",
      "Epoch 71/100\n",
      "12/12 [==============================] - 0s 3ms/step - loss: 0.4998 - accuracy: 0.7345 - val_loss: 0.5718 - val_accuracy: 0.6914\n",
      "Epoch 72/100\n",
      "12/12 [==============================] - 0s 3ms/step - loss: 0.4990 - accuracy: 0.7345 - val_loss: 0.5715 - val_accuracy: 0.6914\n",
      "Epoch 73/100\n",
      "12/12 [==============================] - 0s 3ms/step - loss: 0.4982 - accuracy: 0.7345 - val_loss: 0.5719 - val_accuracy: 0.6914\n",
      "Epoch 74/100\n",
      "12/12 [==============================] - 0s 3ms/step - loss: 0.4973 - accuracy: 0.7401 - val_loss: 0.5716 - val_accuracy: 0.7029\n",
      "Epoch 75/100\n",
      "12/12 [==============================] - 0s 3ms/step - loss: 0.4963 - accuracy: 0.7429 - val_loss: 0.5715 - val_accuracy: 0.7029\n",
      "Epoch 76/100\n",
      "12/12 [==============================] - 0s 3ms/step - loss: 0.4955 - accuracy: 0.7429 - val_loss: 0.5717 - val_accuracy: 0.7029\n",
      "Epoch 77/100\n",
      "12/12 [==============================] - 0s 3ms/step - loss: 0.4948 - accuracy: 0.7401 - val_loss: 0.5716 - val_accuracy: 0.7029\n",
      "Epoch 78/100\n",
      "12/12 [==============================] - 0s 3ms/step - loss: 0.4941 - accuracy: 0.7401 - val_loss: 0.5721 - val_accuracy: 0.7029\n",
      "Epoch 79/100\n",
      "12/12 [==============================] - 0s 2ms/step - loss: 0.4933 - accuracy: 0.7401 - val_loss: 0.5721 - val_accuracy: 0.7029\n",
      "Epoch 80/100\n",
      "12/12 [==============================] - 0s 3ms/step - loss: 0.4927 - accuracy: 0.7401 - val_loss: 0.5720 - val_accuracy: 0.6971\n",
      "Epoch 81/100\n",
      "12/12 [==============================] - 0s 3ms/step - loss: 0.4921 - accuracy: 0.7401 - val_loss: 0.5732 - val_accuracy: 0.6971\n",
      "Epoch 82/100\n",
      "12/12 [==============================] - 0s 4ms/step - loss: 0.4913 - accuracy: 0.7401 - val_loss: 0.5728 - val_accuracy: 0.7029\n",
      "Epoch 83/100\n",
      "12/12 [==============================] - 0s 2ms/step - loss: 0.4905 - accuracy: 0.7429 - val_loss: 0.5735 - val_accuracy: 0.7029\n",
      "Epoch 84/100\n",
      "12/12 [==============================] - 0s 3ms/step - loss: 0.4899 - accuracy: 0.7429 - val_loss: 0.5738 - val_accuracy: 0.7029\n",
      "Epoch 85/100\n",
      "12/12 [==============================] - 0s 3ms/step - loss: 0.4890 - accuracy: 0.7429 - val_loss: 0.5737 - val_accuracy: 0.7086\n",
      "Epoch 86/100\n",
      "12/12 [==============================] - 0s 3ms/step - loss: 0.4882 - accuracy: 0.7542 - val_loss: 0.5733 - val_accuracy: 0.7143\n",
      "Epoch 87/100\n",
      "12/12 [==============================] - 0s 3ms/step - loss: 0.4873 - accuracy: 0.7458 - val_loss: 0.5715 - val_accuracy: 0.7086\n",
      "Epoch 88/100\n",
      "12/12 [==============================] - 0s 3ms/step - loss: 0.4863 - accuracy: 0.7486 - val_loss: 0.5713 - val_accuracy: 0.7029\n",
      "Epoch 89/100\n",
      "12/12 [==============================] - 0s 3ms/step - loss: 0.4859 - accuracy: 0.7514 - val_loss: 0.5712 - val_accuracy: 0.7029\n",
      "Epoch 90/100\n",
      "12/12 [==============================] - 0s 3ms/step - loss: 0.4847 - accuracy: 0.7486 - val_loss: 0.5702 - val_accuracy: 0.7257\n",
      "Epoch 91/100\n",
      "12/12 [==============================] - 0s 3ms/step - loss: 0.4841 - accuracy: 0.7571 - val_loss: 0.5688 - val_accuracy: 0.7143\n",
      "Epoch 92/100\n",
      "12/12 [==============================] - 0s 3ms/step - loss: 0.4833 - accuracy: 0.7514 - val_loss: 0.5684 - val_accuracy: 0.7086\n",
      "Epoch 93/100\n",
      "12/12 [==============================] - 0s 3ms/step - loss: 0.4833 - accuracy: 0.7514 - val_loss: 0.5678 - val_accuracy: 0.7029\n",
      "Epoch 94/100\n",
      "12/12 [==============================] - 0s 3ms/step - loss: 0.4825 - accuracy: 0.7486 - val_loss: 0.5673 - val_accuracy: 0.7143\n",
      "Epoch 95/100\n",
      "12/12 [==============================] - 0s 3ms/step - loss: 0.4818 - accuracy: 0.7486 - val_loss: 0.5683 - val_accuracy: 0.7086\n",
      "Epoch 96/100\n",
      "12/12 [==============================] - 0s 3ms/step - loss: 0.4808 - accuracy: 0.7514 - val_loss: 0.5690 - val_accuracy: 0.7086\n",
      "Epoch 97/100\n",
      "12/12 [==============================] - 0s 3ms/step - loss: 0.4801 - accuracy: 0.7542 - val_loss: 0.5696 - val_accuracy: 0.7086\n",
      "Epoch 98/100\n",
      "12/12 [==============================] - 0s 2ms/step - loss: 0.4794 - accuracy: 0.7514 - val_loss: 0.5693 - val_accuracy: 0.7143\n",
      "Epoch 99/100\n",
      "12/12 [==============================] - 0s 3ms/step - loss: 0.4791 - accuracy: 0.7514 - val_loss: 0.5696 - val_accuracy: 0.7086\n",
      "Epoch 100/100\n",
      "12/12 [==============================] - 0s 3ms/step - loss: 0.4785 - accuracy: 0.7571 - val_loss: 0.5707 - val_accuracy: 0.7086\n"
     ]
    }
   ],
   "source": [
    "model.compile(optimizer='adam', loss='binary_crossentropy', metrics=['accuracy'])\n",
    "history = model.fit(encoded_train_features,train_target,validation_data=(encoded_test_features,test_target),epochs=100,batch_size=32)"
   ]
  },
  {
   "cell_type": "code",
   "execution_count": 11,
   "metadata": {},
   "outputs": [
    {
     "name": "stdout",
     "output_type": "stream",
     "text": [
      "Test Accuracy: 70.857\n"
     ]
    }
   ],
   "source": [
    "loss, acc = model.evaluate(encoded_test_features, test_target, verbose=0)\n",
    "print('Test Accuracy: %.3f' %(acc * 100.0))"
   ]
  },
  {
   "cell_type": "code",
   "execution_count": null,
   "metadata": {},
   "outputs": [],
   "source": []
  }
 ],
 "metadata": {
  "kernelspec": {
   "display_name": "Python 3",
   "language": "python",
   "name": "python3"
  },
  "language_info": {
   "codemirror_mode": {
    "name": "ipython",
    "version": 3
   },
   "file_extension": ".py",
   "mimetype": "text/x-python",
   "name": "python",
   "nbconvert_exporter": "python",
   "pygments_lexer": "ipython3",
   "version": "3.8.8"
  }
 },
 "nbformat": 4,
 "nbformat_minor": 2
}
